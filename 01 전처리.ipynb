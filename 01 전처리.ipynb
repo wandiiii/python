{
 "cells": [
  {
   "cell_type": "code",
   "execution_count": 97,
   "id": "b11ee3a9",
   "metadata": {
    "ExecuteTime": {
     "end_time": "2021-12-28T23:55:40.960135Z",
     "start_time": "2021-12-28T23:55:40.943181Z"
    }
   },
   "outputs": [],
   "source": [
    "import pandas as pd\n",
    "import numpy as np\n",
    "import matplotlib.pyplot as plt\n",
    "import seaborn as sns\n",
    "\n",
    "import datetime\n",
    "import missingno as msno\n",
    "import warnings\n",
    "warnings.filterwarnings('ignore')\n",
    "%matplotlib inline"
   ]
  },
  {
   "cell_type": "code",
   "execution_count": 98,
   "id": "1846d75b",
   "metadata": {
    "ExecuteTime": {
     "end_time": "2021-12-28T23:55:42.770118Z",
     "start_time": "2021-12-28T23:55:42.759137Z"
    }
   },
   "outputs": [],
   "source": [
    "pd.options.display.float_format = '{:,.2f}'.format\n",
    "pd.set_option('display.width', 85)\n",
    "pd.set_option('display.max_columns', 10)"
   ]
  },
  {
   "cell_type": "markdown",
   "id": "6ad7a61a",
   "metadata": {},
   "source": [
    "# TimeStamp"
   ]
  },
  {
   "cell_type": "code",
   "execution_count": 99,
   "id": "9bcee3f8",
   "metadata": {
    "ExecuteTime": {
     "end_time": "2021-12-29T00:20:11.222882Z",
     "start_time": "2021-12-29T00:20:11.191032Z"
    }
   },
   "outputs": [],
   "source": [
    "df = pd.read_csv('repair2.csv', low_memory=False)"
   ]
  },
  {
   "cell_type": "code",
   "execution_count": 100,
   "id": "2dae4078",
   "metadata": {
    "ExecuteTime": {
     "end_time": "2021-12-29T00:22:53.055257Z",
     "start_time": "2021-12-29T00:22:53.038303Z"
    },
    "scrolled": true
   },
   "outputs": [
    {
     "data": {
      "text/plain": [
       "(13262, 13)"
      ]
     },
     "execution_count": 100,
     "metadata": {},
     "output_type": "execute_result"
    }
   ],
   "source": [
    "df.shape"
   ]
  },
  {
   "cell_type": "markdown",
   "id": "edf24dec",
   "metadata": {},
   "source": [
    "## date 열 특징"
   ]
  },
  {
   "cell_type": "code",
   "execution_count": 102,
   "id": "db161f8d",
   "metadata": {},
   "outputs": [
    {
     "data": {
      "text/html": [
       "<div>\n",
       "<style scoped>\n",
       "    .dataframe tbody tr th:only-of-type {\n",
       "        vertical-align: middle;\n",
       "    }\n",
       "\n",
       "    .dataframe tbody tr th {\n",
       "        vertical-align: top;\n",
       "    }\n",
       "\n",
       "    .dataframe thead th {\n",
       "        text-align: right;\n",
       "    }\n",
       "</style>\n",
       "<table border=\"1\" class=\"dataframe\">\n",
       "  <thead>\n",
       "    <tr style=\"text-align: right;\">\n",
       "      <th></th>\n",
       "      <th>caseID</th>\n",
       "      <th>taskID</th>\n",
       "      <th>originator</th>\n",
       "      <th>eventtype</th>\n",
       "      <th>contact</th>\n",
       "      <th>...</th>\n",
       "      <th>EstimatedRepairTime</th>\n",
       "      <th>RepairCode</th>\n",
       "      <th>RepairOK</th>\n",
       "      <th>date</th>\n",
       "      <th>time</th>\n",
       "    </tr>\n",
       "  </thead>\n",
       "  <tbody>\n",
       "    <tr>\n",
       "      <th>859</th>\n",
       "      <td>552</td>\n",
       "      <td>InternRepair</td>\n",
       "      <td>Lex</td>\n",
       "      <td>start</td>\n",
       "      <td>NaN</td>\n",
       "      <td>...</td>\n",
       "      <td>NaN</td>\n",
       "      <td>NaN</td>\n",
       "      <td>NaN</td>\n",
       "      <td>2022-05-14</td>\n",
       "      <td>4:48</td>\n",
       "    </tr>\n",
       "    <tr>\n",
       "      <th>858</th>\n",
       "      <td>87</td>\n",
       "      <td>MakeTicket</td>\n",
       "      <td>Dian</td>\n",
       "      <td>complete</td>\n",
       "      <td>NaN</td>\n",
       "      <td>...</td>\n",
       "      <td>NaN</td>\n",
       "      <td>NaN</td>\n",
       "      <td>NaN</td>\n",
       "      <td>2022-05-13</td>\n",
       "      <td>21:05</td>\n",
       "    </tr>\n",
       "    <tr>\n",
       "      <th>857</th>\n",
       "      <td>264</td>\n",
       "      <td>FirstContact</td>\n",
       "      <td>Monica</td>\n",
       "      <td>complete</td>\n",
       "      <td>Phone</td>\n",
       "      <td>...</td>\n",
       "      <td>NaN</td>\n",
       "      <td>NaN</td>\n",
       "      <td>NaN</td>\n",
       "      <td>2022-05-12</td>\n",
       "      <td>6:42</td>\n",
       "    </tr>\n",
       "    <tr>\n",
       "      <th>856</th>\n",
       "      <td>304</td>\n",
       "      <td>TicketReady</td>\n",
       "      <td>System</td>\n",
       "      <td>complete</td>\n",
       "      <td>NaN</td>\n",
       "      <td>...</td>\n",
       "      <td>NaN</td>\n",
       "      <td>NaN</td>\n",
       "      <td>NaN</td>\n",
       "      <td>2022-05-11</td>\n",
       "      <td>20:00</td>\n",
       "    </tr>\n",
       "    <tr>\n",
       "      <th>855</th>\n",
       "      <td>90</td>\n",
       "      <td>InformClientSurvey</td>\n",
       "      <td>System</td>\n",
       "      <td>complete</td>\n",
       "      <td>NaN</td>\n",
       "      <td>...</td>\n",
       "      <td>NaN</td>\n",
       "      <td>NaN</td>\n",
       "      <td>NaN</td>\n",
       "      <td>2022-05-10</td>\n",
       "      <td>10:19</td>\n",
       "    </tr>\n",
       "  </tbody>\n",
       "</table>\n",
       "<p>5 rows × 13 columns</p>\n",
       "</div>"
      ],
      "text/plain": [
       "     caseID              taskID originator eventtype contact  ...  \\\n",
       "859     552        InternRepair        Lex     start     NaN  ...   \n",
       "858      87          MakeTicket       Dian  complete     NaN  ...   \n",
       "857     264        FirstContact     Monica  complete   Phone  ...   \n",
       "856     304         TicketReady     System  complete     NaN  ...   \n",
       "855      90  InformClientSurvey     System  complete     NaN  ...   \n",
       "\n",
       "    EstimatedRepairTime  RepairCode RepairOK        date   time  \n",
       "859                 NaN         NaN      NaN  2022-05-14   4:48  \n",
       "858                 NaN         NaN      NaN  2022-05-13  21:05  \n",
       "857                 NaN         NaN      NaN  2022-05-12   6:42  \n",
       "856                 NaN         NaN      NaN  2022-05-11  20:00  \n",
       "855                 NaN         NaN      NaN  2022-05-10  10:19  \n",
       "\n",
       "[5 rows x 13 columns]"
      ]
     },
     "execution_count": 102,
     "metadata": {},
     "output_type": "execute_result"
    }
   ],
   "source": [
    "df.sort_values(by=['date'], axis=0, ascending=False).head(5)"
   ]
  },
  {
   "cell_type": "code",
   "execution_count": 103,
   "id": "779830ea",
   "metadata": {},
   "outputs": [
    {
     "data": {
      "image/png": "[encoded data removed]",
      "text/plain": [
       "<Figure size 1008x360 with 1 Axes>"
      ]
     },
     "metadata": {
      "needs_background": "light"
     },
     "output_type": "display_data"
    }
   ],
   "source": [
    "df.groupby('date').size().plot(c='r', figsize=(14,5));\n",
    "plt.title(\"Date Count\")\n",
    "plt.grid(color='lightgrey', alpha=0.5, linestyle='--')\n",
    "plt.tight_layout()"
   ]
  },
  {
   "cell_type": "markdown",
   "id": "a5af085e",
   "metadata": {},
   "source": [
    "## excel 저장"
   ]
  },
  {
   "cell_type": "code",
   "execution_count": 105,
   "id": "515f574f",
   "metadata": {
    "scrolled": true
   },
   "outputs": [],
   "source": [
    "df.to_excel('repair2.xlsx')"
   ]
  },
  {
   "cell_type": "markdown",
   "id": "3d5129ee",
   "metadata": {},
   "source": [
    "## 분석기간 외 삭제 처리"
   ]
  },
  {
   "cell_type": "code",
   "execution_count": 106,
   "id": "5dc05089",
   "metadata": {},
   "outputs": [],
   "source": [
    "mask = (df['date'] >= '1970-01-01') & (df['date'] < '2020-01-06')"
   ]
  },
  {
   "cell_type": "code",
   "execution_count": 107,
   "id": "02c64281",
   "metadata": {},
   "outputs": [
    {
     "data": {
      "text/html": [
       "<div>\n",
       "<style scoped>\n",
       "    .dataframe tbody tr th:only-of-type {\n",
       "        vertical-align: middle;\n",
       "    }\n",
       "\n",
       "    .dataframe tbody tr th {\n",
       "        vertical-align: top;\n",
       "    }\n",
       "\n",
       "    .dataframe thead th {\n",
       "        text-align: right;\n",
       "    }\n",
       "</style>\n",
       "<table border=\"1\" class=\"dataframe\">\n",
       "  <thead>\n",
       "    <tr style=\"text-align: right;\">\n",
       "      <th></th>\n",
       "      <th>caseID</th>\n",
       "      <th>taskID</th>\n",
       "      <th>originator</th>\n",
       "      <th>eventtype</th>\n",
       "      <th>contact</th>\n",
       "      <th>...</th>\n",
       "      <th>EstimatedRepairTime</th>\n",
       "      <th>RepairCode</th>\n",
       "      <th>RepairOK</th>\n",
       "      <th>date</th>\n",
       "      <th>time</th>\n",
       "    </tr>\n",
       "  </thead>\n",
       "  <tbody>\n",
       "    <tr>\n",
       "      <th>3934</th>\n",
       "      <td>617</td>\n",
       "      <td>ReadyInformClient</td>\n",
       "      <td>System</td>\n",
       "      <td>complete</td>\n",
       "      <td>NaN</td>\n",
       "      <td>...</td>\n",
       "      <td>NaN</td>\n",
       "      <td>NaN</td>\n",
       "      <td>True</td>\n",
       "      <td>1970-01-20</td>\n",
       "      <td>6:10</td>\n",
       "    </tr>\n",
       "    <tr>\n",
       "      <th>1502</th>\n",
       "      <td>822</td>\n",
       "      <td>SendTicketToFinAdmin</td>\n",
       "      <td>System</td>\n",
       "      <td>complete</td>\n",
       "      <td>NaN</td>\n",
       "      <td>...</td>\n",
       "      <td>NaN</td>\n",
       "      <td>NaN</td>\n",
       "      <td>NaN</td>\n",
       "      <td>1970-01-20</td>\n",
       "      <td>0:19</td>\n",
       "    </tr>\n",
       "    <tr>\n",
       "      <th>7881</th>\n",
       "      <td>684</td>\n",
       "      <td>TicketReady</td>\n",
       "      <td>System</td>\n",
       "      <td>complete</td>\n",
       "      <td>NaN</td>\n",
       "      <td>...</td>\n",
       "      <td>NaN</td>\n",
       "      <td>NaN</td>\n",
       "      <td>NaN</td>\n",
       "      <td>1970-01-20</td>\n",
       "      <td>7:20</td>\n",
       "    </tr>\n",
       "    <tr>\n",
       "      <th>12012</th>\n",
       "      <td>658</td>\n",
       "      <td>ReadyInformClient</td>\n",
       "      <td>System</td>\n",
       "      <td>complete</td>\n",
       "      <td>NaN</td>\n",
       "      <td>...</td>\n",
       "      <td>NaN</td>\n",
       "      <td>NaN</td>\n",
       "      <td>True</td>\n",
       "      <td>1970-01-20</td>\n",
       "      <td>4:46</td>\n",
       "    </tr>\n",
       "    <tr>\n",
       "      <th>6741</th>\n",
       "      <td>111</td>\n",
       "      <td>TicketReady</td>\n",
       "      <td>System</td>\n",
       "      <td>complete</td>\n",
       "      <td>NaN</td>\n",
       "      <td>...</td>\n",
       "      <td>NaN</td>\n",
       "      <td>NaN</td>\n",
       "      <td>NaN</td>\n",
       "      <td>1970-01-20</td>\n",
       "      <td>10:33</td>\n",
       "    </tr>\n",
       "  </tbody>\n",
       "</table>\n",
       "<p>5 rows × 13 columns</p>\n",
       "</div>"
      ],
      "text/plain": [
       "       caseID                taskID originator eventtype contact  ...  \\\n",
       "3934      617     ReadyInformClient     System  complete     NaN  ...   \n",
       "1502      822  SendTicketToFinAdmin     System  complete     NaN  ...   \n",
       "7881      684           TicketReady     System  complete     NaN  ...   \n",
       "12012     658     ReadyInformClient     System  complete     NaN  ...   \n",
       "6741      111           TicketReady     System  complete     NaN  ...   \n",
       "\n",
       "      EstimatedRepairTime  RepairCode RepairOK        date   time  \n",
       "3934                  NaN         NaN     True  1970-01-20   6:10  \n",
       "1502                  NaN         NaN      NaN  1970-01-20   0:19  \n",
       "7881                  NaN         NaN      NaN  1970-01-20   7:20  \n",
       "12012                 NaN         NaN     True  1970-01-20   4:46  \n",
       "6741                  NaN         NaN      NaN  1970-01-20  10:33  \n",
       "\n",
       "[5 rows x 13 columns]"
      ]
     },
     "execution_count": 107,
     "metadata": {},
     "output_type": "execute_result"
    }
   ],
   "source": [
    "filtered_df = df.loc[mask]\n",
    "filtered_df.sort_values(by=['date'], axis=0, ascending=False).head(5)"
   ]
  },
  {
   "cell_type": "markdown",
   "id": "a000f862",
   "metadata": {},
   "source": [
    "## **결측값 처리**"
   ]
  },
  {
   "cell_type": "code",
   "execution_count": 113,
   "id": "cd622649",
   "metadata": {
    "ExecuteTime": {
     "end_time": "2021-12-29T00:20:21.191420Z",
     "start_time": "2021-12-29T00:20:20.686545Z"
    }
   },
   "outputs": [
    {
     "data": {
      "text/plain": [
       "<AxesSubplot:>"
      ]
     },
     "execution_count": 113,
     "metadata": {},
     "output_type": "execute_result"
    },
    {
     "data": {
      "image/png": "[encoded data removed]",
      "text/plain": [
       "<Figure size 864x216 with 3 Axes>"
      ]
     },
     "metadata": {
      "needs_background": "light"
     },
     "output_type": "display_data"
    }
   ],
   "source": [
    "msno.bar(df=df.iloc[:, :], figsize=(12,3))"
   ]
  },
  {
   "cell_type": "code",
   "execution_count": 112,
   "id": "6242d8aa",
   "metadata": {},
   "outputs": [
    {
     "data": {
      "text/plain": [
       "<AxesSubplot:>"
      ]
     },
     "execution_count": 112,
     "metadata": {},
     "output_type": "execute_result"
    },
    {
     "data": {
      "image/png": "[encoded data removed]",
      "text/plain": [
       "<Figure size 864x216 with 3 Axes>"
      ]
     },
     "metadata": {
      "needs_background": "light"
     },
     "output_type": "display_data"
    }
   ],
   "source": [
    "df.dropna(subset=['date', 'time'], inplace=True)\n",
    "msno.bar(df=df.iloc[:, :], figsize=(12,3))"
   ]
  },
  {
   "cell_type": "code",
   "execution_count": 114,
   "id": "32be3dd7",
   "metadata": {},
   "outputs": [
    {
     "data": {
      "text/html": [
       "<div>\n",
       "<style scoped>\n",
       "    .dataframe tbody tr th:only-of-type {\n",
       "        vertical-align: middle;\n",
       "    }\n",
       "\n",
       "    .dataframe tbody tr th {\n",
       "        vertical-align: top;\n",
       "    }\n",
       "\n",
       "    .dataframe thead th {\n",
       "        text-align: right;\n",
       "    }\n",
       "</style>\n",
       "<table border=\"1\" class=\"dataframe\">\n",
       "  <thead>\n",
       "    <tr style=\"text-align: right;\">\n",
       "      <th></th>\n",
       "      <th>caseID</th>\n",
       "      <th>taskID</th>\n",
       "      <th>originator</th>\n",
       "      <th>eventtype</th>\n",
       "      <th>contact</th>\n",
       "      <th>...</th>\n",
       "      <th>EstimatedRepairTime</th>\n",
       "      <th>RepairCode</th>\n",
       "      <th>RepairOK</th>\n",
       "      <th>date</th>\n",
       "      <th>time</th>\n",
       "    </tr>\n",
       "  </thead>\n",
       "  <tbody>\n",
       "    <tr>\n",
       "      <th>0</th>\n",
       "      <td>419</td>\n",
       "      <td>InformClientSurvey</td>\n",
       "      <td>System</td>\n",
       "      <td>complete</td>\n",
       "      <td>NaN</td>\n",
       "      <td>...</td>\n",
       "      <td>NaN</td>\n",
       "      <td>NaN</td>\n",
       "      <td>NaN</td>\n",
       "      <td>2020-01-06</td>\n",
       "      <td>11:51</td>\n",
       "    </tr>\n",
       "    <tr>\n",
       "      <th>1</th>\n",
       "      <td>561</td>\n",
       "      <td>ArrangeSurvey</td>\n",
       "      <td>Monica</td>\n",
       "      <td>complete</td>\n",
       "      <td>NaN</td>\n",
       "      <td>...</td>\n",
       "      <td>NaN</td>\n",
       "      <td>NaN</td>\n",
       "      <td>NaN</td>\n",
       "      <td>2020-01-07</td>\n",
       "      <td>13:48</td>\n",
       "    </tr>\n",
       "  </tbody>\n",
       "</table>\n",
       "<p>2 rows × 13 columns</p>\n",
       "</div>"
      ],
      "text/plain": [
       "   caseID              taskID originator eventtype contact  ...  \\\n",
       "0     419  InformClientSurvey     System  complete     NaN  ...   \n",
       "1     561       ArrangeSurvey     Monica  complete     NaN  ...   \n",
       "\n",
       "  EstimatedRepairTime  RepairCode RepairOK        date   time  \n",
       "0                 NaN         NaN      NaN  2020-01-06  11:51  \n",
       "1                 NaN         NaN      NaN  2020-01-07  13:48  \n",
       "\n",
       "[2 rows x 13 columns]"
      ]
     },
     "execution_count": 114,
     "metadata": {},
     "output_type": "execute_result"
    }
   ],
   "source": [
    "df.head(2)"
   ]
  },
  {
   "cell_type": "markdown",
   "id": "f7bd8e62",
   "metadata": {},
   "source": [
    "**새로 저장 후 datetime으로 파싱하여 불러오기**"
   ]
  },
  {
   "cell_type": "code",
   "execution_count": 115,
   "id": "49fad431",
   "metadata": {},
   "outputs": [],
   "source": [
    "df.to_csv('repair2_timestamp.csv')"
   ]
  },
  {
   "cell_type": "code",
   "execution_count": 116,
   "id": "73a7ccc1",
   "metadata": {},
   "outputs": [],
   "source": [
    "df = pd.read_csv('repair2_timestamp.csv', parse_dates=[['date', 'time']], low_memory=False)"
   ]
  },
  {
   "cell_type": "code",
   "execution_count": 118,
   "id": "1fe961fe",
   "metadata": {},
   "outputs": [
    {
     "data": {
      "text/html": [
       "<div>\n",
       "<style scoped>\n",
       "    .dataframe tbody tr th:only-of-type {\n",
       "        vertical-align: middle;\n",
       "    }\n",
       "\n",
       "    .dataframe tbody tr th {\n",
       "        vertical-align: top;\n",
       "    }\n",
       "\n",
       "    .dataframe thead th {\n",
       "        text-align: right;\n",
       "    }\n",
       "</style>\n",
       "<table border=\"1\" class=\"dataframe\">\n",
       "  <thead>\n",
       "    <tr style=\"text-align: right;\">\n",
       "      <th></th>\n",
       "      <th>date_time</th>\n",
       "      <th>caseID</th>\n",
       "      <th>taskID</th>\n",
       "      <th>originator</th>\n",
       "      <th>eventtype</th>\n",
       "      <th>...</th>\n",
       "      <th>objectKey</th>\n",
       "      <th>RepairInternally</th>\n",
       "      <th>EstimatedRepairTime</th>\n",
       "      <th>RepairCode</th>\n",
       "      <th>RepairOK</th>\n",
       "    </tr>\n",
       "  </thead>\n",
       "  <tbody>\n",
       "    <tr>\n",
       "      <th>0</th>\n",
       "      <td>2020-01-06 11:51:00</td>\n",
       "      <td>419</td>\n",
       "      <td>InformClientSurvey</td>\n",
       "      <td>System</td>\n",
       "      <td>complete</td>\n",
       "      <td>...</td>\n",
       "      <td>NaN</td>\n",
       "      <td>NaN</td>\n",
       "      <td>NaN</td>\n",
       "      <td>NaN</td>\n",
       "      <td>NaN</td>\n",
       "    </tr>\n",
       "    <tr>\n",
       "      <th>1</th>\n",
       "      <td>2020-01-07 13:48:00</td>\n",
       "      <td>561</td>\n",
       "      <td>ArrangeSurvey</td>\n",
       "      <td>Monica</td>\n",
       "      <td>complete</td>\n",
       "      <td>...</td>\n",
       "      <td>NaN</td>\n",
       "      <td>NaN</td>\n",
       "      <td>NaN</td>\n",
       "      <td>NaN</td>\n",
       "      <td>NaN</td>\n",
       "    </tr>\n",
       "  </tbody>\n",
       "</table>\n",
       "<p>2 rows × 12 columns</p>\n",
       "</div>"
      ],
      "text/plain": [
       "            date_time  caseID              taskID originator eventtype  ...  \\\n",
       "0 2020-01-06 11:51:00     419  InformClientSurvey     System  complete  ...   \n",
       "1 2020-01-07 13:48:00     561       ArrangeSurvey     Monica  complete  ...   \n",
       "\n",
       "  objectKey RepairInternally  EstimatedRepairTime RepairCode  RepairOK  \n",
       "0       NaN              NaN                  NaN        NaN       NaN  \n",
       "1       NaN              NaN                  NaN        NaN       NaN  \n",
       "\n",
       "[2 rows x 12 columns]"
      ]
     },
     "execution_count": 118,
     "metadata": {},
     "output_type": "execute_result"
    }
   ],
   "source": [
    "df = df.drop(columns=['Unnamed: 0'], axis=1)\n",
    "df.head(2)"
   ]
  },
  {
   "cell_type": "code",
   "execution_count": 119,
   "id": "a80a5a40",
   "metadata": {
    "scrolled": true
   },
   "outputs": [
    {
     "data": {
      "text/html": [
       "<div>\n",
       "<style scoped>\n",
       "    .dataframe tbody tr th:only-of-type {\n",
       "        vertical-align: middle;\n",
       "    }\n",
       "\n",
       "    .dataframe tbody tr th {\n",
       "        vertical-align: top;\n",
       "    }\n",
       "\n",
       "    .dataframe thead th {\n",
       "        text-align: right;\n",
       "    }\n",
       "</style>\n",
       "<table border=\"1\" class=\"dataframe\">\n",
       "  <thead>\n",
       "    <tr style=\"text-align: right;\">\n",
       "      <th></th>\n",
       "      <th>date_time</th>\n",
       "      <th>caseID</th>\n",
       "      <th>taskID</th>\n",
       "      <th>originator</th>\n",
       "      <th>eventtype</th>\n",
       "      <th>...</th>\n",
       "      <th>objectKey</th>\n",
       "      <th>RepairInternally</th>\n",
       "      <th>EstimatedRepairTime</th>\n",
       "      <th>RepairCode</th>\n",
       "      <th>RepairOK</th>\n",
       "    </tr>\n",
       "  </thead>\n",
       "  <tbody>\n",
       "    <tr>\n",
       "      <th>0</th>\n",
       "      <td>1905-05-23</td>\n",
       "      <td>180</td>\n",
       "      <td>MakeTicket</td>\n",
       "      <td>Dian</td>\n",
       "      <td>start</td>\n",
       "      <td>...</td>\n",
       "      <td>NaN</td>\n",
       "      <td>NaN</td>\n",
       "      <td>NaN</td>\n",
       "      <td>NaN</td>\n",
       "      <td>NaN</td>\n",
       "    </tr>\n",
       "    <tr>\n",
       "      <th>1</th>\n",
       "      <td>1905-05-23</td>\n",
       "      <td>265</td>\n",
       "      <td>FirstContact</td>\n",
       "      <td>Monica</td>\n",
       "      <td>complete</td>\n",
       "      <td>...</td>\n",
       "      <td>NaN</td>\n",
       "      <td>NaN</td>\n",
       "      <td>NaN</td>\n",
       "      <td>NaN</td>\n",
       "      <td>NaN</td>\n",
       "    </tr>\n",
       "    <tr>\n",
       "      <th>2</th>\n",
       "      <td>1905-05-23</td>\n",
       "      <td>1</td>\n",
       "      <td>FirstContact</td>\n",
       "      <td>Dian</td>\n",
       "      <td>complete</td>\n",
       "      <td>...</td>\n",
       "      <td>NaN</td>\n",
       "      <td>NaN</td>\n",
       "      <td>NaN</td>\n",
       "      <td>NaN</td>\n",
       "      <td>NaN</td>\n",
       "    </tr>\n",
       "    <tr>\n",
       "      <th>3</th>\n",
       "      <td>1905-05-23</td>\n",
       "      <td>959</td>\n",
       "      <td>TicketReady</td>\n",
       "      <td>System</td>\n",
       "      <td>complete</td>\n",
       "      <td>...</td>\n",
       "      <td>NaN</td>\n",
       "      <td>NaN</td>\n",
       "      <td>NaN</td>\n",
       "      <td>NaN</td>\n",
       "      <td>NaN</td>\n",
       "    </tr>\n",
       "    <tr>\n",
       "      <th>4</th>\n",
       "      <td>1905-05-23</td>\n",
       "      <td>318</td>\n",
       "      <td>MakeTicket</td>\n",
       "      <td>Dian</td>\n",
       "      <td>start</td>\n",
       "      <td>...</td>\n",
       "      <td>NaN</td>\n",
       "      <td>NaN</td>\n",
       "      <td>NaN</td>\n",
       "      <td>NaN</td>\n",
       "      <td>NaN</td>\n",
       "    </tr>\n",
       "  </tbody>\n",
       "</table>\n",
       "<p>5 rows × 12 columns</p>\n",
       "</div>"
      ],
      "text/plain": [
       "   date_time  caseID        taskID originator eventtype  ... objectKey  \\\n",
       "0 1905-05-23     180    MakeTicket       Dian     start  ...       NaN   \n",
       "1 1905-05-23     265  FirstContact     Monica  complete  ...       NaN   \n",
       "2 1905-05-23       1  FirstContact       Dian  complete  ...       NaN   \n",
       "3 1905-05-23     959   TicketReady     System  complete  ...       NaN   \n",
       "4 1905-05-23     318    MakeTicket       Dian     start  ...       NaN   \n",
       "\n",
       "  RepairInternally  EstimatedRepairTime RepairCode  RepairOK  \n",
       "0              NaN                  NaN        NaN       NaN  \n",
       "1              NaN                  NaN        NaN       NaN  \n",
       "2              NaN                  NaN        NaN       NaN  \n",
       "3              NaN                  NaN        NaN       NaN  \n",
       "4              NaN                  NaN        NaN       NaN  \n",
       "\n",
       "[5 rows x 12 columns]"
      ]
     },
     "execution_count": 119,
     "metadata": {},
     "output_type": "execute_result"
    }
   ],
   "source": [
    "# timestamp 오름차순 정렬 + 인덱스 리셋\n",
    "df.sort_values(by=['date_time'], axis=0, inplace=True)\n",
    "df.reset_index(drop=True, inplace=True)\n",
    "df.head(5)"
   ]
  },
  {
   "cell_type": "markdown",
   "id": "50696583",
   "metadata": {},
   "source": [
    "# event type"
   ]
  },
  {
   "cell_type": "code",
   "execution_count": null,
   "id": "cb0616ca",
   "metadata": {},
   "outputs": [],
   "source": [
    "for idx, data in refund_df.iterrows():\n",
    "    try:\n",
    "        idx = odf[(odf[\"customer_id\"] == data.customer_id) \n",
    "                  & (odf[\"course_title\"] == data.course_title) & (odf[\"type\"] == \"PAYMENT\")\n",
    "                  ].index[0]\n",
    "        odf = odf.drop(index=idx)\n",
    "    except:\n",
    "        pass"
   ]
  },
  {
   "cell_type": "code",
   "execution_count": null,
   "id": "f0952dd9",
   "metadata": {},
   "outputs": [],
   "source": [
    "for idx, data in df.iterrows(): \n",
    "    try:\n",
    "        "
   ]
  }
 ],
 "metadata": {
  "kernelspec": {
   "display_name": "Python 3 (ipykernel)",
   "language": "python",
   "name": "python3"
  },
  "language_info": {
   "codemirror_mode": {
    "name": "ipython",
    "version": 3
   },
   "file_extension": ".py",
   "mimetype": "text/x-python",
   "name": "python",
   "nbconvert_exporter": "python",
   "pygments_lexer": "ipython3",
   "version": "3.9.7"
  },
  "toc": {
   "base_numbering": 1,
   "nav_menu": {},
   "number_sections": true,
   "sideBar": true,
   "skip_h1_title": false,
   "title_cell": "Table of Contents",
   "title_sidebar": "Contents",
   "toc_cell": false,
   "toc_position": {
    "height": "calc(100% - 180px)",
    "left": "10px",
    "top": "150px",
    "width": "214px"
   },
   "toc_section_display": true,
   "toc_window_display": true
  },
  "varInspector": {
   "cols": {
    "lenName": 16,
    "lenType": 16,
    "lenVar": 40
   },
   "kernels_config": {
    "python": {
     "delete_cmd_postfix": "",
     "delete_cmd_prefix": "del ",
     "library": "var_list.py",
     "varRefreshCmd": "print(var_dic_list())"
    },
    "r": {
     "delete_cmd_postfix": ") ",
     "delete_cmd_prefix": "rm(",
     "library": "var_list.r",
     "varRefreshCmd": "cat(var_dic_list()) "
    }
   },
   "types_to_exclude": [
    "module",
    "function",
    "builtin_function_or_method",
    "instance",
    "_Feature"
   ],
   "window_display": false
  }
 },
 "nbformat": 4,
 "nbformat_minor": 5
}
