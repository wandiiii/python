{
 "cells": [
  {
   "cell_type": "code",
   "execution_count": 64,
   "metadata": {},
   "outputs": [],
   "source": [
    "import pandas as pd\n",
    "import numpy as np\n",
    "pd.set_option('display.max_rows', 200)\n",
    "pd.set_option('display.max_columns', 35)\n",
    "pd.set_option('display.width', 200)\n",
    "pd.options.display.float_format = '{:,.2f}'.format"
   ]
  },
  {
   "cell_type": "markdown",
   "metadata": {},
   "source": [
    "🐱‍💻 이번 챕터는`넘파이 배열`과 `판다스 배열`을 사용해 같은 작업을 처리하는 방법을 학습했음  \n",
    "> '어떤 도구가 중요한지'는 개인적 취향보다는 **데이터의 성격**에 따라 결정된다"
   ]
  },
  {
   "cell_type": "markdown",
   "metadata": {},
   "source": [
    "🐱‍💻 이번 챕터에서 다루는 Data\n",
    "* **코로나19 일일 데이터** - 국가별 하루에 하나의 행 (신규 확진자, 신규 사망자) : 2019-12-31 ~ 2020-07-18\n",
    "* **브라질 지표온도 데이터** - 브라질의 87개 기상관측소에서 매월 하나의 온도 판독값 : 2019-01-01 ~ 2019-12-31"
   ]
  },
  {
   "cell_type": "markdown",
   "metadata": {},
   "source": [
    "# itertuples을 활용한 데이터 순회\n",
    "* 이 방식대로 직접 구현하는 일이 거의 없더라도, 데이터의 행을 순회하고 그룹별로 정렬하는 개념을 알아두면 도움이 될 것임\n",
    "> 참고) 10,000행 이하의 dataframe은 pandas 메서드로 처리하는 것이 순회(looping)보다 더 효율적임\n"
   ]
  },
  {
   "cell_type": "markdown",
   "metadata": {},
   "source": [
    "## 코로나19 데이터"
   ]
  },
  {
   "cell_type": "markdown",
   "metadata": {},
   "source": [
    "### 1. 데이터 로드"
   ]
  },
  {
   "cell_type": "code",
   "execution_count": 30,
   "metadata": {},
   "outputs": [],
   "source": [
    "covidDaily = pd.read_csv('data/coviddaily720.csv', parse_dates=['casedate'])"
   ]
  },
  {
   "cell_type": "code",
   "execution_count": 31,
   "metadata": {},
   "outputs": [
    {
     "data": {
      "text/html": [
       "<div>\n",
       "<style scoped>\n",
       "    .dataframe tbody tr th:only-of-type {\n",
       "        vertical-align: middle;\n",
       "    }\n",
       "\n",
       "    .dataframe tbody tr th {\n",
       "        vertical-align: top;\n",
       "    }\n",
       "\n",
       "    .dataframe thead th {\n",
       "        text-align: right;\n",
       "    }\n",
       "</style>\n",
       "<table border=\"1\" class=\"dataframe\">\n",
       "  <thead>\n",
       "    <tr style=\"text-align: right;\">\n",
       "      <th></th>\n",
       "      <th>iso_code</th>\n",
       "      <th>casedate</th>\n",
       "      <th>location</th>\n",
       "      <th>continent</th>\n",
       "      <th>new_cases</th>\n",
       "      <th>new_deaths</th>\n",
       "      <th>population</th>\n",
       "      <th>pop_density</th>\n",
       "      <th>median_age</th>\n",
       "      <th>gdp_per_capita</th>\n",
       "      <th>hosp_beds</th>\n",
       "      <th>region</th>\n",
       "    </tr>\n",
       "  </thead>\n",
       "  <tbody>\n",
       "    <tr>\n",
       "      <th>188</th>\n",
       "      <td>ALB</td>\n",
       "      <td>2020-03-12</td>\n",
       "      <td>Albania</td>\n",
       "      <td>Europe</td>\n",
       "      <td>1.00</td>\n",
       "      <td>1.00</td>\n",
       "      <td>2,877,800.00</td>\n",
       "      <td>104.87</td>\n",
       "      <td>38.00</td>\n",
       "      <td>11,803.43</td>\n",
       "      <td>2.89</td>\n",
       "      <td>Eastern Europe</td>\n",
       "    </tr>\n",
       "    <tr>\n",
       "      <th>8613</th>\n",
       "      <td>ERI</td>\n",
       "      <td>2020-06-23</td>\n",
       "      <td>Eritrea</td>\n",
       "      <td>Africa</td>\n",
       "      <td>0.00</td>\n",
       "      <td>0.00</td>\n",
       "      <td>3,546,427.00</td>\n",
       "      <td>44.30</td>\n",
       "      <td>19.30</td>\n",
       "      <td>1,510.46</td>\n",
       "      <td>0.70</td>\n",
       "      <td>East Africa</td>\n",
       "    </tr>\n",
       "  </tbody>\n",
       "</table>\n",
       "</div>"
      ],
      "text/plain": [
       "     iso_code   casedate location continent  new_cases  new_deaths   population  pop_density  median_age  gdp_per_capita  hosp_beds          region\n",
       "188       ALB 2020-03-12  Albania    Europe       1.00        1.00 2,877,800.00       104.87       38.00       11,803.43       2.89  Eastern Europe\n",
       "8613      ERI 2020-06-23  Eritrea    Africa       0.00        0.00 3,546,427.00        44.30       19.30        1,510.46       0.70     East Africa"
      ]
     },
     "execution_count": 31,
     "metadata": {},
     "output_type": "execute_result"
    }
   ],
   "source": [
    "covidDaily.sample(2)"
   ]
  },
  {
   "cell_type": "markdown",
   "metadata": {},
   "source": [
    "### 2. 열을 가독성이 좋게 정렬"
   ]
  },
  {
   "cell_type": "code",
   "execution_count": 16,
   "metadata": {},
   "outputs": [],
   "source": [
    "covidDaily = covidDaily[['casedate', 'iso_code', 'location', 'region', 'continent', 'new_cases', 'new_deaths',\\\n",
    "                         'hosp_beds', 'population', 'pop_density', 'median_age', 'gdp_per_capita']]"
   ]
  },
  {
   "cell_type": "markdown",
   "metadata": {},
   "source": [
    "### 3. 위치, 날짜별 정렬"
   ]
  },
  {
   "cell_type": "code",
   "execution_count": 72,
   "metadata": {},
   "outputs": [
    {
     "data": {
      "text/html": [
       "<div>\n",
       "<style scoped>\n",
       "    .dataframe tbody tr th:only-of-type {\n",
       "        vertical-align: middle;\n",
       "    }\n",
       "\n",
       "    .dataframe tbody tr th {\n",
       "        vertical-align: top;\n",
       "    }\n",
       "\n",
       "    .dataframe thead th {\n",
       "        text-align: right;\n",
       "    }\n",
       "</style>\n",
       "<table border=\"1\" class=\"dataframe\">\n",
       "  <thead>\n",
       "    <tr style=\"text-align: right;\">\n",
       "      <th></th>\n",
       "      <th>iso_code</th>\n",
       "      <th>casedate</th>\n",
       "      <th>location</th>\n",
       "      <th>continent</th>\n",
       "      <th>new_cases</th>\n",
       "      <th>new_deaths</th>\n",
       "      <th>population</th>\n",
       "      <th>pop_density</th>\n",
       "      <th>median_age</th>\n",
       "      <th>gdp_per_capita</th>\n",
       "      <th>hosp_beds</th>\n",
       "      <th>region</th>\n",
       "    </tr>\n",
       "  </thead>\n",
       "  <tbody>\n",
       "    <tr>\n",
       "      <th>0</th>\n",
       "      <td>AFG</td>\n",
       "      <td>2019-12-31</td>\n",
       "      <td>Afghanistan</td>\n",
       "      <td>Asia</td>\n",
       "      <td>0.00</td>\n",
       "      <td>0.00</td>\n",
       "      <td>38,928,341.00</td>\n",
       "      <td>54.42</td>\n",
       "      <td>18.60</td>\n",
       "      <td>1,803.99</td>\n",
       "      <td>0.50</td>\n",
       "      <td>South Asia</td>\n",
       "    </tr>\n",
       "    <tr>\n",
       "      <th>1</th>\n",
       "      <td>AFG</td>\n",
       "      <td>2020-01-01</td>\n",
       "      <td>Afghanistan</td>\n",
       "      <td>Asia</td>\n",
       "      <td>0.00</td>\n",
       "      <td>0.00</td>\n",
       "      <td>38,928,341.00</td>\n",
       "      <td>54.42</td>\n",
       "      <td>18.60</td>\n",
       "      <td>1,803.99</td>\n",
       "      <td>0.50</td>\n",
       "      <td>South Asia</td>\n",
       "    </tr>\n",
       "    <tr>\n",
       "      <th>2</th>\n",
       "      <td>AFG</td>\n",
       "      <td>2020-01-02</td>\n",
       "      <td>Afghanistan</td>\n",
       "      <td>Asia</td>\n",
       "      <td>0.00</td>\n",
       "      <td>0.00</td>\n",
       "      <td>38,928,341.00</td>\n",
       "      <td>54.42</td>\n",
       "      <td>18.60</td>\n",
       "      <td>1,803.99</td>\n",
       "      <td>0.50</td>\n",
       "      <td>South Asia</td>\n",
       "    </tr>\n",
       "  </tbody>\n",
       "</table>\n",
       "</div>"
      ],
      "text/plain": [
       "  iso_code   casedate     location continent  new_cases  new_deaths    population  pop_density  median_age  gdp_per_capita  hosp_beds      region\n",
       "0      AFG 2019-12-31  Afghanistan      Asia       0.00        0.00 38,928,341.00        54.42       18.60        1,803.99       0.50  South Asia\n",
       "1      AFG 2020-01-01  Afghanistan      Asia       0.00        0.00 38,928,341.00        54.42       18.60        1,803.99       0.50  South Asia\n",
       "2      AFG 2020-01-02  Afghanistan      Asia       0.00        0.00 38,928,341.00        54.42       18.60        1,803.99       0.50  South Asia"
      ]
     },
     "execution_count": 72,
     "metadata": {},
     "output_type": "execute_result"
    }
   ],
   "source": [
    "covidDaily = covidDaily.sort_values(['location', 'casedate'])\n",
    "covidDaily.head(3)"
   ]
  },
  {
   "cell_type": "markdown",
   "metadata": {},
   "source": [
    "### 4. itertuples를 사용하여 행들을 순회  \n",
    "* itertuple를 사용하여 전체 행과 이름없는 튜플들을 순회  \n",
    "* 각국의 전체 날짜 대해 신규 확진자 수를 합산한다  \n",
    "      \n",
    "      e.g. 2019-12-31 ~ 2020-07-18 한국의 일일 신규 확진자 수 합계 "
   ]
  },
  {
   "cell_type": "markdown",
   "metadata": {},
   "source": [
    "4-1. 🔍 **하단 코드 작동원리**\n",
    "* 국가(location)가 바뀔 때마다 rowlist에 소계를 '딕셔너리' 형태로 추가한 뒤에, 카운트(casecnt)를 0으로 리셋한다  \n",
    "* 예시\n",
    "        첫번째 순회 시 casecnt = 0, prevloc = 'ZZZ', row.loction = 'Afghanistan', row.new_cases = 34451.0  \n",
    "        두번째 순회 시 casecnt = 34451.0, prevloc = 'Afghanistan', row.location = 'Albania', row.new_cases = 3371.0"
   ]
  },
  {
   "cell_type": "code",
   "execution_count": 73,
   "metadata": {},
   "outputs": [
    {
     "data": {
      "text/plain": [
       "209"
      ]
     },
     "execution_count": 73,
     "metadata": {},
     "output_type": "execute_result"
    }
   ],
   "source": [
    "prevloc = 'ZZZ'\n",
    "rowlist = []\n",
    "\n",
    "for row in covidDaily.itertuples():\n",
    "    # 조건 : 현재 순회 행(row)의 지역(location)이 이전 순회 행(row)과 달라지는 순간에\n",
    "    if (prevloc!=row.location): \n",
    "        # 조건 : 초기값('ZZZ')은 예외로 두어 건너뛰도록 처리함\n",
    "        if (prevloc!='ZZZ'): \n",
    "            # rowlist < '이전 지역'과 '이전 지역의 신규 확진자 수 누계'를 딕셔너리로 추가해둠\n",
    "            rowlist.append({'location':prevloc, 'casecnt':casecnt}) \n",
    "        # 다음 지역에 대한 작업을 하기 위해서 케이스 빈도를 '0'으로 리셋\n",
    "        casecnt = 0 \n",
    "        # 다음 지역에 대한 작업을 하기 위해서, 지역을 '현재 순회 행(row)의 지역'으로 셋팅\n",
    "        prevloc = row.location \n",
    "    # '현재 순회 행(row)의 신규 확진자 수'를 누적합 해준다 \n",
    "    casecnt += row.new_cases \n",
    "    \n",
    "# for문 가장 마지막 수행된 값은 저장되지 않기 때문에 > 반복문 빠져나온 뒤 저장되게 해줌    \n",
    "rowlist.append({'location':prevloc, 'casecnt':casecnt})\n",
    "len(rowlist)"
   ]
  },
  {
   "cell_type": "code",
   "execution_count": 55,
   "metadata": {},
   "outputs": [
    {
     "data": {
      "text/plain": [
       "[{'location': 'Afghanistan', 'casecnt': 34451.0},\n",
       " {'location': 'Albania', 'casecnt': 3371.0},\n",
       " {'location': 'Algeria', 'casecnt': 18712.0},\n",
       " {'location': 'Andorra', 'casecnt': 855.0}]"
      ]
     },
     "execution_count": 55,
     "metadata": {},
     "output_type": "execute_result"
    }
   ],
   "source": [
    "rowlist[0:4]"
   ]
  },
  {
   "cell_type": "markdown",
   "metadata": {},
   "source": [
    "4-2. 📍  '딕셔너리'로 이루어진 리스트 > 데이터를 임시로 저장했다가 나중에 데이터프레임으로 변환하기에 좋다 "
   ]
  },
  {
   "attachments": {},
   "cell_type": "markdown",
   "metadata": {},
   "source": [
    "4-3. 💡 `itertuple`이란?  \n",
    "- map 클래스의 메소드이다\n",
    "- 데이터프레임 객체의 행을 튜플* 형식으로 읽어들이면서 순회한다\n",
    "    * 리스트와 유사하게 여러 객체를 담고 있지만, 튜플 내의 값은 수정, 추가, 삭제가 안된다는 점이 차이점이다. ( )로 사용. 덮어씌우기는 가능하다. \n",
    "- 실제 출력값은 아래 코드결과 참고"
   ]
  },
  {
   "cell_type": "code",
   "execution_count": 41,
   "metadata": {},
   "outputs": [
    {
     "name": "stdout",
     "output_type": "stream",
     "text": [
      "1 .  Pandas(Index=0, iso_code='AFG', casedate=Timestamp('2019-12-31 00:00:00'), location='Afghanistan', continent='Asia', new_cases=0.0, new_deaths=0.0, population=38928341.0, pop_density=54.422, median_age=18.6, gdp_per_capita=1803.987, hosp_beds=0.5, region='South Asia')\n",
      "2 .  Pandas(Index=1, iso_code='AFG', casedate=Timestamp('2020-01-01 00:00:00'), location='Afghanistan', continent='Asia', new_cases=0.0, new_deaths=0.0, population=38928341.0, pop_density=54.422, median_age=18.6, gdp_per_capita=1803.987, hosp_beds=0.5, region='South Asia')\n"
     ]
    }
   ],
   "source": [
    "number = 0 \n",
    "for row in covidDaily.itertuples():\n",
    "    number += 1\n",
    "    if number > 2:\n",
    "        continue\n",
    "    print(number,\". \", row)"
   ]
  },
  {
   "cell_type": "markdown",
   "metadata": {},
   "source": [
    "### 5. rowlist(소계를 담고 있는 리스트) > dataframe"
   ]
  },
  {
   "cell_type": "code",
   "execution_count": 51,
   "metadata": {},
   "outputs": [
    {
     "data": {
      "text/html": [
       "<div>\n",
       "<style scoped>\n",
       "    .dataframe tbody tr th:only-of-type {\n",
       "        vertical-align: middle;\n",
       "    }\n",
       "\n",
       "    .dataframe tbody tr th {\n",
       "        vertical-align: top;\n",
       "    }\n",
       "\n",
       "    .dataframe thead th {\n",
       "        text-align: right;\n",
       "    }\n",
       "</style>\n",
       "<table border=\"1\" class=\"dataframe\">\n",
       "  <thead>\n",
       "    <tr style=\"text-align: right;\">\n",
       "      <th></th>\n",
       "      <th>location</th>\n",
       "      <th>casecnt</th>\n",
       "    </tr>\n",
       "  </thead>\n",
       "  <tbody>\n",
       "    <tr>\n",
       "      <th>0</th>\n",
       "      <td>Afghanistan</td>\n",
       "      <td>34,451.00</td>\n",
       "    </tr>\n",
       "    <tr>\n",
       "      <th>1</th>\n",
       "      <td>Albania</td>\n",
       "      <td>3,371.00</td>\n",
       "    </tr>\n",
       "    <tr>\n",
       "      <th>2</th>\n",
       "      <td>Algeria</td>\n",
       "      <td>18,712.00</td>\n",
       "    </tr>\n",
       "    <tr>\n",
       "      <th>3</th>\n",
       "      <td>Andorra</td>\n",
       "      <td>855.00</td>\n",
       "    </tr>\n",
       "    <tr>\n",
       "      <th>4</th>\n",
       "      <td>Angola</td>\n",
       "      <td>483.00</td>\n",
       "    </tr>\n",
       "  </tbody>\n",
       "</table>\n",
       "</div>"
      ],
      "text/plain": [
       "      location   casecnt\n",
       "0  Afghanistan 34,451.00\n",
       "1      Albania  3,371.00\n",
       "2      Algeria 18,712.00\n",
       "3      Andorra    855.00\n",
       "4       Angola    483.00"
      ]
     },
     "execution_count": 51,
     "metadata": {},
     "output_type": "execute_result"
    }
   ],
   "source": [
    "covidtotals = pd.DataFrame(rowlist)\n",
    "covidtotals.head()"
   ]
  },
  {
   "cell_type": "markdown",
   "metadata": {},
   "source": [
    "## 브라질 지표온도 데이터 "
   ]
  },
  {
   "cell_type": "markdown",
   "metadata": {},
   "source": [
    "### 1. 데이터 로드"
   ]
  },
  {
   "cell_type": "code",
   "execution_count": 89,
   "metadata": {},
   "outputs": [],
   "source": [
    "ltBrazil = pd.read_csv('data/ltbrazil.csv')"
   ]
  },
  {
   "cell_type": "markdown",
   "metadata": {},
   "source": [
    "### 2. 데이터 정렬 & 온도 누락값 행 제거\n",
    "* 기상관측소(station)마다 월별(month)로 정렬되도록 한다"
   ]
  },
  {
   "cell_type": "code",
   "execution_count": 90,
   "metadata": {},
   "outputs": [],
   "source": [
    "ltBrazil = ltBrazil.sort_values(['station','month'])\n",
    "ltBrazil = ltBrazil.dropna(subset=['temperature'])"
   ]
  },
  {
   "cell_type": "markdown",
   "metadata": {},
   "source": [
    "### 3. itertuples를 사용하여 행들을 튜플로 순회\n",
    "* 🔍 **하단 코드 작동원리** : 평균 기온을 계산하고자 하는데, 그 해의 기온이 이전 달 기온보다 3도 넘게 높은/낮은 값은 제외한다.  "
   ]
  },
  {
   "cell_type": "code",
   "execution_count": 91,
   "metadata": {},
   "outputs": [
    {
     "data": {
      "text/plain": [
       "[{'station': 'ALTAMIRA', 'avgtemp': 28.310000000000002, 'stationcnt': 5},\n",
       " {'station': 'ALTA_FLORESTA_AERO',\n",
       "  'avgtemp': 29.433636363636367,\n",
       "  'stationcnt': 11},\n",
       " {'station': 'ARAXA', 'avgtemp': 21.612499999999997, 'stationcnt': 4},\n",
       " {'station': 'BACABAL', 'avgtemp': 29.75, 'stationcnt': 4},\n",
       " {'station': 'BAGE', 'avgtemp': 20.366666666666664, 'stationcnt': 9}]"
      ]
     },
     "execution_count": 91,
     "metadata": {},
     "output_type": "execute_result"
    }
   ],
   "source": [
    "prevstation = 'ZZZ'\n",
    "prevtemp = 0\n",
    "rowlist = []\n",
    "\n",
    "for row in ltBrazil.itertuples():\n",
    "# 전체 기간 동안의 특정 관측소 최종 빈도(stationcnt), 평균 기온(avgtemp)을 rowlist에 저장\n",
    "    #  조건 : 현재 순회 행(row)의 관측소가, 직전 순회 행(row)의 관측소와 달라진 순간에 저장함\n",
    "    if (prevstation!=row.station):\n",
    "        if (prevstation!='ZZZ'): # 초기값('ZZZ')일 때는 수행되지 않도록 함\n",
    "            rowlist.append({'station':prevstation, 'avgtemp':tempcnt/stationcnt, 'stationcnt':stationcnt})\n",
    "        tempcnt = 0\n",
    "        stationcnt = 0\n",
    "        prevstation = row.station\n",
    "# 그 해까지 특정 관측소를 센 횟수와 더해진 기온값을 stationcnt, tempcnt에 저장  \n",
    "    # [조건1 : 이전 온도와의 차이가 3도 이내인 행만 선택] + [조건2 : 관측소 최초 순회때는 무조건 수행되도록] \n",
    "    if ((0<=abs(row.temperature-prevtemp)<=3) or (stationcnt==0)):\n",
    "        tempcnt += row.temperature\n",
    "        stationcnt += 1\n",
    "    prevtemp = row.temperature\n",
    "\n",
    "# for문 맨 마지막 수행된 값도 저장 > 완료\n",
    "rowlist.append({'station':prevstation, 'avgtemp':tempcnt/stationcnt, 'stationcnt':stationcnt})\n",
    "rowlist[0:5]"
   ]
  },
  {
   "cell_type": "markdown",
   "metadata": {},
   "source": [
    "3-1. 중간과정"
   ]
  },
  {
   "cell_type": "code",
   "execution_count": 92,
   "metadata": {},
   "outputs": [
    {
     "data": {
      "text/html": [
       "<div>\n",
       "<style scoped>\n",
       "    .dataframe tbody tr th:only-of-type {\n",
       "        vertical-align: middle;\n",
       "    }\n",
       "\n",
       "    .dataframe tbody tr th {\n",
       "        vertical-align: top;\n",
       "    }\n",
       "\n",
       "    .dataframe thead th {\n",
       "        text-align: right;\n",
       "    }\n",
       "</style>\n",
       "<table border=\"1\" class=\"dataframe\">\n",
       "  <thead>\n",
       "    <tr style=\"text-align: right;\">\n",
       "      <th></th>\n",
       "      <th>locationid</th>\n",
       "      <th>year</th>\n",
       "      <th>month</th>\n",
       "      <th>temperature</th>\n",
       "      <th>latitude</th>\n",
       "      <th>longitude</th>\n",
       "      <th>elevation</th>\n",
       "      <th>station</th>\n",
       "      <th>countryid</th>\n",
       "      <th>country</th>\n",
       "      <th>latabs</th>\n",
       "    </tr>\n",
       "  </thead>\n",
       "  <tbody>\n",
       "    <tr>\n",
       "      <th>648</th>\n",
       "      <td>BR000352000</td>\n",
       "      <td>2019</td>\n",
       "      <td>8</td>\n",
       "      <td>28.55</td>\n",
       "      <td>-3.20</td>\n",
       "      <td>-52.20</td>\n",
       "      <td>112.00</td>\n",
       "      <td>ALTAMIRA</td>\n",
       "      <td>BR</td>\n",
       "      <td>Brazil</td>\n",
       "      <td>3.20</td>\n",
       "    </tr>\n",
       "    <tr>\n",
       "      <th>740</th>\n",
       "      <td>BR000352000</td>\n",
       "      <td>2019</td>\n",
       "      <td>9</td>\n",
       "      <td>28.85</td>\n",
       "      <td>-3.20</td>\n",
       "      <td>-52.20</td>\n",
       "      <td>112.00</td>\n",
       "      <td>ALTAMIRA</td>\n",
       "      <td>BR</td>\n",
       "      <td>Brazil</td>\n",
       "      <td>3.20</td>\n",
       "    </tr>\n",
       "  </tbody>\n",
       "</table>\n",
       "</div>"
      ],
      "text/plain": [
       "      locationid  year  month  temperature  latitude  longitude  elevation   station countryid country  latabs\n",
       "648  BR000352000  2019      8        28.55     -3.20     -52.20     112.00  ALTAMIRA        BR  Brazil    3.20\n",
       "740  BR000352000  2019      9        28.85     -3.20     -52.20     112.00  ALTAMIRA        BR  Brazil    3.20"
      ]
     },
     "execution_count": 92,
     "metadata": {},
     "output_type": "execute_result"
    }
   ],
   "source": [
    "ltBrazil.head(2)"
   ]
  },
  {
   "cell_type": "code",
   "execution_count": 93,
   "metadata": {},
   "outputs": [
    {
     "name": "stdout",
     "output_type": "stream",
     "text": [
      "1 .  Pandas(Index=648, locationid='BR000352000', year=2019, month=8, temperature=28.55, latitude=-3.2, longitude=-52.2, elevation=112.0, station='ALTAMIRA', countryid='BR', country='Brazil', latabs=3.2)\n",
      "2 .  Pandas(Index=740, locationid='BR000352000', year=2019, month=9, temperature=28.85, latitude=-3.2, longitude=-52.2, elevation=112.0, station='ALTAMIRA', countryid='BR', country='Brazil', latabs=3.2)\n"
     ]
    }
   ],
   "source": [
    "num = 0\n",
    "\n",
    "for row in ltBrazil.itertuples():\n",
    "    num += 1\n",
    "    if num>2:\n",
    "        continue\n",
    "    print(num,\". \",row)\n",
    "    "
   ]
  },
  {
   "cell_type": "markdown",
   "metadata": {},
   "source": [
    "### 4. rowlist(평균 기온을 담고 있는 리스트) > dataframe"
   ]
  },
  {
   "cell_type": "code",
   "execution_count": 94,
   "metadata": {},
   "outputs": [
    {
     "data": {
      "text/html": [
       "<div>\n",
       "<style scoped>\n",
       "    .dataframe tbody tr th:only-of-type {\n",
       "        vertical-align: middle;\n",
       "    }\n",
       "\n",
       "    .dataframe tbody tr th {\n",
       "        vertical-align: top;\n",
       "    }\n",
       "\n",
       "    .dataframe thead th {\n",
       "        text-align: right;\n",
       "    }\n",
       "</style>\n",
       "<table border=\"1\" class=\"dataframe\">\n",
       "  <thead>\n",
       "    <tr style=\"text-align: right;\">\n",
       "      <th></th>\n",
       "      <th>station</th>\n",
       "      <th>avgtemp</th>\n",
       "      <th>stationcnt</th>\n",
       "    </tr>\n",
       "  </thead>\n",
       "  <tbody>\n",
       "    <tr>\n",
       "      <th>0</th>\n",
       "      <td>ALTAMIRA</td>\n",
       "      <td>28.31</td>\n",
       "      <td>5</td>\n",
       "    </tr>\n",
       "    <tr>\n",
       "      <th>1</th>\n",
       "      <td>ALTA_FLORESTA_AERO</td>\n",
       "      <td>29.43</td>\n",
       "      <td>11</td>\n",
       "    </tr>\n",
       "    <tr>\n",
       "      <th>2</th>\n",
       "      <td>ARAXA</td>\n",
       "      <td>21.61</td>\n",
       "      <td>4</td>\n",
       "    </tr>\n",
       "    <tr>\n",
       "      <th>3</th>\n",
       "      <td>BACABAL</td>\n",
       "      <td>29.75</td>\n",
       "      <td>4</td>\n",
       "    </tr>\n",
       "    <tr>\n",
       "      <th>4</th>\n",
       "      <td>BAGE</td>\n",
       "      <td>20.37</td>\n",
       "      <td>9</td>\n",
       "    </tr>\n",
       "  </tbody>\n",
       "</table>\n",
       "</div>"
      ],
      "text/plain": [
       "              station  avgtemp  stationcnt\n",
       "0            ALTAMIRA    28.31           5\n",
       "1  ALTA_FLORESTA_AERO    29.43          11\n",
       "2               ARAXA    21.61           4\n",
       "3             BACABAL    29.75           4\n",
       "4                BAGE    20.37           9"
      ]
     },
     "execution_count": 94,
     "metadata": {},
     "output_type": "execute_result"
    }
   ],
   "source": [
    "ltBrazilAvgs = pd.DataFrame(rowlist)\n",
    "ltBrazilAvgs.head()"
   ]
  },
  {
   "cell_type": "markdown",
   "metadata": {},
   "source": [
    "### 5. itertuples를 사용하여 행들을 튜플로 순회  \n",
    "* 🔍 하단 코드 작동원리 : 평균 기온을 계산 (+*`월별 기온 변화`*의 폭이 어떻든지에 상관없이)"
   ]
  },
  {
   "cell_type": "code",
   "execution_count": 95,
   "metadata": {},
   "outputs": [
    {
     "data": {
      "text/plain": [
       "[{'station': 'ALTAMIRA', 'avgtemp': 28.310000000000002, 'stationcnt': 5},\n",
       " {'station': 'ALTA_FLORESTA_AERO',\n",
       "  'avgtemp': 29.37416666666667,\n",
       "  'stationcnt': 12},\n",
       " {'station': 'ARAXA', 'avgtemp': 21.612499999999997, 'stationcnt': 4},\n",
       " {'station': 'BACABAL', 'avgtemp': 29.75, 'stationcnt': 4},\n",
       " {'station': 'BAGE', 'avgtemp': 19.29583333333333, 'stationcnt': 12}]"
      ]
     },
     "execution_count": 95,
     "metadata": {},
     "output_type": "execute_result"
    }
   ],
   "source": [
    "prevstation = 'ZZZ'\n",
    "rowlist_s = []\n",
    "\n",
    "for row in ltBrazil.itertuples():\n",
    "# 전체 기간 동안의 특정 관측소 최종 빈도(stationcnt), 평균 기온(avgtemp)을 rowlist에 저장\n",
    "    #  조건 : 현재 순회 행(row)의 관측소가, 직전 순회 행(row)의 관측소와 달라진 순간에 저장함\n",
    "    if (prevstation!=row.station):\n",
    "        if (prevstation!='ZZZ'): # 초기값('ZZZ')일 때는 수행되지 않도록 함\n",
    "            rowlist_s.append({'station':prevstation, 'avgtemp':tempcnt/stationcnt, 'stationcnt':stationcnt})\n",
    "        tempcnt = 0\n",
    "        stationcnt = 0\n",
    "        prevstation = row.station\n",
    "    tempcnt += row.temperature\n",
    "    stationcnt += 1\n",
    "\n",
    "# for문 맨 마지막 수행된 값도 저장 > 완료\n",
    "rowlist_s.append({'station':prevstation, 'avgtemp':tempcnt/stationcnt, 'stationcnt':stationcnt})\n",
    "rowlist_s[0:5]"
   ]
  },
  {
   "cell_type": "markdown",
   "metadata": {},
   "source": [
    "### 6. rowlist_s(모든 기록의 평균 기온을 담고 있는 리스트) > dataframe"
   ]
  },
  {
   "cell_type": "code",
   "execution_count": 96,
   "metadata": {},
   "outputs": [
    {
     "data": {
      "text/html": [
       "<div>\n",
       "<style scoped>\n",
       "    .dataframe tbody tr th:only-of-type {\n",
       "        vertical-align: middle;\n",
       "    }\n",
       "\n",
       "    .dataframe tbody tr th {\n",
       "        vertical-align: top;\n",
       "    }\n",
       "\n",
       "    .dataframe thead th {\n",
       "        text-align: right;\n",
       "    }\n",
       "</style>\n",
       "<table border=\"1\" class=\"dataframe\">\n",
       "  <thead>\n",
       "    <tr style=\"text-align: right;\">\n",
       "      <th></th>\n",
       "      <th>station</th>\n",
       "      <th>avgtemp</th>\n",
       "      <th>stationcnt</th>\n",
       "    </tr>\n",
       "  </thead>\n",
       "  <tbody>\n",
       "    <tr>\n",
       "      <th>0</th>\n",
       "      <td>ALTAMIRA</td>\n",
       "      <td>28.31</td>\n",
       "      <td>5</td>\n",
       "    </tr>\n",
       "    <tr>\n",
       "      <th>1</th>\n",
       "      <td>ALTA_FLORESTA_AERO</td>\n",
       "      <td>29.37</td>\n",
       "      <td>12</td>\n",
       "    </tr>\n",
       "    <tr>\n",
       "      <th>2</th>\n",
       "      <td>ARAXA</td>\n",
       "      <td>21.61</td>\n",
       "      <td>4</td>\n",
       "    </tr>\n",
       "    <tr>\n",
       "      <th>3</th>\n",
       "      <td>BACABAL</td>\n",
       "      <td>29.75</td>\n",
       "      <td>4</td>\n",
       "    </tr>\n",
       "    <tr>\n",
       "      <th>4</th>\n",
       "      <td>BAGE</td>\n",
       "      <td>19.30</td>\n",
       "      <td>12</td>\n",
       "    </tr>\n",
       "  </tbody>\n",
       "</table>\n",
       "</div>"
      ],
      "text/plain": [
       "              station  avgtemp  stationcnt\n",
       "0            ALTAMIRA    28.31           5\n",
       "1  ALTA_FLORESTA_AERO    29.37          12\n",
       "2               ARAXA    21.61           4\n",
       "3             BACABAL    29.75           4\n",
       "4                BAGE    19.30          12"
      ]
     },
     "execution_count": 96,
     "metadata": {},
     "output_type": "execute_result"
    }
   ],
   "source": [
    "ltBrazilAvgsShallow = pd.DataFrame(rowlist_s)\n",
    "ltBrazilAvgsShallow.head()"
   ]
  },
  {
   "cell_type": "markdown",
   "metadata": {},
   "source": [
    "### 7. 잘 작동되었는지 비교 확인 (3번 결과 - 4번 결과)"
   ]
  },
  {
   "cell_type": "code",
   "execution_count": 97,
   "metadata": {},
   "outputs": [
    {
     "data": {
      "text/html": [
       "<div>\n",
       "<style scoped>\n",
       "    .dataframe tbody tr th:only-of-type {\n",
       "        vertical-align: middle;\n",
       "    }\n",
       "\n",
       "    .dataframe tbody tr th {\n",
       "        vertical-align: top;\n",
       "    }\n",
       "\n",
       "    .dataframe thead th {\n",
       "        text-align: right;\n",
       "    }\n",
       "</style>\n",
       "<table border=\"1\" class=\"dataframe\">\n",
       "  <thead>\n",
       "    <tr style=\"text-align: right;\">\n",
       "      <th></th>\n",
       "      <th>station</th>\n",
       "      <th>avgtemp</th>\n",
       "      <th>stationcnt</th>\n",
       "    </tr>\n",
       "  </thead>\n",
       "  <tbody>\n",
       "    <tr>\n",
       "      <th>4</th>\n",
       "      <td>BAGE</td>\n",
       "      <td>20.37</td>\n",
       "      <td>9</td>\n",
       "    </tr>\n",
       "  </tbody>\n",
       "</table>\n",
       "</div>"
      ],
      "text/plain": [
       "  station  avgtemp  stationcnt\n",
       "4    BAGE    20.37           9"
      ]
     },
     "execution_count": 97,
     "metadata": {},
     "output_type": "execute_result"
    }
   ],
   "source": [
    "ltBrazilAvgs[ltBrazilAvgs.station=='BAGE']"
   ]
  },
  {
   "cell_type": "code",
   "execution_count": 98,
   "metadata": {},
   "outputs": [
    {
     "data": {
      "text/html": [
       "<div>\n",
       "<style scoped>\n",
       "    .dataframe tbody tr th:only-of-type {\n",
       "        vertical-align: middle;\n",
       "    }\n",
       "\n",
       "    .dataframe tbody tr th {\n",
       "        vertical-align: top;\n",
       "    }\n",
       "\n",
       "    .dataframe thead th {\n",
       "        text-align: right;\n",
       "    }\n",
       "</style>\n",
       "<table border=\"1\" class=\"dataframe\">\n",
       "  <thead>\n",
       "    <tr style=\"text-align: right;\">\n",
       "      <th></th>\n",
       "      <th>station</th>\n",
       "      <th>avgtemp</th>\n",
       "      <th>stationcnt</th>\n",
       "    </tr>\n",
       "  </thead>\n",
       "  <tbody>\n",
       "    <tr>\n",
       "      <th>4</th>\n",
       "      <td>BAGE</td>\n",
       "      <td>19.30</td>\n",
       "      <td>12</td>\n",
       "    </tr>\n",
       "  </tbody>\n",
       "</table>\n",
       "</div>"
      ],
      "text/plain": [
       "  station  avgtemp  stationcnt\n",
       "4    BAGE    19.30          12"
      ]
     },
     "execution_count": 98,
     "metadata": {},
     "output_type": "execute_result"
    }
   ],
   "source": [
    "ltBrazilAvgsShallow[ltBrazilAvgsShallow.station=='BAGE']"
   ]
  },
  {
   "cell_type": "markdown",
   "metadata": {},
   "source": [
    "* BAGE 관측소에 3도 넘게 기온변화가 있는 데이터는 총 3개가 있음 (index = 485, 642, 918)"
   ]
  },
  {
   "cell_type": "code",
   "execution_count": 99,
   "metadata": {},
   "outputs": [
    {
     "data": {
      "text/html": [
       "<div>\n",
       "<style scoped>\n",
       "    .dataframe tbody tr th:only-of-type {\n",
       "        vertical-align: middle;\n",
       "    }\n",
       "\n",
       "    .dataframe tbody tr th {\n",
       "        vertical-align: top;\n",
       "    }\n",
       "\n",
       "    .dataframe thead th {\n",
       "        text-align: right;\n",
       "    }\n",
       "</style>\n",
       "<table border=\"1\" class=\"dataframe\">\n",
       "  <thead>\n",
       "    <tr style=\"text-align: right;\">\n",
       "      <th></th>\n",
       "      <th>locationid</th>\n",
       "      <th>year</th>\n",
       "      <th>month</th>\n",
       "      <th>temperature</th>\n",
       "      <th>latitude</th>\n",
       "      <th>longitude</th>\n",
       "      <th>elevation</th>\n",
       "      <th>station</th>\n",
       "      <th>countryid</th>\n",
       "      <th>country</th>\n",
       "      <th>latabs</th>\n",
       "    </tr>\n",
       "  </thead>\n",
       "  <tbody>\n",
       "    <tr>\n",
       "      <th>90</th>\n",
       "      <td>BRM00083980</td>\n",
       "      <td>2019</td>\n",
       "      <td>1</td>\n",
       "      <td>25.10</td>\n",
       "      <td>-31.33</td>\n",
       "      <td>-54.10</td>\n",
       "      <td>242.00</td>\n",
       "      <td>BAGE</td>\n",
       "      <td>BR</td>\n",
       "      <td>Brazil</td>\n",
       "      <td>31.33</td>\n",
       "    </tr>\n",
       "    <tr>\n",
       "      <th>182</th>\n",
       "      <td>BRM00083980</td>\n",
       "      <td>2019</td>\n",
       "      <td>2</td>\n",
       "      <td>23.90</td>\n",
       "      <td>-31.33</td>\n",
       "      <td>-54.10</td>\n",
       "      <td>242.00</td>\n",
       "      <td>BAGE</td>\n",
       "      <td>BR</td>\n",
       "      <td>Brazil</td>\n",
       "      <td>31.33</td>\n",
       "    </tr>\n",
       "    <tr>\n",
       "      <th>274</th>\n",
       "      <td>BRM00083980</td>\n",
       "      <td>2019</td>\n",
       "      <td>3</td>\n",
       "      <td>21.80</td>\n",
       "      <td>-31.33</td>\n",
       "      <td>-54.10</td>\n",
       "      <td>242.00</td>\n",
       "      <td>BAGE</td>\n",
       "      <td>BR</td>\n",
       "      <td>Brazil</td>\n",
       "      <td>31.33</td>\n",
       "    </tr>\n",
       "    <tr>\n",
       "      <th>366</th>\n",
       "      <td>BRM00083980</td>\n",
       "      <td>2019</td>\n",
       "      <td>4</td>\n",
       "      <td>20.15</td>\n",
       "      <td>-31.33</td>\n",
       "      <td>-54.10</td>\n",
       "      <td>242.00</td>\n",
       "      <td>BAGE</td>\n",
       "      <td>BR</td>\n",
       "      <td>Brazil</td>\n",
       "      <td>31.33</td>\n",
       "    </tr>\n",
       "    <tr>\n",
       "      <th>458</th>\n",
       "      <td>BRM00083980</td>\n",
       "      <td>2019</td>\n",
       "      <td>5</td>\n",
       "      <td>16.90</td>\n",
       "      <td>-31.33</td>\n",
       "      <td>-54.10</td>\n",
       "      <td>242.00</td>\n",
       "      <td>BAGE</td>\n",
       "      <td>BR</td>\n",
       "      <td>Brazil</td>\n",
       "      <td>31.33</td>\n",
       "    </tr>\n",
       "    <tr>\n",
       "      <th>550</th>\n",
       "      <td>BRM00083980</td>\n",
       "      <td>2019</td>\n",
       "      <td>6</td>\n",
       "      <td>17.45</td>\n",
       "      <td>-31.33</td>\n",
       "      <td>-54.10</td>\n",
       "      <td>242.00</td>\n",
       "      <td>BAGE</td>\n",
       "      <td>BR</td>\n",
       "      <td>Brazil</td>\n",
       "      <td>31.33</td>\n",
       "    </tr>\n",
       "    <tr>\n",
       "      <th>642</th>\n",
       "      <td>BRM00083980</td>\n",
       "      <td>2019</td>\n",
       "      <td>7</td>\n",
       "      <td>12.40</td>\n",
       "      <td>-31.33</td>\n",
       "      <td>-54.10</td>\n",
       "      <td>242.00</td>\n",
       "      <td>BAGE</td>\n",
       "      <td>BR</td>\n",
       "      <td>Brazil</td>\n",
       "      <td>31.33</td>\n",
       "    </tr>\n",
       "    <tr>\n",
       "      <th>734</th>\n",
       "      <td>BRM00083980</td>\n",
       "      <td>2019</td>\n",
       "      <td>8</td>\n",
       "      <td>13.50</td>\n",
       "      <td>-31.33</td>\n",
       "      <td>-54.10</td>\n",
       "      <td>242.00</td>\n",
       "      <td>BAGE</td>\n",
       "      <td>BR</td>\n",
       "      <td>Brazil</td>\n",
       "      <td>31.33</td>\n",
       "    </tr>\n",
       "    <tr>\n",
       "      <th>826</th>\n",
       "      <td>BRM00083980</td>\n",
       "      <td>2019</td>\n",
       "      <td>9</td>\n",
       "      <td>15.75</td>\n",
       "      <td>-31.33</td>\n",
       "      <td>-54.10</td>\n",
       "      <td>242.00</td>\n",
       "      <td>BAGE</td>\n",
       "      <td>BR</td>\n",
       "      <td>Brazil</td>\n",
       "      <td>31.33</td>\n",
       "    </tr>\n",
       "    <tr>\n",
       "      <th>918</th>\n",
       "      <td>BRM00083980</td>\n",
       "      <td>2019</td>\n",
       "      <td>10</td>\n",
       "      <td>18.95</td>\n",
       "      <td>-31.33</td>\n",
       "      <td>-54.10</td>\n",
       "      <td>242.00</td>\n",
       "      <td>BAGE</td>\n",
       "      <td>BR</td>\n",
       "      <td>Brazil</td>\n",
       "      <td>31.33</td>\n",
       "    </tr>\n",
       "    <tr>\n",
       "      <th>1010</th>\n",
       "      <td>BRM00083980</td>\n",
       "      <td>2019</td>\n",
       "      <td>11</td>\n",
       "      <td>21.90</td>\n",
       "      <td>-31.33</td>\n",
       "      <td>-54.10</td>\n",
       "      <td>242.00</td>\n",
       "      <td>BAGE</td>\n",
       "      <td>BR</td>\n",
       "      <td>Brazil</td>\n",
       "      <td>31.33</td>\n",
       "    </tr>\n",
       "    <tr>\n",
       "      <th>1102</th>\n",
       "      <td>BRM00083980</td>\n",
       "      <td>2019</td>\n",
       "      <td>12</td>\n",
       "      <td>23.75</td>\n",
       "      <td>-31.33</td>\n",
       "      <td>-54.10</td>\n",
       "      <td>242.00</td>\n",
       "      <td>BAGE</td>\n",
       "      <td>BR</td>\n",
       "      <td>Brazil</td>\n",
       "      <td>31.33</td>\n",
       "    </tr>\n",
       "  </tbody>\n",
       "</table>\n",
       "</div>"
      ],
      "text/plain": [
       "       locationid  year  month  temperature  latitude  longitude  elevation station countryid country  latabs\n",
       "90    BRM00083980  2019      1        25.10    -31.33     -54.10     242.00    BAGE        BR  Brazil   31.33\n",
       "182   BRM00083980  2019      2        23.90    -31.33     -54.10     242.00    BAGE        BR  Brazil   31.33\n",
       "274   BRM00083980  2019      3        21.80    -31.33     -54.10     242.00    BAGE        BR  Brazil   31.33\n",
       "366   BRM00083980  2019      4        20.15    -31.33     -54.10     242.00    BAGE        BR  Brazil   31.33\n",
       "458   BRM00083980  2019      5        16.90    -31.33     -54.10     242.00    BAGE        BR  Brazil   31.33\n",
       "550   BRM00083980  2019      6        17.45    -31.33     -54.10     242.00    BAGE        BR  Brazil   31.33\n",
       "642   BRM00083980  2019      7        12.40    -31.33     -54.10     242.00    BAGE        BR  Brazil   31.33\n",
       "734   BRM00083980  2019      8        13.50    -31.33     -54.10     242.00    BAGE        BR  Brazil   31.33\n",
       "826   BRM00083980  2019      9        15.75    -31.33     -54.10     242.00    BAGE        BR  Brazil   31.33\n",
       "918   BRM00083980  2019     10        18.95    -31.33     -54.10     242.00    BAGE        BR  Brazil   31.33\n",
       "1010  BRM00083980  2019     11        21.90    -31.33     -54.10     242.00    BAGE        BR  Brazil   31.33\n",
       "1102  BRM00083980  2019     12        23.75    -31.33     -54.10     242.00    BAGE        BR  Brazil   31.33"
      ]
     },
     "execution_count": 99,
     "metadata": {},
     "output_type": "execute_result"
    }
   ],
   "source": [
    "ltBrazil[ltBrazil.station=='BAGE']"
   ]
  },
  {
   "cell_type": "markdown",
   "metadata": {},
   "source": [
    "# numpy array로 그룹별 합계 계산\n",
    "* 앞에서 itertuple로 했던 작업을 넘파이 배열을 사용하여 수행할 수도 있다."
   ]
  },
  {
   "cell_type": "markdown",
   "metadata": {},
   "source": [
    "## 코로나19 데이터"
   ]
  },
  {
   "cell_type": "markdown",
   "metadata": {},
   "source": [
    "### 데이터 로드"
   ]
  },
  {
   "cell_type": "code",
   "execution_count": 137,
   "metadata": {},
   "outputs": [],
   "source": [
    "covidDaily = pd.read_csv(\"data/coviddaily720.csv\", parse_dates=[\"casedate\"])"
   ]
  },
  {
   "cell_type": "code",
   "execution_count": 138,
   "metadata": {},
   "outputs": [
    {
     "data": {
      "text/html": [
       "<div>\n",
       "<style scoped>\n",
       "    .dataframe tbody tr th:only-of-type {\n",
       "        vertical-align: middle;\n",
       "    }\n",
       "\n",
       "    .dataframe tbody tr th {\n",
       "        vertical-align: top;\n",
       "    }\n",
       "\n",
       "    .dataframe thead th {\n",
       "        text-align: right;\n",
       "    }\n",
       "</style>\n",
       "<table border=\"1\" class=\"dataframe\">\n",
       "  <thead>\n",
       "    <tr style=\"text-align: right;\">\n",
       "      <th></th>\n",
       "      <th>iso_code</th>\n",
       "      <th>casedate</th>\n",
       "      <th>location</th>\n",
       "      <th>continent</th>\n",
       "      <th>new_cases</th>\n",
       "      <th>new_deaths</th>\n",
       "      <th>population</th>\n",
       "      <th>pop_density</th>\n",
       "      <th>median_age</th>\n",
       "      <th>gdp_per_capita</th>\n",
       "      <th>hosp_beds</th>\n",
       "      <th>region</th>\n",
       "    </tr>\n",
       "  </thead>\n",
       "  <tbody>\n",
       "    <tr>\n",
       "      <th>0</th>\n",
       "      <td>AFG</td>\n",
       "      <td>2019-12-31</td>\n",
       "      <td>Afghanistan</td>\n",
       "      <td>Asia</td>\n",
       "      <td>0.00</td>\n",
       "      <td>0.00</td>\n",
       "      <td>38,928,341.00</td>\n",
       "      <td>54.42</td>\n",
       "      <td>18.60</td>\n",
       "      <td>1,803.99</td>\n",
       "      <td>0.50</td>\n",
       "      <td>South Asia</td>\n",
       "    </tr>\n",
       "    <tr>\n",
       "      <th>1</th>\n",
       "      <td>AFG</td>\n",
       "      <td>2020-01-01</td>\n",
       "      <td>Afghanistan</td>\n",
       "      <td>Asia</td>\n",
       "      <td>0.00</td>\n",
       "      <td>0.00</td>\n",
       "      <td>38,928,341.00</td>\n",
       "      <td>54.42</td>\n",
       "      <td>18.60</td>\n",
       "      <td>1,803.99</td>\n",
       "      <td>0.50</td>\n",
       "      <td>South Asia</td>\n",
       "    </tr>\n",
       "    <tr>\n",
       "      <th>2</th>\n",
       "      <td>AFG</td>\n",
       "      <td>2020-01-02</td>\n",
       "      <td>Afghanistan</td>\n",
       "      <td>Asia</td>\n",
       "      <td>0.00</td>\n",
       "      <td>0.00</td>\n",
       "      <td>38,928,341.00</td>\n",
       "      <td>54.42</td>\n",
       "      <td>18.60</td>\n",
       "      <td>1,803.99</td>\n",
       "      <td>0.50</td>\n",
       "      <td>South Asia</td>\n",
       "    </tr>\n",
       "  </tbody>\n",
       "</table>\n",
       "</div>"
      ],
      "text/plain": [
       "  iso_code   casedate     location continent  new_cases  new_deaths    population  pop_density  median_age  gdp_per_capita  hosp_beds      region\n",
       "0      AFG 2019-12-31  Afghanistan      Asia       0.00        0.00 38,928,341.00        54.42       18.60        1,803.99       0.50  South Asia\n",
       "1      AFG 2020-01-01  Afghanistan      Asia       0.00        0.00 38,928,341.00        54.42       18.60        1,803.99       0.50  South Asia\n",
       "2      AFG 2020-01-02  Afghanistan      Asia       0.00        0.00 38,928,341.00        54.42       18.60        1,803.99       0.50  South Asia"
      ]
     },
     "execution_count": 138,
     "metadata": {},
     "output_type": "execute_result"
    }
   ],
   "source": [
    "covidDaily.head(3)"
   ]
  },
  {
   "cell_type": "markdown",
   "metadata": {},
   "source": [
    "### 1. 위치 리스트 생성하기"
   ]
  },
  {
   "cell_type": "code",
   "execution_count": 139,
   "metadata": {},
   "outputs": [],
   "source": [
    "loclist = covidDaily.location.unique().tolist()"
   ]
  },
  {
   "cell_type": "markdown",
   "metadata": {},
   "source": [
    "### 2. 위치별 합계를 계산하기"
   ]
  },
  {
   "cell_type": "markdown",
   "metadata": {},
   "source": [
    "2-0. 위치 리스트 확인"
   ]
  },
  {
   "cell_type": "code",
   "execution_count": 135,
   "metadata": {},
   "outputs": [
    {
     "data": {
      "text/plain": [
       "['Afghanistan', 'Albania', 'Algeria', 'Andorra', 'Angola']"
      ]
     },
     "execution_count": 135,
     "metadata": {},
     "output_type": "execute_result"
    }
   ],
   "source": [
    "loclist[0:5]"
   ]
  },
  {
   "cell_type": "markdown",
   "metadata": {},
   "source": [
    "2-1. 위치별 일일 신규 확진자 수를 모두 cases 리스트에 담고 > sum(cases)로 한꺼번에 합계 연산 ⭐"
   ]
  },
  {
   "cell_type": "code",
   "execution_count": 133,
   "metadata": {},
   "outputs": [
    {
     "data": {
      "text/plain": [
       "(209, 209)"
      ]
     },
     "execution_count": 133,
     "metadata": {},
     "output_type": "execute_result"
    }
   ],
   "source": [
    "rowlist = []\n",
    "casevalues = covidDaily[['location','new_cases']].to_numpy()\n",
    "\n",
    "for locitem in loclist:\n",
    "    # 위치별(casevalues[j][0])로 모든 신규 확진자 수 값(casevalues[j][1])을 선택\n",
    "    cases = [casevalues[j][1] for j in range(len(casevalues)) if casevalues[j][0]==locitem]\n",
    "    # cases에 담긴 모든 값을 더한 뒤 > rowlist의 값으로 추가해둠\n",
    "    rowlist.append(sum(cases))\n",
    "    \n",
    "len(rowlist), len(loclist)"
   ]
  },
  {
   "cell_type": "markdown",
   "metadata": {},
   "source": [
    "* 2-1의 중간 과정"
   ]
  },
  {
   "cell_type": "code",
   "execution_count": 108,
   "metadata": {},
   "outputs": [
    {
     "data": {
      "text/plain": [
       "array([['Afghanistan', 0.0],\n",
       "       ['Afghanistan', 0.0],\n",
       "       ['Afghanistan', 0.0],\n",
       "       ...,\n",
       "       ['Zimbabwe', 41.0],\n",
       "       ['Zimbabwe', 16.0],\n",
       "       ['Zimbabwe', 40.0]], dtype=object)"
      ]
     },
     "execution_count": 108,
     "metadata": {},
     "output_type": "execute_result"
    }
   ],
   "source": [
    "covidDaily[['location','new_cases']].to_numpy()"
   ]
  },
  {
   "cell_type": "code",
   "execution_count": 128,
   "metadata": {},
   "outputs": [
    {
     "data": {
      "text/plain": [
       "('Afghanistan', 'Afghanistan', 'Albania')"
      ]
     },
     "execution_count": 128,
     "metadata": {},
     "output_type": "execute_result"
    }
   ],
   "source": [
    "casevalues[0][0], casevalues[184][0], casevalues[185][0]"
   ]
  },
  {
   "cell_type": "code",
   "execution_count": 114,
   "metadata": {},
   "outputs": [
    {
     "data": {
      "text/plain": [
       "(29213, 29213)"
      ]
     },
     "execution_count": 114,
     "metadata": {},
     "output_type": "execute_result"
    }
   ],
   "source": [
    "len(covidDaily), len(casevalues)"
   ]
  },
  {
   "cell_type": "markdown",
   "metadata": {},
   "source": [
    "2-2. 합계값 확인"
   ]
  },
  {
   "cell_type": "code",
   "execution_count": 134,
   "metadata": {},
   "outputs": [
    {
     "data": {
      "text/plain": [
       "[34451.0, 3371.0, 18712.0, 855.0, 483.0]"
      ]
     },
     "execution_count": 134,
     "metadata": {},
     "output_type": "execute_result"
    }
   ],
   "source": [
    "rowlist[0:5]"
   ]
  },
  {
   "cell_type": "markdown",
   "metadata": {},
   "source": [
    "### 3. lists > zip 내장함수로 묶기 > dataframe"
   ]
  },
  {
   "cell_type": "code",
   "execution_count": 112,
   "metadata": {},
   "outputs": [
    {
     "data": {
      "text/html": [
       "<div>\n",
       "<style scoped>\n",
       "    .dataframe tbody tr th:only-of-type {\n",
       "        vertical-align: middle;\n",
       "    }\n",
       "\n",
       "    .dataframe tbody tr th {\n",
       "        vertical-align: top;\n",
       "    }\n",
       "\n",
       "    .dataframe thead th {\n",
       "        text-align: right;\n",
       "    }\n",
       "</style>\n",
       "<table border=\"1\" class=\"dataframe\">\n",
       "  <thead>\n",
       "    <tr style=\"text-align: right;\">\n",
       "      <th></th>\n",
       "      <th>location</th>\n",
       "      <th>casetotals</th>\n",
       "    </tr>\n",
       "  </thead>\n",
       "  <tbody>\n",
       "    <tr>\n",
       "      <th>0</th>\n",
       "      <td>Afghanistan</td>\n",
       "      <td>982.00</td>\n",
       "    </tr>\n",
       "  </tbody>\n",
       "</table>\n",
       "</div>"
      ],
      "text/plain": [
       "      location  casetotals\n",
       "0  Afghanistan      982.00"
      ]
     },
     "execution_count": 112,
     "metadata": {},
     "output_type": "execute_result"
    }
   ],
   "source": [
    "casetotals = pd.DataFrame(zip(loclist,rowlist), columns=(['location','casetotals']))\n",
    "casetotals.head()"
   ]
  },
  {
   "cell_type": "markdown",
   "metadata": {},
   "source": [
    "# groupby로 데이터를 그룹별 조직화\n",
    "* 앞의 방법에서 다룬 방법으로도 요약통계를 생성할 수 있으나\n",
    "* pandas dataframe의 **📍groupby 메서드**를 활용하여 집계 작업하는 것이 일반적이고 효율도 높다."
   ]
  },
  {
   "cell_type": "markdown",
   "metadata": {},
   "source": [
    "## 코로나19 데이터"
   ]
  },
  {
   "cell_type": "code",
   "execution_count": 136,
   "metadata": {},
   "outputs": [],
   "source": [
    "covidDaily = pd.read_csv(\"data/coviddaily720.csv\", parse_dates=[\"casedate\"])"
   ]
  },
  {
   "cell_type": "markdown",
   "metadata": {},
   "source": [
    "### 1. 판다스 groupby `데이터 프레임`을 생성하기"
   ]
  },
  {
   "cell_type": "code",
   "execution_count": 140,
   "metadata": {},
   "outputs": [
    {
     "data": {
      "text/plain": [
       "pandas.core.groupby.generic.DataFrameGroupBy"
      ]
     },
     "execution_count": 140,
     "metadata": {},
     "output_type": "execute_result"
    }
   ],
   "source": [
    "countryTots = covidDaily.groupby(['location'])\n",
    "type(countryTots)"
   ]
  },
  {
   "cell_type": "code",
   "execution_count": 144,
   "metadata": {},
   "outputs": [
    {
     "data": {
      "text/plain": [
       "<pandas.core.groupby.generic.DataFrameGroupBy object at 0x00000273D15A71F0>"
      ]
     },
     "execution_count": 144,
     "metadata": {},
     "output_type": "execute_result"
    }
   ],
   "source": [
    "countryTots"
   ]
  },
  {
   "cell_type": "markdown",
   "metadata": {},
   "source": [
    "### 2. 국가별로 첫 행과 마지막 행의 `데이터 프레임` 생성하기"
   ]
  },
  {
   "cell_type": "code",
   "execution_count": 146,
   "metadata": {},
   "outputs": [
    {
     "data": {
      "text/html": [
       "<div>\n",
       "<style scoped>\n",
       "    .dataframe tbody tr th:only-of-type {\n",
       "        vertical-align: middle;\n",
       "    }\n",
       "\n",
       "    .dataframe tbody tr th {\n",
       "        vertical-align: top;\n",
       "    }\n",
       "\n",
       "    .dataframe thead th {\n",
       "        text-align: right;\n",
       "    }\n",
       "</style>\n",
       "<table border=\"1\" class=\"dataframe\">\n",
       "  <thead>\n",
       "    <tr style=\"text-align: right;\">\n",
       "      <th></th>\n",
       "      <th>iso_code</th>\n",
       "      <th>casedate</th>\n",
       "      <th>continent</th>\n",
       "      <th>new_cases</th>\n",
       "      <th>new_deaths</th>\n",
       "    </tr>\n",
       "    <tr>\n",
       "      <th>location</th>\n",
       "      <th></th>\n",
       "      <th></th>\n",
       "      <th></th>\n",
       "      <th></th>\n",
       "      <th></th>\n",
       "    </tr>\n",
       "  </thead>\n",
       "  <tbody>\n",
       "    <tr>\n",
       "      <th>Afghanistan</th>\n",
       "      <td>AFG</td>\n",
       "      <td>2019-12-31</td>\n",
       "      <td>Asia</td>\n",
       "      <td>0.00</td>\n",
       "      <td>0.00</td>\n",
       "    </tr>\n",
       "    <tr>\n",
       "      <th>Albania</th>\n",
       "      <td>ALB</td>\n",
       "      <td>2020-03-09</td>\n",
       "      <td>Europe</td>\n",
       "      <td>2.00</td>\n",
       "      <td>0.00</td>\n",
       "    </tr>\n",
       "    <tr>\n",
       "      <th>Algeria</th>\n",
       "      <td>DZA</td>\n",
       "      <td>2019-12-31</td>\n",
       "      <td>Africa</td>\n",
       "      <td>0.00</td>\n",
       "      <td>0.00</td>\n",
       "    </tr>\n",
       "    <tr>\n",
       "      <th>Andorra</th>\n",
       "      <td>AND</td>\n",
       "      <td>2020-03-03</td>\n",
       "      <td>Europe</td>\n",
       "      <td>1.00</td>\n",
       "      <td>0.00</td>\n",
       "    </tr>\n",
       "    <tr>\n",
       "      <th>Angola</th>\n",
       "      <td>AGO</td>\n",
       "      <td>2020-03-22</td>\n",
       "      <td>Africa</td>\n",
       "      <td>2.00</td>\n",
       "      <td>0.00</td>\n",
       "    </tr>\n",
       "  </tbody>\n",
       "</table>\n",
       "</div>"
      ],
      "text/plain": [
       "            iso_code   casedate continent  new_cases  new_deaths\n",
       "location                                                        \n",
       "Afghanistan      AFG 2019-12-31      Asia       0.00        0.00\n",
       "Albania          ALB 2020-03-09    Europe       2.00        0.00\n",
       "Algeria          DZA 2019-12-31    Africa       0.00        0.00\n",
       "Andorra          AND 2020-03-03    Europe       1.00        0.00\n",
       "Angola           AGO 2020-03-22    Africa       2.00        0.00"
      ]
     },
     "execution_count": 146,
     "metadata": {},
     "output_type": "execute_result"
    }
   ],
   "source": [
    "countryTots.first().iloc[0:5, 0:5]"
   ]
  },
  {
   "cell_type": "code",
   "execution_count": 147,
   "metadata": {},
   "outputs": [
    {
     "data": {
      "text/html": [
       "<div>\n",
       "<style scoped>\n",
       "    .dataframe tbody tr th:only-of-type {\n",
       "        vertical-align: middle;\n",
       "    }\n",
       "\n",
       "    .dataframe tbody tr th {\n",
       "        vertical-align: top;\n",
       "    }\n",
       "\n",
       "    .dataframe thead th {\n",
       "        text-align: right;\n",
       "    }\n",
       "</style>\n",
       "<table border=\"1\" class=\"dataframe\">\n",
       "  <thead>\n",
       "    <tr style=\"text-align: right;\">\n",
       "      <th></th>\n",
       "      <th>iso_code</th>\n",
       "      <th>casedate</th>\n",
       "      <th>continent</th>\n",
       "      <th>new_cases</th>\n",
       "      <th>new_deaths</th>\n",
       "    </tr>\n",
       "    <tr>\n",
       "      <th>location</th>\n",
       "      <th></th>\n",
       "      <th></th>\n",
       "      <th></th>\n",
       "      <th></th>\n",
       "      <th></th>\n",
       "    </tr>\n",
       "  </thead>\n",
       "  <tbody>\n",
       "    <tr>\n",
       "      <th>Afghanistan</th>\n",
       "      <td>AFG</td>\n",
       "      <td>2020-07-12</td>\n",
       "      <td>Asia</td>\n",
       "      <td>85.00</td>\n",
       "      <td>16.00</td>\n",
       "    </tr>\n",
       "    <tr>\n",
       "      <th>Albania</th>\n",
       "      <td>ALB</td>\n",
       "      <td>2020-07-12</td>\n",
       "      <td>Europe</td>\n",
       "      <td>93.00</td>\n",
       "      <td>4.00</td>\n",
       "    </tr>\n",
       "    <tr>\n",
       "      <th>Algeria</th>\n",
       "      <td>DZA</td>\n",
       "      <td>2020-07-12</td>\n",
       "      <td>Africa</td>\n",
       "      <td>904.00</td>\n",
       "      <td>16.00</td>\n",
       "    </tr>\n",
       "    <tr>\n",
       "      <th>Andorra</th>\n",
       "      <td>AND</td>\n",
       "      <td>2020-07-12</td>\n",
       "      <td>Europe</td>\n",
       "      <td>0.00</td>\n",
       "      <td>0.00</td>\n",
       "    </tr>\n",
       "    <tr>\n",
       "      <th>Angola</th>\n",
       "      <td>AGO</td>\n",
       "      <td>2020-07-12</td>\n",
       "      <td>Africa</td>\n",
       "      <td>25.00</td>\n",
       "      <td>2.00</td>\n",
       "    </tr>\n",
       "  </tbody>\n",
       "</table>\n",
       "</div>"
      ],
      "text/plain": [
       "            iso_code   casedate continent  new_cases  new_deaths\n",
       "location                                                        \n",
       "Afghanistan      AFG 2020-07-12      Asia      85.00       16.00\n",
       "Albania          ALB 2020-07-12    Europe      93.00        4.00\n",
       "Algeria          DZA 2020-07-12    Africa     904.00       16.00\n",
       "Andorra          AND 2020-07-12    Europe       0.00        0.00\n",
       "Angola           AGO 2020-07-12    Africa      25.00        2.00"
      ]
     },
     "execution_count": 147,
     "metadata": {},
     "output_type": "execute_result"
    }
   ],
   "source": [
    "countryTots.last().iloc[0:5, 0:5]"
   ]
  },
  {
   "cell_type": "code",
   "execution_count": 148,
   "metadata": {},
   "outputs": [
    {
     "data": {
      "text/plain": [
       "pandas.core.frame.DataFrame"
      ]
     },
     "execution_count": 148,
     "metadata": {},
     "output_type": "execute_result"
    }
   ],
   "source": [
    "type(countryTots.last())"
   ]
  },
  {
   "cell_type": "markdown",
   "metadata": {},
   "source": [
    "### 3. 국가별로 전체 행 얻기"
   ]
  },
  {
   "cell_type": "code",
   "execution_count": 150,
   "metadata": {},
   "outputs": [
    {
     "data": {
      "text/html": [
       "<div>\n",
       "<style scoped>\n",
       "    .dataframe tbody tr th:only-of-type {\n",
       "        vertical-align: middle;\n",
       "    }\n",
       "\n",
       "    .dataframe tbody tr th {\n",
       "        vertical-align: top;\n",
       "    }\n",
       "\n",
       "    .dataframe thead th {\n",
       "        text-align: right;\n",
       "    }\n",
       "</style>\n",
       "<table border=\"1\" class=\"dataframe\">\n",
       "  <thead>\n",
       "    <tr style=\"text-align: right;\">\n",
       "      <th></th>\n",
       "      <th>iso_code</th>\n",
       "      <th>casedate</th>\n",
       "      <th>continent</th>\n",
       "      <th>new_cases</th>\n",
       "      <th>new_deaths</th>\n",
       "    </tr>\n",
       "  </thead>\n",
       "  <tbody>\n",
       "    <tr>\n",
       "      <th>29099</th>\n",
       "      <td>ZWE</td>\n",
       "      <td>2020-03-21</td>\n",
       "      <td>Africa</td>\n",
       "      <td>1.00</td>\n",
       "      <td>0.00</td>\n",
       "    </tr>\n",
       "    <tr>\n",
       "      <th>29100</th>\n",
       "      <td>ZWE</td>\n",
       "      <td>2020-03-22</td>\n",
       "      <td>Africa</td>\n",
       "      <td>1.00</td>\n",
       "      <td>0.00</td>\n",
       "    </tr>\n",
       "    <tr>\n",
       "      <th>29101</th>\n",
       "      <td>ZWE</td>\n",
       "      <td>2020-03-23</td>\n",
       "      <td>Africa</td>\n",
       "      <td>0.00</td>\n",
       "      <td>0.00</td>\n",
       "    </tr>\n",
       "    <tr>\n",
       "      <th>29102</th>\n",
       "      <td>ZWE</td>\n",
       "      <td>2020-03-24</td>\n",
       "      <td>Africa</td>\n",
       "      <td>0.00</td>\n",
       "      <td>1.00</td>\n",
       "    </tr>\n",
       "    <tr>\n",
       "      <th>29103</th>\n",
       "      <td>ZWE</td>\n",
       "      <td>2020-03-25</td>\n",
       "      <td>Africa</td>\n",
       "      <td>0.00</td>\n",
       "      <td>0.00</td>\n",
       "    </tr>\n",
       "  </tbody>\n",
       "</table>\n",
       "</div>"
      ],
      "text/plain": [
       "      iso_code   casedate continent  new_cases  new_deaths\n",
       "29099      ZWE 2020-03-21    Africa       1.00        0.00\n",
       "29100      ZWE 2020-03-22    Africa       1.00        0.00\n",
       "29101      ZWE 2020-03-23    Africa       0.00        0.00\n",
       "29102      ZWE 2020-03-24    Africa       0.00        1.00\n",
       "29103      ZWE 2020-03-25    Africa       0.00        0.00"
      ]
     },
     "execution_count": 150,
     "metadata": {},
     "output_type": "execute_result"
    }
   ],
   "source": [
    "countryTots.get_group('Zimbabwe').iloc[0:5, 0:5]"
   ]
  },
  {
   "cell_type": "markdown",
   "metadata": {},
   "source": [
    "### 4. 그룹에 대해 순회(looping)"
   ]
  },
  {
   "cell_type": "code",
   "execution_count": 152,
   "metadata": {},
   "outputs": [
    {
     "name": "stdout",
     "output_type": "stream",
     "text": [
      "      iso_code   casedate location continent  new_cases\n",
      "14707      KWT 2019-12-31   Kuwait      Asia       0.00\n",
      "14708      KWT 2020-01-01   Kuwait      Asia       0.00\n",
      "14709      KWT 2020-01-02   Kuwait      Asia       0.00\n",
      "14710      KWT 2020-01-03   Kuwait      Asia       0.00\n",
      "14711      KWT 2020-01-04   Kuwait      Asia       0.00\n",
      "      iso_code   casedate location continent  new_cases\n",
      "17057      MLT 2020-03-07    Malta    Europe       1.00\n",
      "17058      MLT 2020-03-08    Malta    Europe       2.00\n",
      "17059      MLT 2020-03-09    Malta    Europe       0.00\n",
      "17060      MLT 2020-03-10    Malta    Europe       2.00\n",
      "17061      MLT 2020-03-11    Malta    Europe       1.00\n"
     ]
    }
   ],
   "source": [
    "for name, group in countryTots:\n",
    "  if (name in ['Malta','Kuwait']):\n",
    "    print(group.iloc[0:5, 0:5])"
   ]
  },
  {
   "cell_type": "markdown",
   "metadata": {},
   "source": [
    "### 5. 국가별 행 수 보기"
   ]
  },
  {
   "cell_type": "code",
   "execution_count": 154,
   "metadata": {},
   "outputs": [
    {
     "data": {
      "text/plain": [
       "location\n",
       "Afghanistan       185\n",
       "Albania           126\n",
       "Algeria           190\n",
       "Andorra           121\n",
       "Angola            113\n",
       "                 ... \n",
       "Vietnam           191\n",
       "Western Sahara     78\n",
       "Yemen              94\n",
       "Zambia            116\n",
       "Zimbabwe          114\n",
       "Length: 209, dtype: int64"
      ]
     },
     "execution_count": 154,
     "metadata": {},
     "output_type": "execute_result"
    }
   ],
   "source": [
    "countryTots.size()"
   ]
  },
  {
   "cell_type": "markdown",
   "metadata": {},
   "source": [
    "### 6. 국가별 요약통게 보기"
   ]
  },
  {
   "cell_type": "markdown",
   "metadata": {},
   "source": [
    "6-1. 기본 요약통계"
   ]
  },
  {
   "cell_type": "code",
   "execution_count": 155,
   "metadata": {},
   "outputs": [
    {
     "data": {
      "text/html": [
       "<div>\n",
       "<style scoped>\n",
       "    .dataframe tbody tr th:only-of-type {\n",
       "        vertical-align: middle;\n",
       "    }\n",
       "\n",
       "    .dataframe tbody tr th {\n",
       "        vertical-align: top;\n",
       "    }\n",
       "\n",
       "    .dataframe thead th {\n",
       "        text-align: right;\n",
       "    }\n",
       "</style>\n",
       "<table border=\"1\" class=\"dataframe\">\n",
       "  <thead>\n",
       "    <tr style=\"text-align: right;\">\n",
       "      <th></th>\n",
       "      <th>count</th>\n",
       "      <th>mean</th>\n",
       "      <th>std</th>\n",
       "      <th>min</th>\n",
       "      <th>25%</th>\n",
       "      <th>50%</th>\n",
       "      <th>75%</th>\n",
       "      <th>max</th>\n",
       "    </tr>\n",
       "    <tr>\n",
       "      <th>location</th>\n",
       "      <th></th>\n",
       "      <th></th>\n",
       "      <th></th>\n",
       "      <th></th>\n",
       "      <th></th>\n",
       "      <th></th>\n",
       "      <th></th>\n",
       "      <th></th>\n",
       "    </tr>\n",
       "  </thead>\n",
       "  <tbody>\n",
       "    <tr>\n",
       "      <th>Afghanistan</th>\n",
       "      <td>185.00</td>\n",
       "      <td>186.22</td>\n",
       "      <td>257.31</td>\n",
       "      <td>0.00</td>\n",
       "      <td>0.00</td>\n",
       "      <td>37.00</td>\n",
       "      <td>302.00</td>\n",
       "      <td>1,063.00</td>\n",
       "    </tr>\n",
       "    <tr>\n",
       "      <th>Albania</th>\n",
       "      <td>126.00</td>\n",
       "      <td>26.75</td>\n",
       "      <td>24.65</td>\n",
       "      <td>0.00</td>\n",
       "      <td>9.00</td>\n",
       "      <td>17.00</td>\n",
       "      <td>35.50</td>\n",
       "      <td>93.00</td>\n",
       "    </tr>\n",
       "    <tr>\n",
       "      <th>Algeria</th>\n",
       "      <td>190.00</td>\n",
       "      <td>98.48</td>\n",
       "      <td>123.98</td>\n",
       "      <td>0.00</td>\n",
       "      <td>0.00</td>\n",
       "      <td>88.00</td>\n",
       "      <td>149.75</td>\n",
       "      <td>904.00</td>\n",
       "    </tr>\n",
       "    <tr>\n",
       "      <th>Andorra</th>\n",
       "      <td>121.00</td>\n",
       "      <td>7.07</td>\n",
       "      <td>12.72</td>\n",
       "      <td>0.00</td>\n",
       "      <td>0.00</td>\n",
       "      <td>1.00</td>\n",
       "      <td>9.00</td>\n",
       "      <td>79.00</td>\n",
       "    </tr>\n",
       "    <tr>\n",
       "      <th>Angola</th>\n",
       "      <td>113.00</td>\n",
       "      <td>4.27</td>\n",
       "      <td>8.51</td>\n",
       "      <td>0.00</td>\n",
       "      <td>0.00</td>\n",
       "      <td>1.00</td>\n",
       "      <td>5.00</td>\n",
       "      <td>62.00</td>\n",
       "    </tr>\n",
       "  </tbody>\n",
       "</table>\n",
       "</div>"
      ],
      "text/plain": [
       "             count   mean    std  min  25%   50%    75%      max\n",
       "location                                                        \n",
       "Afghanistan 185.00 186.22 257.31 0.00 0.00 37.00 302.00 1,063.00\n",
       "Albania     126.00  26.75  24.65 0.00 9.00 17.00  35.50    93.00\n",
       "Algeria     190.00  98.48 123.98 0.00 0.00 88.00 149.75   904.00\n",
       "Andorra     121.00   7.07  12.72 0.00 0.00  1.00   9.00    79.00\n",
       "Angola      113.00   4.27   8.51 0.00 0.00  1.00   5.00    62.00"
      ]
     },
     "execution_count": 155,
     "metadata": {},
     "output_type": "execute_result"
    }
   ],
   "source": [
    "countryTots.new_cases.describe().head()"
   ]
  },
  {
   "cell_type": "markdown",
   "metadata": {},
   "source": [
    "6-2. 합계"
   ]
  },
  {
   "cell_type": "code",
   "execution_count": 156,
   "metadata": {},
   "outputs": [
    {
     "data": {
      "text/plain": [
       "location\n",
       "Afghanistan   34,451.00\n",
       "Albania        3,371.00\n",
       "Algeria       18,712.00\n",
       "Andorra          855.00\n",
       "Angola           483.00\n",
       "Name: new_cases, dtype: float64"
      ]
     },
     "execution_count": 156,
     "metadata": {},
     "output_type": "execute_result"
    }
   ],
   "source": [
    "countryTots.new_cases.sum().head()"
   ]
  }
 ],
 "metadata": {
  "kernelspec": {
   "display_name": "Python 3",
   "language": "python",
   "name": "python3"
  },
  "language_info": {
   "codemirror_mode": {
    "name": "ipython",
    "version": 3
   },
   "file_extension": ".py",
   "mimetype": "text/x-python",
   "name": "python",
   "nbconvert_exporter": "python",
   "pygments_lexer": "ipython3",
   "version": "3.8.5"
  },
  "toc": {
   "base_numbering": 1,
   "nav_menu": {},
   "number_sections": true,
   "sideBar": true,
   "skip_h1_title": false,
   "title_cell": "Table of Contents",
   "title_sidebar": "Contents",
   "toc_cell": false,
   "toc_position": {
    "height": "calc(100% - 180px)",
    "left": "10px",
    "top": "150px",
    "width": "303.547px"
   },
   "toc_section_display": true,
   "toc_window_display": true
  }
 },
 "nbformat": 4,
 "nbformat_minor": 4
}
