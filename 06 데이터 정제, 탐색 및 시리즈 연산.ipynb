{
 "cells": [
  {
   "cell_type": "markdown",
   "metadata": {},
   "source": [
    "* Contents🔍\n",
    "> 1. 판다스 시리즈에서 값 얻기\n",
    "> 2. 판다스 시리즈 요약통계\n",
    "> 3. 시리즈 값 변경\n",
    "> 4. (조건에 따라) 시리즈 값 변경⭐\n",
    "> 5. 문자열 시리즈⭐\n",
    "> 6. 날짜 다루기⭐\n",
    "> 7. 누락 데이터 다루기⭐"
   ]
  },
  {
   "cell_type": "markdown",
   "metadata": {},
   "source": [
    "#  판다스 시리즈에서 값 얻기"
   ]
  },
  {
   "cell_type": "code",
   "execution_count": 44,
   "metadata": {},
   "outputs": [],
   "source": [
    "import pandas as pd\n",
    "\n",
    "pd.set_option('display.width', 200)\n",
    "pd.set_option('display.max_columns', 35)\n",
    "pd.set_option('display.max_rows', 200)\n",
    "pd.options.display.float_format = '{:,.2f}'.format\n",
    "\n",
    "nls97 = pd.read_csv(\"data/nls97b.csv\")\n",
    "nls97.set_index(\"personid\", inplace=True)"
   ]
  },
  {
   "cell_type": "code",
   "execution_count": 60,
   "metadata": {},
   "outputs": [
    {
     "data": {
      "text/plain": [
       "(pandas.core.series.Series,\n",
       " Int64Index([100061, 100139, 100284, 100292, 100583, 100833, 100931, 101089,\n",
       "             101122, 101132,\n",
       "             ...\n",
       "             998997, 999031, 999053, 999087, 999103, 999291, 999406, 999543,\n",
       "             999698, 999963],\n",
       "            dtype='int64', name='personid', length=8984))"
      ]
     },
     "execution_count": 60,
     "metadata": {},
     "output_type": "execute_result"
    }
   ],
   "source": [
    "# 1. create a series from the GPA column\n",
    "gpaoverall = nls97.gpaoverall\n",
    "type(gpaoverall), gpaoverall.index"
   ]
  },
  {
   "cell_type": "code",
   "execution_count": 61,
   "metadata": {},
   "outputs": [
    {
     "data": {
      "text/plain": [
       "personid\n",
       "100061   3.06\n",
       "100139    nan\n",
       "Name: gpaoverall, dtype: float64"
      ]
     },
     "execution_count": 61,
     "metadata": {},
     "output_type": "execute_result"
    }
   ],
   "source": [
    "gpaoverall.head(2)"
   ]
  },
  {
   "cell_type": "code",
   "execution_count": 48,
   "metadata": {},
   "outputs": [
    {
     "data": {
      "text/plain": [
       "personid\n",
       "100061   3.06\n",
       "100139    nan\n",
       "100284    nan\n",
       "100292   3.45\n",
       "100583   2.91\n",
       "Name: gpaoverall, dtype: float64"
      ]
     },
     "execution_count": 48,
     "metadata": {},
     "output_type": "execute_result"
    }
   ],
   "source": [
    "# 2. select gpa values using bracket notation\n",
    "gpaoverall[:5]"
   ]
  },
  {
   "cell_type": "code",
   "execution_count": 49,
   "metadata": {},
   "outputs": [
    {
     "data": {
      "text/plain": [
       "personid\n",
       "999291   3.11\n",
       "999406   2.17\n",
       "999543    nan\n",
       "999698    nan\n",
       "999963   3.78\n",
       "Name: gpaoverall, dtype: float64"
      ]
     },
     "execution_count": 49,
     "metadata": {},
     "output_type": "execute_result"
    }
   ],
   "source": [
    "gpaoverall.tail()"
   ]
  },
  {
   "cell_type": "code",
   "execution_count": 50,
   "metadata": {},
   "outputs": [
    {
     "data": {
      "text/plain": [
       "personid\n",
       "999291   3.11\n",
       "999406   2.17\n",
       "999543    nan\n",
       "999698    nan\n",
       "999963   3.78\n",
       "Name: gpaoverall, dtype: float64"
      ]
     },
     "execution_count": 50,
     "metadata": {},
     "output_type": "execute_result"
    }
   ],
   "source": [
    "gpaoverall[-5:]"
   ]
  },
  {
   "cell_type": "code",
   "execution_count": 51,
   "metadata": {},
   "outputs": [
    {
     "data": {
      "text/plain": [
       "3.06"
      ]
     },
     "execution_count": 51,
     "metadata": {},
     "output_type": "execute_result"
    }
   ],
   "source": [
    "# 3. select values using loc (이름)\n",
    "gpaoverall.loc[100061]"
   ]
  },
  {
   "cell_type": "code",
   "execution_count": 53,
   "metadata": {},
   "outputs": [
    {
     "data": {
      "text/plain": [
       "personid\n",
       "100061   3.06\n",
       "Name: gpaoverall, dtype: float64"
      ]
     },
     "execution_count": 53,
     "metadata": {},
     "output_type": "execute_result"
    }
   ],
   "source": [
    "gpaoverall.loc[[100061]]"
   ]
  },
  {
   "cell_type": "code",
   "execution_count": 54,
   "metadata": {},
   "outputs": [
    {
     "data": {
      "text/plain": [
       "personid\n",
       "100061   3.06\n",
       "100139    nan\n",
       "100284    nan\n",
       "Name: gpaoverall, dtype: float64"
      ]
     },
     "execution_count": 54,
     "metadata": {},
     "output_type": "execute_result"
    }
   ],
   "source": [
    "gpaoverall.loc[[100061,100139,100284]]"
   ]
  },
  {
   "cell_type": "code",
   "execution_count": 55,
   "metadata": {},
   "outputs": [
    {
     "data": {
      "text/plain": [
       "personid\n",
       "100061   3.06\n",
       "100139    nan\n",
       "100284    nan\n",
       "100292   3.45\n",
       "100583   2.91\n",
       "100833   2.46\n",
       "Name: gpaoverall, dtype: float64"
      ]
     },
     "execution_count": 55,
     "metadata": {},
     "output_type": "execute_result"
    }
   ],
   "source": [
    "gpaoverall.loc[100061:100833]"
   ]
  },
  {
   "cell_type": "code",
   "execution_count": 56,
   "metadata": {},
   "outputs": [
    {
     "data": {
      "text/plain": [
       "personid\n",
       "100061   3.06\n",
       "Name: gpaoverall, dtype: float64"
      ]
     },
     "execution_count": 56,
     "metadata": {},
     "output_type": "execute_result"
    }
   ],
   "source": [
    "# 4. select values using iloc (위치)\n",
    "gpaoverall.iloc[[0]]"
   ]
  },
  {
   "cell_type": "code",
   "execution_count": 57,
   "metadata": {},
   "outputs": [
    {
     "data": {
      "text/plain": [
       "personid\n",
       "100061   3.06\n",
       "100139    nan\n",
       "100284    nan\n",
       "100292   3.45\n",
       "100583   2.91\n",
       "Name: gpaoverall, dtype: float64"
      ]
     },
     "execution_count": 57,
     "metadata": {},
     "output_type": "execute_result"
    }
   ],
   "source": [
    "gpaoverall.iloc[[0,1,2,3,4]]"
   ]
  },
  {
   "cell_type": "code",
   "execution_count": 58,
   "metadata": {},
   "outputs": [
    {
     "data": {
      "text/plain": [
       "personid\n",
       "100061   3.06\n",
       "100139    nan\n",
       "100284    nan\n",
       "100292   3.45\n",
       "100583   2.91\n",
       "Name: gpaoverall, dtype: float64"
      ]
     },
     "execution_count": 58,
     "metadata": {},
     "output_type": "execute_result"
    }
   ],
   "source": [
    "gpaoverall.iloc[:5]"
   ]
  },
  {
   "cell_type": "code",
   "execution_count": 59,
   "metadata": {},
   "outputs": [
    {
     "data": {
      "text/plain": [
       "personid\n",
       "999291   3.11\n",
       "999406   2.17\n",
       "999543    nan\n",
       "999698    nan\n",
       "999963   3.78\n",
       "Name: gpaoverall, dtype: float64"
      ]
     },
     "execution_count": 59,
     "metadata": {},
     "output_type": "execute_result"
    }
   ],
   "source": [
    "gpaoverall.iloc[-5:]"
   ]
  },
  {
   "cell_type": "markdown",
   "metadata": {},
   "source": [
    "# 판다스 시리즈 요약통계"
   ]
  },
  {
   "cell_type": "code",
   "execution_count": 62,
   "metadata": {},
   "outputs": [],
   "source": [
    "import pandas as pd\n",
    "import numpy as np\n",
    "nls97 = pd.read_csv(\"data/nls97b.csv\")\n",
    "nls97.set_index(\"personid\", inplace=True)"
   ]
  },
  {
   "cell_type": "code",
   "execution_count": 69,
   "metadata": {},
   "outputs": [
    {
     "data": {
      "text/plain": [
       "2.8184077281812145"
      ]
     },
     "execution_count": 69,
     "metadata": {},
     "output_type": "execute_result"
    }
   ],
   "source": [
    "# 1. descriptive statistics\n",
    "gpaoverall = nls97.gpaoverall\n",
    "gpaoverall.mean()"
   ]
  },
  {
   "cell_type": "code",
   "execution_count": 70,
   "metadata": {},
   "outputs": [
    {
     "data": {
      "text/plain": [
       "count   6,004.00\n",
       "mean        2.82\n",
       "std         0.62\n",
       "min         0.10\n",
       "25%         2.43\n",
       "50%         2.86\n",
       "75%         3.26\n",
       "max         4.17\n",
       "Name: gpaoverall, dtype: float64"
      ]
     },
     "execution_count": 70,
     "metadata": {},
     "output_type": "execute_result"
    }
   ],
   "source": [
    "gpaoverall.describe()"
   ]
  },
  {
   "cell_type": "code",
   "execution_count": 71,
   "metadata": {},
   "outputs": [
    {
     "data": {
      "text/plain": [
       "0.10   2.02\n",
       "0.20   2.31\n",
       "0.30   2.52\n",
       "0.40   2.70\n",
       "0.50   2.86\n",
       "0.60   3.01\n",
       "0.70   3.17\n",
       "0.80   3.36\n",
       "0.90   3.60\n",
       "1.00   4.17\n",
       "Name: gpaoverall, dtype: float64"
      ]
     },
     "execution_count": 71,
     "metadata": {},
     "output_type": "execute_result"
    }
   ],
   "source": [
    "gpaoverall.quantile(np.arange(0.1,1.1,0.1))"
   ]
  },
  {
   "cell_type": "code",
   "execution_count": 73,
   "metadata": {},
   "outputs": [
    {
     "data": {
      "text/plain": [
       "personid\n",
       "100061   3.06\n",
       "100292   3.45\n",
       "101526   3.37\n",
       "Name: gpaoverall, dtype: float64"
      ]
     },
     "execution_count": 73,
     "metadata": {},
     "output_type": "execute_result"
    }
   ],
   "source": [
    "# 2. subset based on values\n",
    "gpaoverall.loc[gpaoverall.between(3,3.5)].head(3)"
   ]
  },
  {
   "cell_type": "code",
   "execution_count": 74,
   "metadata": {},
   "outputs": [
    {
     "data": {
      "text/plain": [
       "1679"
      ]
     },
     "execution_count": 74,
     "metadata": {},
     "output_type": "execute_result"
    }
   ],
   "source": [
    "gpaoverall.loc[gpaoverall.between(3,3.5)].count()"
   ]
  },
  {
   "cell_type": "code",
   "execution_count": 75,
   "metadata": {},
   "outputs": [
    {
     "data": {
      "text/plain": [
       "personid\n",
       "932782   1.90\n",
       "561335   1.82\n",
       "850001   4.10\n",
       "292455   1.97\n",
       "644271   1.97\n",
       "Name: gpaoverall, dtype: float64"
      ]
     },
     "execution_count": 75,
     "metadata": {},
     "output_type": "execute_result"
    }
   ],
   "source": [
    "gpaoverall.loc[(gpaoverall<2) | (gpaoverall>4)].sample(5, random_state=2)"
   ]
  },
  {
   "cell_type": "code",
   "execution_count": 76,
   "metadata": {},
   "outputs": [
    {
     "data": {
      "text/plain": [
       "count   60.00\n",
       "min      3.98\n",
       "max      4.17\n",
       "Name: gpaoverall, dtype: float64"
      ]
     },
     "execution_count": 76,
     "metadata": {},
     "output_type": "execute_result"
    }
   ],
   "source": [
    "gpaoverall.loc[gpaoverall>gpaoverall.quantile(0.99)].agg(['count','min','max']) # 상위 1%의 빈도 및 최소/최댓값"
   ]
  },
  {
   "cell_type": "code",
   "execution_count": 77,
   "metadata": {},
   "outputs": [
    {
     "data": {
      "text/plain": [
       "True"
      ]
     },
     "execution_count": 77,
     "metadata": {},
     "output_type": "execute_result"
    }
   ],
   "source": [
    "# 3. run tests across all values\n",
    "(gpaoverall>4).any() # any person has GPA greater than 4"
   ]
  },
  {
   "cell_type": "code",
   "execution_count": 78,
   "metadata": {},
   "outputs": [
    {
     "data": {
      "text/plain": [
       "False"
      ]
     },
     "execution_count": 78,
     "metadata": {},
     "output_type": "execute_result"
    }
   ],
   "source": [
    "(gpaoverall>=0).all() # all people have GPA greater than 0"
   ]
  },
  {
   "cell_type": "code",
   "execution_count": 79,
   "metadata": {},
   "outputs": [
    {
     "data": {
      "text/plain": [
       "6004"
      ]
     },
     "execution_count": 79,
     "metadata": {},
     "output_type": "execute_result"
    }
   ],
   "source": [
    "(gpaoverall>=0).sum() # of people with GPA greater than 0"
   ]
  },
  {
   "cell_type": "code",
   "execution_count": 82,
   "metadata": {},
   "outputs": [
    {
     "data": {
      "text/plain": [
       "2980"
      ]
     },
     "execution_count": 82,
     "metadata": {},
     "output_type": "execute_result"
    }
   ],
   "source": [
    "(gpaoverall.isnull()==True).sum() # data length=8984"
   ]
  },
  {
   "cell_type": "code",
   "execution_count": 80,
   "metadata": {},
   "outputs": [
    {
     "data": {
      "text/plain": [
       "0"
      ]
     },
     "execution_count": 80,
     "metadata": {},
     "output_type": "execute_result"
    }
   ],
   "source": [
    "(gpaoverall==0).sum() # of people with GPA equal to 0"
   ]
  },
  {
   "cell_type": "code",
   "execution_count": 65,
   "metadata": {},
   "outputs": [
    {
     "data": {
      "text/plain": [
       "2980"
      ]
     },
     "execution_count": 65,
     "metadata": {},
     "output_type": "execute_result"
    }
   ],
   "source": [
    "gpaoverall.isnull().sum() # of people with missing value for GPA"
   ]
  },
  {
   "cell_type": "markdown",
   "metadata": {},
   "source": [
    "📍 True 조건을 걸지 않아도, True인 것에 대해서만 요약통계를 보여줌  > e.g. (gpaoverall.isnull()==True).sum()\n",
    "\n",
    "    참고로 데이터프레임의 length=8984"
   ]
  },
  {
   "cell_type": "code",
   "execution_count": 83,
   "metadata": {},
   "outputs": [
    {
     "data": {
      "text/plain": [
       "3.0804171011470256"
      ]
     },
     "execution_count": 83,
     "metadata": {},
     "output_type": "execute_result"
    }
   ],
   "source": [
    "# 4. GPA for high/low wage income earners\n",
    "nls97.loc[nls97.wageincome > nls97.wageincome.quantile(0.75),'gpaoverall'].mean()"
   ]
  },
  {
   "cell_type": "code",
   "execution_count": 84,
   "metadata": {},
   "outputs": [
    {
     "data": {
      "text/plain": [
       "2.720143415906124"
      ]
     },
     "execution_count": 84,
     "metadata": {},
     "output_type": "execute_result"
    }
   ],
   "source": [
    "nls97.loc[nls97.wageincome < nls97.wageincome.quantile(0.25),'gpaoverall'].mean()"
   ]
  },
  {
   "cell_type": "code",
   "execution_count": 86,
   "metadata": {},
   "outputs": [
    {
     "data": {
      "text/plain": [
       "count        6672\n",
       "unique          5\n",
       "top       Married\n",
       "freq         3066\n",
       "Name: maritalstatus, dtype: object"
      ]
     },
     "execution_count": 86,
     "metadata": {},
     "output_type": "execute_result"
    }
   ],
   "source": [
    "# 5. counts for series with categorical data\n",
    "nls97.maritalstatus.describe()"
   ]
  },
  {
   "cell_type": "markdown",
   "metadata": {},
   "source": [
    "📍 top은 최빈값"
   ]
  },
  {
   "cell_type": "code",
   "execution_count": 87,
   "metadata": {},
   "outputs": [
    {
     "data": {
      "text/plain": [
       "Married          3066\n",
       "Never-married    2766\n",
       "Divorced          663\n",
       "Separated         154\n",
       "Widowed            23\n",
       "Name: maritalstatus, dtype: int64"
      ]
     },
     "execution_count": 87,
     "metadata": {},
     "output_type": "execute_result"
    }
   ],
   "source": [
    "nls97.maritalstatus.value_counts()"
   ]
  },
  {
   "cell_type": "markdown",
   "metadata": {},
   "source": [
    "# 시리즈 값 변경"
   ]
  },
  {
   "cell_type": "code",
   "execution_count": 158,
   "metadata": {},
   "outputs": [],
   "source": [
    "import pandas as pd\n",
    "nls97 = pd.read_csv(\"data/nls97b.csv\")\n",
    "nls97.set_index(\"personid\", inplace=True)"
   ]
  },
  {
   "cell_type": "code",
   "execution_count": 159,
   "metadata": {},
   "outputs": [
    {
     "data": {
      "text/plain": [
       "personid\n",
       "100061   3.06\n",
       "100139    nan\n",
       "100284    nan\n",
       "100292   3.45\n",
       "100583   2.91\n",
       "Name: gpaoverall, dtype: float64"
      ]
     },
     "execution_count": 159,
     "metadata": {},
     "output_type": "execute_result"
    }
   ],
   "source": [
    "# 1. multiply all values of a series by scalar\n",
    "nls97.gpaoverall.head()"
   ]
  },
  {
   "cell_type": "code",
   "execution_count": 160,
   "metadata": {},
   "outputs": [
    {
     "data": {
      "text/plain": [
       "personid\n",
       "100061   306.00\n",
       "100139      nan\n",
       "100284      nan\n",
       "100292   345.00\n",
       "100583   291.00\n",
       "Name: gpaoverall, dtype: float64"
      ]
     },
     "execution_count": 160,
     "metadata": {},
     "output_type": "execute_result"
    }
   ],
   "source": [
    "gpaoverall100 = nls97['gpaoverall'] * 100\n",
    "gpaoverall100.head()"
   ]
  },
  {
   "cell_type": "code",
   "execution_count": 161,
   "metadata": {},
   "outputs": [
    {
     "data": {
      "text/plain": [
       "personid\n",
       "100061   3.00\n",
       "100139   0.00\n",
       "100284   0.00\n",
       "100292   0.00\n",
       "100583   2.91\n",
       "Name: gpaoverall, dtype: float64"
      ]
     },
     "execution_count": 161,
     "metadata": {},
     "output_type": "execute_result"
    }
   ],
   "source": [
    "# 2. use loc accessor to apply a scalar to selected rows\n",
    "nls97.loc[[100061], 'gpaoverall'] = 3\n",
    "nls97.loc[[100139,100284,100292],'gpaoverall'] = 0\n",
    "nls97.gpaoverall.head()"
   ]
  },
  {
   "cell_type": "code",
   "execution_count": 164,
   "metadata": {},
   "outputs": [
    {
     "data": {
      "text/html": [
       "<div>\n",
       "<style scoped>\n",
       "    .dataframe tbody tr th:only-of-type {\n",
       "        vertical-align: middle;\n",
       "    }\n",
       "\n",
       "    .dataframe tbody tr th {\n",
       "        vertical-align: top;\n",
       "    }\n",
       "\n",
       "    .dataframe thead th {\n",
       "        text-align: right;\n",
       "    }\n",
       "</style>\n",
       "<table border=\"1\" class=\"dataframe\">\n",
       "  <thead>\n",
       "    <tr style=\"text-align: right;\">\n",
       "      <th></th>\n",
       "      <th>childathome</th>\n",
       "      <th>childnotathome</th>\n",
       "    </tr>\n",
       "    <tr>\n",
       "      <th>personid</th>\n",
       "      <th></th>\n",
       "      <th></th>\n",
       "    </tr>\n",
       "  </thead>\n",
       "  <tbody>\n",
       "    <tr>\n",
       "      <th>100061</th>\n",
       "      <td>4.00</td>\n",
       "      <td>0.00</td>\n",
       "    </tr>\n",
       "    <tr>\n",
       "      <th>100139</th>\n",
       "      <td>2.00</td>\n",
       "      <td>0.00</td>\n",
       "    </tr>\n",
       "    <tr>\n",
       "      <th>100284</th>\n",
       "      <td>1.00</td>\n",
       "      <td>0.00</td>\n",
       "    </tr>\n",
       "  </tbody>\n",
       "</table>\n",
       "</div>"
      ],
      "text/plain": [
       "          childathome  childnotathome\n",
       "personid                             \n",
       "100061           4.00            0.00\n",
       "100139           2.00            0.00\n",
       "100284           1.00            0.00"
      ]
     },
     "execution_count": 164,
     "metadata": {},
     "output_type": "execute_result"
    }
   ],
   "source": [
    "# 3. set values using more than one series\n",
    "nls97[['childathome', 'childnotathome']].head(3)"
   ]
  },
  {
   "cell_type": "code",
   "execution_count": 165,
   "metadata": {},
   "outputs": [
    {
     "data": {
      "text/plain": [
       "0.00       23\n",
       "1.00     1364\n",
       "2.00     1729\n",
       "3.00     1020\n",
       "4.00      420\n",
       "5.00      149\n",
       "6.00       55\n",
       "7.00       21\n",
       "8.00        7\n",
       "9.00        1\n",
       "12.00       2\n",
       "Name: childnum, dtype: int64"
      ]
     },
     "execution_count": 165,
     "metadata": {},
     "output_type": "execute_result"
    }
   ],
   "source": [
    "nls97['childnum'] = nls97.childathome + nls97.childnotathome\n",
    "nls97.childnum.value_counts().sort_index()"
   ]
  },
  {
   "cell_type": "code",
   "execution_count": 166,
   "metadata": {},
   "outputs": [
    {
     "data": {
      "text/plain": [
       "personid\n",
       "100061   2.82\n",
       "100139   2.82\n",
       "100284   2.82\n",
       "100292   2.82\n",
       "100583   2.91\n",
       "Name: gpaoverall, dtype: float64"
      ]
     },
     "execution_count": 166,
     "metadata": {},
     "output_type": "execute_result"
    }
   ],
   "source": [
    "# 4. apply a summary value to selected rows\n",
    "nls97.loc[100061:100292,'gpaoverall'] = nls97.gpaoverall.mean()\n",
    "nls97.gpaoverall.head()"
   ]
  },
  {
   "cell_type": "code",
   "execution_count": 167,
   "metadata": {},
   "outputs": [
    {
     "data": {
      "text/plain": [
       "personid\n",
       "100061   2.00\n",
       "100139   1.00\n",
       "100284   1.00\n",
       "100292   1.00\n",
       "100583   2.91\n",
       "Name: gpaoverall, dtype: float64"
      ]
     },
     "execution_count": 167,
     "metadata": {},
     "output_type": "execute_result"
    }
   ],
   "source": [
    "# 5. use iloc accessor to apply a scalar to selected rows\n",
    "nls97.iloc[0, 13] = 2\n",
    "nls97.iloc[1:4, 13] = 1\n",
    "nls97.gpaoverall.head()"
   ]
  },
  {
   "cell_type": "code",
   "execution_count": 169,
   "metadata": {},
   "outputs": [
    {
     "data": {
      "text/plain": [
       "personid\n",
       "100061   2.00\n",
       "100139   1.00\n",
       "100284   1.00\n",
       "100292   1.00\n",
       "100583   2.91\n",
       "         ... \n",
       "999291   3.11\n",
       "999406   2.17\n",
       "999543    nan\n",
       "999698    nan\n",
       "999963   3.78\n",
       "Name: gpaoverall, Length: 8984, dtype: float64"
      ]
     },
     "execution_count": 169,
     "metadata": {},
     "output_type": "execute_result"
    }
   ],
   "source": [
    "nls97.gpaoverall"
   ]
  },
  {
   "cell_type": "code",
   "execution_count": 168,
   "metadata": {},
   "outputs": [
    {
     "data": {
      "text/plain": [
       "personid\n",
       "312410   4.17\n",
       "639701   4.11\n",
       "850001   4.10\n",
       "279096   4.08\n",
       "620216   4.07\n",
       "Name: gpaoverall, dtype: float64"
      ]
     },
     "execution_count": 168,
     "metadata": {},
     "output_type": "execute_result"
    }
   ],
   "source": [
    "# 6. set values after filtering\n",
    "nls97.gpaoverall.nlargest()"
   ]
  },
  {
   "cell_type": "markdown",
   "metadata": {},
   "source": [
    "📍 `.nlargest()`는 값이 높은 n번째까지 출력"
   ]
  },
  {
   "cell_type": "code",
   "execution_count": 170,
   "metadata": {},
   "outputs": [
    {
     "data": {
      "text/plain": [
       "personid\n",
       "112756   4.00\n",
       "119784   4.00\n",
       "160193   4.00\n",
       "250666   4.00\n",
       "271961   4.00\n",
       "Name: gpaoverall, dtype: float64"
      ]
     },
     "execution_count": 170,
     "metadata": {},
     "output_type": "execute_result"
    }
   ],
   "source": [
    "nls97.loc[nls97.gpaoverall>4, 'gpaoverall'] = 4\n",
    "nls97.gpaoverall.nlargest()"
   ]
  },
  {
   "cell_type": "markdown",
   "metadata": {},
   "source": [
    "# (조건에 따라) 시리즈 값 변경"
   ]
  },
  {
   "cell_type": "code",
   "execution_count": 174,
   "metadata": {},
   "outputs": [],
   "source": [
    "import pandas as pd\n",
    "import numpy as np\n",
    "\n",
    "nls97 = pd.read_csv(\"data/nls97b.csv\")\n",
    "nls97.set_index(\"personid\", inplace=True)\n",
    "landtemps = pd.read_csv(\"data/landtemps2019avgs.csv\")"
   ]
  },
  {
   "cell_type": "code",
   "execution_count": 175,
   "metadata": {},
   "outputs": [
    {
     "data": {
      "text/plain": [
       "0.20      48.00\n",
       "0.40     190.50\n",
       "0.60     393.20\n",
       "0.80   1,066.80\n",
       "1.00   9,999.00\n",
       "Name: elevation, dtype: float64"
      ]
     },
     "execution_count": 175,
     "metadata": {},
     "output_type": "execute_result"
    }
   ],
   "source": [
    "# 1. use the numpy where function to create a categorical series with 2 values\n",
    "landtemps.elevation.quantile(np.arange(0.2,1.1,0.2))"
   ]
  },
  {
   "cell_type": "code",
   "execution_count": 176,
   "metadata": {},
   "outputs": [
    {
     "data": {
      "text/html": [
       "<div>\n",
       "<style scoped>\n",
       "    .dataframe tbody tr th:only-of-type {\n",
       "        vertical-align: middle;\n",
       "    }\n",
       "\n",
       "    .dataframe tbody tr th {\n",
       "        vertical-align: top;\n",
       "    }\n",
       "\n",
       "    .dataframe thead th {\n",
       "        text-align: right;\n",
       "    }\n",
       "</style>\n",
       "<table border=\"1\" class=\"dataframe\">\n",
       "  <thead>\n",
       "    <tr style=\"text-align: right;\">\n",
       "      <th></th>\n",
       "      <th>count</th>\n",
       "      <th>min</th>\n",
       "      <th>max</th>\n",
       "    </tr>\n",
       "    <tr>\n",
       "      <th>elevation_group</th>\n",
       "      <th></th>\n",
       "      <th></th>\n",
       "      <th></th>\n",
       "    </tr>\n",
       "  </thead>\n",
       "  <tbody>\n",
       "    <tr>\n",
       "      <th>High</th>\n",
       "      <td>2409</td>\n",
       "      <td>1,067.00</td>\n",
       "      <td>9,999.00</td>\n",
       "    </tr>\n",
       "    <tr>\n",
       "      <th>Low</th>\n",
       "      <td>9686</td>\n",
       "      <td>-350.00</td>\n",
       "      <td>1,066.80</td>\n",
       "    </tr>\n",
       "  </tbody>\n",
       "</table>\n",
       "</div>"
      ],
      "text/plain": [
       "                 count      min      max\n",
       "elevation_group                         \n",
       "High              2409 1,067.00 9,999.00\n",
       "Low               9686  -350.00 1,066.80"
      ]
     },
     "execution_count": 176,
     "metadata": {},
     "output_type": "execute_result"
    }
   ],
   "source": [
    "landtemps['elevation_group'] = np.where(landtemps.elevation>landtemps.elevation.quantile(0.8),'High','Low')\n",
    "landtemps.elevation_group = landtemps.elevation_group.astype('category')\n",
    "landtemps.groupby(['elevation_group'])['elevation'].agg(['count','min','max'])"
   ]
  },
  {
   "cell_type": "code",
   "execution_count": 177,
   "metadata": {},
   "outputs": [
    {
     "data": {
      "text/plain": [
       "271.3"
      ]
     },
     "execution_count": 177,
     "metadata": {},
     "output_type": "execute_result"
    }
   ],
   "source": [
    "# 2. use the numpy where function to create a categorical series with 3 values\n",
    "landtemps.elevation.median()"
   ]
  },
  {
   "cell_type": "code",
   "execution_count": 178,
   "metadata": {},
   "outputs": [
    {
     "data": {
      "text/html": [
       "<div>\n",
       "<style scoped>\n",
       "    .dataframe tbody tr th:only-of-type {\n",
       "        vertical-align: middle;\n",
       "    }\n",
       "\n",
       "    .dataframe tbody tr th {\n",
       "        vertical-align: top;\n",
       "    }\n",
       "\n",
       "    .dataframe thead th {\n",
       "        text-align: right;\n",
       "    }\n",
       "</style>\n",
       "<table border=\"1\" class=\"dataframe\">\n",
       "  <thead>\n",
       "    <tr style=\"text-align: right;\">\n",
       "      <th></th>\n",
       "      <th>count</th>\n",
       "      <th>min</th>\n",
       "      <th>max</th>\n",
       "    </tr>\n",
       "    <tr>\n",
       "      <th>elevation_group</th>\n",
       "      <th></th>\n",
       "      <th></th>\n",
       "      <th></th>\n",
       "    </tr>\n",
       "  </thead>\n",
       "  <tbody>\n",
       "    <tr>\n",
       "      <th>High</th>\n",
       "      <td>2409</td>\n",
       "      <td>1,067.00</td>\n",
       "      <td>9,999.00</td>\n",
       "    </tr>\n",
       "    <tr>\n",
       "      <th>Low</th>\n",
       "      <td>6056</td>\n",
       "      <td>-350.00</td>\n",
       "      <td>271.30</td>\n",
       "    </tr>\n",
       "    <tr>\n",
       "      <th>Medium</th>\n",
       "      <td>3630</td>\n",
       "      <td>271.40</td>\n",
       "      <td>1,066.80</td>\n",
       "    </tr>\n",
       "  </tbody>\n",
       "</table>\n",
       "</div>"
      ],
      "text/plain": [
       "                 count      min      max\n",
       "elevation_group                         \n",
       "High              2409 1,067.00 9,999.00\n",
       "Low               6056  -350.00   271.30\n",
       "Medium            3630   271.40 1,066.80"
      ]
     },
     "execution_count": 178,
     "metadata": {},
     "output_type": "execute_result"
    }
   ],
   "source": [
    "landtemps['elevation_group'] = np.where(landtemps.elevation>landtemps.elevation.quantile(0.8),'High',\\\n",
    "                                        np.where(landtemps.elevation>landtemps.elevation.median(),'Medium','Low'))\n",
    "landtemps.elevation_group = landtemps.elevation_group.astype('category')\n",
    "landtemps.groupby(['elevation_group'])['elevation'].agg(['count','min','max'])"
   ]
  },
  {
   "cell_type": "code",
   "execution_count": null,
   "metadata": {},
   "outputs": [],
   "source": [
    "# 3. use numpy select to evaluate a list of conditions\n",
    "test = [(nls97.gpaoverall<2) & (nls97.highestdegree=='0. None'), nls97.highestdegree=='0. None', nls97.gpaoverall<2]\n",
    "result = ['1. Low GPA and No Diploma','2. No Diploma','3. Low GPA']\n",
    "nls97['hsachieve'] = np.select(test, result, '4. Did Okay')\n",
    "nls97[['hsachieve','gpaoverall','highestdegree']].head()\n",
    "nls97.hsachieve.value_counts().sort_index()"
   ]
  },
  {
   "cell_type": "code",
   "execution_count": null,
   "metadata": {},
   "outputs": [],
   "source": [
    "# 4. create a flag if individual ever had bachelor degree enrollment\n",
    "nls97.loc[[100292,100583,100139], 'colenrfeb00':'colenroct04'].T\n",
    "nls97['baenrollment'] = nls97.filter(like=\"colenr\").\\\n",
    "  apply(lambda x: x.str[0:1]=='3').\\\n",
    "  any(axis=1)"
   ]
  },
  {
   "cell_type": "code",
   "execution_count": 179,
   "metadata": {},
   "outputs": [
    {
     "data": {
      "text/html": [
       "<div>\n",
       "<style scoped>\n",
       "    .dataframe tbody tr th:only-of-type {\n",
       "        vertical-align: middle;\n",
       "    }\n",
       "\n",
       "    .dataframe tbody tr th {\n",
       "        vertical-align: top;\n",
       "    }\n",
       "\n",
       "    .dataframe thead th {\n",
       "        text-align: right;\n",
       "    }\n",
       "</style>\n",
       "<table border=\"1\" class=\"dataframe\">\n",
       "  <thead>\n",
       "    <tr style=\"text-align: right;\">\n",
       "      <th>personid</th>\n",
       "      <th>100292</th>\n",
       "      <th>100583</th>\n",
       "      <th>100139</th>\n",
       "    </tr>\n",
       "  </thead>\n",
       "  <tbody>\n",
       "    <tr>\n",
       "      <th>colenrfeb00</th>\n",
       "      <td>1. Not enrolled</td>\n",
       "      <td>1. Not enrolled</td>\n",
       "      <td>1. Not enrolled</td>\n",
       "    </tr>\n",
       "    <tr>\n",
       "      <th>colenroct00</th>\n",
       "      <td>3. 4-year college</td>\n",
       "      <td>1. Not enrolled</td>\n",
       "      <td>1. Not enrolled</td>\n",
       "    </tr>\n",
       "    <tr>\n",
       "      <th>colenrfeb01</th>\n",
       "      <td>3. 4-year college</td>\n",
       "      <td>1. Not enrolled</td>\n",
       "      <td>1. Not enrolled</td>\n",
       "    </tr>\n",
       "    <tr>\n",
       "      <th>colenroct01</th>\n",
       "      <td>3. 4-year college</td>\n",
       "      <td>3. 4-year college</td>\n",
       "      <td>1. Not enrolled</td>\n",
       "    </tr>\n",
       "    <tr>\n",
       "      <th>colenrfeb02</th>\n",
       "      <td>3. 4-year college</td>\n",
       "      <td>3. 4-year college</td>\n",
       "      <td>1. Not enrolled</td>\n",
       "    </tr>\n",
       "    <tr>\n",
       "      <th>colenroct02</th>\n",
       "      <td>3. 4-year college</td>\n",
       "      <td>1. Not enrolled</td>\n",
       "      <td>1. Not enrolled</td>\n",
       "    </tr>\n",
       "    <tr>\n",
       "      <th>colenrfeb03</th>\n",
       "      <td>3. 4-year college</td>\n",
       "      <td>1. Not enrolled</td>\n",
       "      <td>1. Not enrolled</td>\n",
       "    </tr>\n",
       "    <tr>\n",
       "      <th>colenroct03</th>\n",
       "      <td>3. 4-year college</td>\n",
       "      <td>1. Not enrolled</td>\n",
       "      <td>1. Not enrolled</td>\n",
       "    </tr>\n",
       "    <tr>\n",
       "      <th>colenrfeb04</th>\n",
       "      <td>3. 4-year college</td>\n",
       "      <td>1. Not enrolled</td>\n",
       "      <td>1. Not enrolled</td>\n",
       "    </tr>\n",
       "    <tr>\n",
       "      <th>colenroct04</th>\n",
       "      <td>1. Not enrolled</td>\n",
       "      <td>1. Not enrolled</td>\n",
       "      <td>1. Not enrolled</td>\n",
       "    </tr>\n",
       "  </tbody>\n",
       "</table>\n",
       "</div>"
      ],
      "text/plain": [
       "personid                100292             100583           100139\n",
       "colenrfeb00    1. Not enrolled    1. Not enrolled  1. Not enrolled\n",
       "colenroct00  3. 4-year college    1. Not enrolled  1. Not enrolled\n",
       "colenrfeb01  3. 4-year college    1. Not enrolled  1. Not enrolled\n",
       "colenroct01  3. 4-year college  3. 4-year college  1. Not enrolled\n",
       "colenrfeb02  3. 4-year college  3. 4-year college  1. Not enrolled\n",
       "colenroct02  3. 4-year college    1. Not enrolled  1. Not enrolled\n",
       "colenrfeb03  3. 4-year college    1. Not enrolled  1. Not enrolled\n",
       "colenroct03  3. 4-year college    1. Not enrolled  1. Not enrolled\n",
       "colenrfeb04  3. 4-year college    1. Not enrolled  1. Not enrolled\n",
       "colenroct04    1. Not enrolled    1. Not enrolled  1. Not enrolled"
      ]
     },
     "execution_count": 179,
     "metadata": {},
     "output_type": "execute_result"
    }
   ],
   "source": [
    "# 5. create a flag if individual ever had bachelor degree enrollment\n",
    "nls97.loc[[100292,100583,100139], 'colenrfeb00':'colenroct04'].T"
   ]
  },
  {
   "cell_type": "code",
   "execution_count": 180,
   "metadata": {},
   "outputs": [],
   "source": [
    "nls97['baenrollment'] = nls97.filter(like=\"colenr\").apply(lambda x: x.str[0:1]=='3').any(axis=1)"
   ]
  },
  {
   "cell_type": "code",
   "execution_count": 181,
   "metadata": {},
   "outputs": [
    {
     "data": {
      "text/html": [
       "<div>\n",
       "<style scoped>\n",
       "    .dataframe tbody tr th:only-of-type {\n",
       "        vertical-align: middle;\n",
       "    }\n",
       "\n",
       "    .dataframe tbody tr th {\n",
       "        vertical-align: top;\n",
       "    }\n",
       "\n",
       "    .dataframe thead th {\n",
       "        text-align: right;\n",
       "    }\n",
       "</style>\n",
       "<table border=\"1\" class=\"dataframe\">\n",
       "  <thead>\n",
       "    <tr style=\"text-align: right;\">\n",
       "      <th>personid</th>\n",
       "      <th>100292</th>\n",
       "      <th>100583</th>\n",
       "      <th>100139</th>\n",
       "    </tr>\n",
       "  </thead>\n",
       "  <tbody>\n",
       "    <tr>\n",
       "      <th>baenrollment</th>\n",
       "      <td>True</td>\n",
       "      <td>True</td>\n",
       "      <td>False</td>\n",
       "    </tr>\n",
       "  </tbody>\n",
       "</table>\n",
       "</div>"
      ],
      "text/plain": [
       "personid      100292  100583  100139\n",
       "baenrollment    True    True   False"
      ]
     },
     "execution_count": 181,
     "metadata": {},
     "output_type": "execute_result"
    }
   ],
   "source": [
    "nls97.loc[[100292,100583,100139], ['baenrollment']].T"
   ]
  },
  {
   "cell_type": "code",
   "execution_count": 182,
   "metadata": {},
   "outputs": [
    {
     "data": {
      "text/plain": [
       "False    5085\n",
       "True     3899\n",
       "Name: baenrollment, dtype: int64"
      ]
     },
     "execution_count": 182,
     "metadata": {},
     "output_type": "execute_result"
    }
   ],
   "source": [
    "nls97.baenrollment.value_counts()"
   ]
  },
  {
   "cell_type": "code",
   "execution_count": 173,
   "metadata": {},
   "outputs": [
    {
     "data": {
      "text/plain": [
       "Not Sleep Deprived    5595\n",
       "Unknown               2286\n",
       "Income Pressure        462\n",
       "Work Pressure          281\n",
       "Other Reasons          272\n",
       "Child Rearing           88\n",
       "Name: sleepdeprivedreason, dtype: int64"
      ]
     },
     "execution_count": 173,
     "metadata": {},
     "output_type": "execute_result"
    }
   ],
   "source": [
    "# 6. use apply and lambda to create a more complicated categorical series\n",
    "def getsleepdeprivedreason(row):\n",
    "  sleepdeprivedreason = \"Unknown\"\n",
    "  if (row.nightlyhrssleep>=6):\n",
    "    sleepdeprivedreason = \"Not Sleep Deprived\"\n",
    "  elif (row.nightlyhrssleep>0):\n",
    "    if (row.weeksworked16+row.weeksworked17 < 80):\n",
    "      if (row.childathome>2):\n",
    "        sleepdeprivedreason = \"Child Rearing\"\n",
    "      else:\n",
    "        sleepdeprivedreason = \"Other Reasons\"\n",
    "    else:\n",
    "      if (row.wageincome>=62000 or row.highestgradecompleted>=16):\n",
    "        sleepdeprivedreason = \"Work Pressure\"\n",
    "      else:\n",
    "        sleepdeprivedreason = \"Income Pressure\"\n",
    "  else:\n",
    "    sleepdeprivedreason = \"Unknown\"\n",
    "  return sleepdeprivedreason\n",
    "\n",
    "nls97['sleepdeprivedreason'] = nls97.apply(getsleepdeprivedreason, axis=1)\n",
    "nls97.sleepdeprivedreason = nls97.sleepdeprivedreason.astype('category')\n",
    "nls97.sleepdeprivedreason.value_counts()"
   ]
  },
  {
   "cell_type": "markdown",
   "metadata": {},
   "source": [
    "# 문자열 시리즈\n",
    "* **문자열 시리즈 데이터**를 평가하고 대치하는 작업에 빈번히 사용하는 다양한 메서드 익히기  "
   ]
  },
  {
   "cell_type": "code",
   "execution_count": 43,
   "metadata": {},
   "outputs": [],
   "source": [
    "import pandas as pd\n",
    "import numpy as np\n",
    "nls97 = pd.read_csv('data/nls97c.csv') # 미국 종단 조사(NLS) 데이터\n",
    "nls97.set_index('personid', inplace=True)\n",
    "\n",
    "pd.set_option('display.width', 200)\n",
    "pd.set_option('display.max_columns', 35)\n",
    "pd.set_option('display.max_rows', 200)\n",
    "pd.options.display.float_format = '{:,.2f}'.format"
   ]
  },
  {
   "cell_type": "markdown",
   "metadata": {},
   "source": [
    "* **summary📌**\n",
    "        - 문자열의 일부를 위치에 따라 취하기\n",
    "          ⭐df.{column name}.str.findall('\\d+') - 문자열에서 숫자만 추출 > list로 저장\n",
    "          ⭐df['new column name'] = np.where(df.{column name}.isnull(), np.nan, np.where(df.{column name}.조건메서드, 'True 출력값', 'False 출력값'))\n",
    "        - 문자열에 특정 패턴이 있는지 확인하기  \n",
    "          ⭐df.{column name}.str.contains('a string') - 특정 문자를 포함하는지?\n",
    "          ⭐df.{column name}.str[i:i+j].isin(list) - 리스트에 있는지?\n",
    "        - 문자열에 있는 공백 찾기\n",
    "          ⭐df.{column name}.str.startswith(' ') - 공백으로 시작\n",
    "          ⭐df.{column name}.str.endswith(' ') - 공백으로 끝\n",
    "        - 문자열에 있는 공백 제거하기\n",
    "          ⭐df.{column name}.str.strip() - 둘 다 제거\n",
    "          ⭐df.{column name}.str.lstrip() - 시작 공백 제거\n",
    "          ⭐df.{column name}.str.rstrip() - 끝 공백 제거\n",
    "        - 문자열을 분할하기\n",
    "        - 문자열 길이를 구하기  \n",
    "        - 둘 이상의 문자열을 연결하기  \n",
    "        - 대소문자를 변경하기 "
   ]
  },
  {
   "cell_type": "code",
   "execution_count": 6,
   "metadata": {},
   "outputs": [
    {
     "data": {
      "text/plain": [
       "2. Probably          617\n",
       "3. Probably not      462\n",
       "1. Definitely        454\n",
       "4. Definitely not    300\n",
       "Name: govprovidejobs, dtype: int64"
      ]
     },
     "execution_count": 6,
     "metadata": {},
     "output_type": "execute_result"
    }
   ],
   "source": [
    "# 1. test whether a str pattern exists \n",
    "nls97.govprovidejobs.value_counts()"
   ]
  },
  {
   "cell_type": "code",
   "execution_count": 19,
   "metadata": {},
   "outputs": [
    {
     "data": {
      "text/html": [
       "<div>\n",
       "<style scoped>\n",
       "    .dataframe tbody tr th:only-of-type {\n",
       "        vertical-align: middle;\n",
       "    }\n",
       "\n",
       "    .dataframe tbody tr th {\n",
       "        vertical-align: top;\n",
       "    }\n",
       "\n",
       "    .dataframe thead th {\n",
       "        text-align: right;\n",
       "    }\n",
       "</style>\n",
       "<table border=\"1\" class=\"dataframe\">\n",
       "  <thead>\n",
       "    <tr style=\"text-align: right;\">\n",
       "      <th></th>\n",
       "      <th>govprovidejobsdefprob</th>\n",
       "    </tr>\n",
       "    <tr>\n",
       "      <th>personid</th>\n",
       "      <th></th>\n",
       "    </tr>\n",
       "  </thead>\n",
       "  <tbody>\n",
       "    <tr>\n",
       "      <th>570949</th>\n",
       "      <td>Yes</td>\n",
       "    </tr>\n",
       "    <tr>\n",
       "      <th>205723</th>\n",
       "      <td>nan</td>\n",
       "    </tr>\n",
       "    <tr>\n",
       "      <th>151540</th>\n",
       "      <td>No</td>\n",
       "    </tr>\n",
       "  </tbody>\n",
       "</table>\n",
       "</div>"
      ],
      "text/plain": [
       "         govprovidejobsdefprob\n",
       "personid                      \n",
       "570949                     Yes\n",
       "205723                     nan\n",
       "151540                      No"
      ]
     },
     "execution_count": 19,
     "metadata": {},
     "output_type": "execute_result"
    }
   ],
   "source": [
    "nls97['govprovidejobsdefprob'] = np.where(nls97.govprovidejobs.isnull(), np.nan, np.where(nls97.govprovidejobs.str.contains('not'), 'No', 'Yes'))\n",
    "nls97[['govprovidejobsdefprob']].sample(3)"
   ]
  },
  {
   "cell_type": "markdown",
   "metadata": {},
   "source": [
    "📍 govprovidejob(정부에서 일자리를 제공해야 하는지)에 대한 응답에 'not'이 포함되는지를 **contain**으로 조사한 결과(Yes or No)를 새로운 열로 생성함"
   ]
  },
  {
   "cell_type": "code",
   "execution_count": 7,
   "metadata": {},
   "outputs": [
    {
     "data": {
      "text/html": [
       "<div>\n",
       "<style scoped>\n",
       "    .dataframe tbody tr th:only-of-type {\n",
       "        vertical-align: middle;\n",
       "    }\n",
       "\n",
       "    .dataframe tbody tr th {\n",
       "        vertical-align: top;\n",
       "    }\n",
       "\n",
       "    .dataframe thead th {\n",
       "        text-align: right;\n",
       "    }\n",
       "</style>\n",
       "<table border=\"1\" class=\"dataframe\">\n",
       "  <thead>\n",
       "    <tr style=\"text-align: right;\">\n",
       "      <th>govprovidejobsdefprob</th>\n",
       "      <th>No</th>\n",
       "      <th>Yes</th>\n",
       "    </tr>\n",
       "    <tr>\n",
       "      <th>govprovidejobs</th>\n",
       "      <th></th>\n",
       "      <th></th>\n",
       "    </tr>\n",
       "  </thead>\n",
       "  <tbody>\n",
       "    <tr>\n",
       "      <th>1. Definitely</th>\n",
       "      <td>0</td>\n",
       "      <td>454</td>\n",
       "    </tr>\n",
       "    <tr>\n",
       "      <th>2. Probably</th>\n",
       "      <td>0</td>\n",
       "      <td>617</td>\n",
       "    </tr>\n",
       "    <tr>\n",
       "      <th>3. Probably not</th>\n",
       "      <td>462</td>\n",
       "      <td>0</td>\n",
       "    </tr>\n",
       "    <tr>\n",
       "      <th>4. Definitely not</th>\n",
       "      <td>300</td>\n",
       "      <td>0</td>\n",
       "    </tr>\n",
       "  </tbody>\n",
       "</table>\n",
       "</div>"
      ],
      "text/plain": [
       "govprovidejobsdefprob   No  Yes\n",
       "govprovidejobs                 \n",
       "1. Definitely            0  454\n",
       "2. Probably              0  617\n",
       "3. Probably not        462    0\n",
       "4. Definitely not      300    0"
      ]
     },
     "execution_count": 7,
     "metadata": {},
     "output_type": "execute_result"
    }
   ],
   "source": [
    "pd.crosstab(nls97.govprovidejobs, nls97.govprovidejobsdefprob)"
   ]
  },
  {
   "cell_type": "code",
   "execution_count": 20,
   "metadata": {},
   "outputs": [
    {
     "data": {
      "text/plain": [
       "Married          3064\n",
       "Never-married    2766\n",
       "Divorced          663\n",
       "Separated         154\n",
       "Widowed            23\n",
       "Married             2\n",
       "Name: maritalstatus, dtype: int64"
      ]
     },
     "execution_count": 20,
     "metadata": {},
     "output_type": "execute_result"
    }
   ],
   "source": [
    "# 2. handle spaces in a string\n",
    "nls97.maritalstatus.value_counts()"
   ]
  },
  {
   "cell_type": "code",
   "execution_count": 26,
   "metadata": {},
   "outputs": [
    {
     "data": {
      "text/plain": [
       "True"
      ]
     },
     "execution_count": 26,
     "metadata": {},
     "output_type": "execute_result"
    }
   ],
   "source": [
    "nls97.maritalstatus.str.endswith(' ').any() # ' '으로 끝나는 값이 한 개라도 있는가"
   ]
  },
  {
   "cell_type": "code",
   "execution_count": 27,
   "metadata": {},
   "outputs": [
    {
     "data": {
      "text/plain": [
       "False"
      ]
     },
     "execution_count": 27,
     "metadata": {},
     "output_type": "execute_result"
    }
   ],
   "source": [
    "nls97.maritalstatus.str.startswith(' ').any() # ' '으로 시작하는 값이 한 개라도 있는가"
   ]
  },
  {
   "cell_type": "code",
   "execution_count": 30,
   "metadata": {},
   "outputs": [
    {
     "data": {
      "text/plain": [
       "Married          3066\n",
       "Never-married    2766\n",
       "Divorced          663\n",
       "Separated         154\n",
       "Widowed            23\n",
       "Name: maritalstatus, dtype: int64"
      ]
     },
     "execution_count": 30,
     "metadata": {},
     "output_type": "execute_result"
    }
   ],
   "source": [
    "nls97['maritalstatus'] = nls97.copy().maritalstatus.str.strip() # 시작과 끝의 공백을 제거 \n",
    "nls97.maritalstatus.value_counts()"
   ]
  },
  {
   "cell_type": "code",
   "execution_count": 28,
   "metadata": {},
   "outputs": [
    {
     "data": {
      "text/html": [
       "<div>\n",
       "<style scoped>\n",
       "    .dataframe tbody tr th:only-of-type {\n",
       "        vertical-align: middle;\n",
       "    }\n",
       "\n",
       "    .dataframe tbody tr th {\n",
       "        vertical-align: top;\n",
       "    }\n",
       "\n",
       "    .dataframe thead th {\n",
       "        text-align: right;\n",
       "    }\n",
       "</style>\n",
       "<table border=\"1\" class=\"dataframe\">\n",
       "  <thead>\n",
       "    <tr style=\"text-align: right;\">\n",
       "      <th>evermarried</th>\n",
       "      <th>No</th>\n",
       "      <th>Yes</th>\n",
       "    </tr>\n",
       "    <tr>\n",
       "      <th>maritalstatus</th>\n",
       "      <th></th>\n",
       "      <th></th>\n",
       "    </tr>\n",
       "  </thead>\n",
       "  <tbody>\n",
       "    <tr>\n",
       "      <th>Divorced</th>\n",
       "      <td>0</td>\n",
       "      <td>663</td>\n",
       "    </tr>\n",
       "    <tr>\n",
       "      <th>Married</th>\n",
       "      <td>0</td>\n",
       "      <td>3064</td>\n",
       "    </tr>\n",
       "    <tr>\n",
       "      <th>Married</th>\n",
       "      <td>0</td>\n",
       "      <td>2</td>\n",
       "    </tr>\n",
       "    <tr>\n",
       "      <th>Never-married</th>\n",
       "      <td>2766</td>\n",
       "      <td>0</td>\n",
       "    </tr>\n",
       "    <tr>\n",
       "      <th>Separated</th>\n",
       "      <td>0</td>\n",
       "      <td>154</td>\n",
       "    </tr>\n",
       "    <tr>\n",
       "      <th>Widowed</th>\n",
       "      <td>0</td>\n",
       "      <td>23</td>\n",
       "    </tr>\n",
       "  </tbody>\n",
       "</table>\n",
       "</div>"
      ],
      "text/plain": [
       "evermarried      No   Yes\n",
       "maritalstatus            \n",
       "Divorced          0   663\n",
       "Married           0  3064\n",
       "Married           0     2\n",
       "Never-married  2766     0\n",
       "Separated         0   154\n",
       "Widowed           0    23"
      ]
     },
     "execution_count": 28,
     "metadata": {},
     "output_type": "execute_result"
    }
   ],
   "source": [
    "nls97['evermarried'] = np.where(nls97.maritalstatus.isnull(), np.nan, np.where(nls97.maritalstatus.str.strip()=='Never-married', 'No', 'Yes'))\n",
    "pd.crosstab(nls97.maritalstatus, nls97.evermarried)"
   ]
  },
  {
   "cell_type": "code",
   "execution_count": 31,
   "metadata": {},
   "outputs": [
    {
     "data": {
      "text/html": [
       "<div>\n",
       "<style scoped>\n",
       "    .dataframe tbody tr th:only-of-type {\n",
       "        vertical-align: middle;\n",
       "    }\n",
       "\n",
       "    .dataframe tbody tr th {\n",
       "        vertical-align: top;\n",
       "    }\n",
       "\n",
       "    .dataframe thead th {\n",
       "        text-align: right;\n",
       "    }\n",
       "</style>\n",
       "<table border=\"1\" class=\"dataframe\">\n",
       "  <thead>\n",
       "    <tr style=\"text-align: right;\">\n",
       "      <th>receivedba</th>\n",
       "      <th>No</th>\n",
       "      <th>Yse</th>\n",
       "    </tr>\n",
       "    <tr>\n",
       "      <th>highestdegree</th>\n",
       "      <th></th>\n",
       "      <th></th>\n",
       "    </tr>\n",
       "  </thead>\n",
       "  <tbody>\n",
       "    <tr>\n",
       "      <th>0. None</th>\n",
       "      <td>953</td>\n",
       "      <td>0</td>\n",
       "    </tr>\n",
       "    <tr>\n",
       "      <th>1. GED</th>\n",
       "      <td>1146</td>\n",
       "      <td>0</td>\n",
       "    </tr>\n",
       "    <tr>\n",
       "      <th>2. High School</th>\n",
       "      <td>3667</td>\n",
       "      <td>0</td>\n",
       "    </tr>\n",
       "    <tr>\n",
       "      <th>3. Associates</th>\n",
       "      <td>737</td>\n",
       "      <td>0</td>\n",
       "    </tr>\n",
       "    <tr>\n",
       "      <th>4. Bachelors</th>\n",
       "      <td>0</td>\n",
       "      <td>1673</td>\n",
       "    </tr>\n",
       "    <tr>\n",
       "      <th>5. Masters</th>\n",
       "      <td>0</td>\n",
       "      <td>603</td>\n",
       "    </tr>\n",
       "    <tr>\n",
       "      <th>6. PhD</th>\n",
       "      <td>0</td>\n",
       "      <td>54</td>\n",
       "    </tr>\n",
       "    <tr>\n",
       "      <th>7. Professional</th>\n",
       "      <td>0</td>\n",
       "      <td>120</td>\n",
       "    </tr>\n",
       "  </tbody>\n",
       "</table>\n",
       "</div>"
      ],
      "text/plain": [
       "receivedba         No   Yse\n",
       "highestdegree              \n",
       "0. None           953     0\n",
       "1. GED           1146     0\n",
       "2. High School   3667     0\n",
       "3. Associates     737     0\n",
       "4. Bachelors        0  1673\n",
       "5. Masters          0   603\n",
       "6. PhD              0    54\n",
       "7. Professional     0   120"
      ]
     },
     "execution_count": 31,
     "metadata": {},
     "output_type": "execute_result"
    }
   ],
   "source": [
    "# 3. compare a string value to a list\n",
    "nls97['receivedba'] = np.where(nls97.highestdegree.isnull(), np.nan, np.where(nls97.highestdegree.str[0:1].isin(['4','5','6','7']),'Yse','No'))\n",
    "pd.crosstab(nls97.highestdegree, nls97.receivedba)"
   ]
  },
  {
   "cell_type": "code",
   "execution_count": 42,
   "metadata": {},
   "outputs": [
    {
     "data": {
      "text/html": [
       "<div>\n",
       "<style scoped>\n",
       "    .dataframe tbody tr th:only-of-type {\n",
       "        vertical-align: middle;\n",
       "    }\n",
       "\n",
       "    .dataframe tbody tr th {\n",
       "        vertical-align: top;\n",
       "    }\n",
       "\n",
       "    .dataframe thead th {\n",
       "        text-align: right;\n",
       "    }\n",
       "</style>\n",
       "<table border=\"1\" class=\"dataframe\">\n",
       "  <thead>\n",
       "    <tr style=\"text-align: right;\">\n",
       "      <th></th>\n",
       "      <th>weeklyhrstv</th>\n",
       "      <th>weeklyhrstv</th>\n",
       "    </tr>\n",
       "    <tr>\n",
       "      <th>personid</th>\n",
       "      <th></th>\n",
       "      <th></th>\n",
       "    </tr>\n",
       "  </thead>\n",
       "  <tbody>\n",
       "    <tr>\n",
       "      <th>747456</th>\n",
       "      <td>3 to 10 hours a week</td>\n",
       "      <td>[3, 10]</td>\n",
       "    </tr>\n",
       "    <tr>\n",
       "      <th>675082</th>\n",
       "      <td>NaN</td>\n",
       "      <td>NaN</td>\n",
       "    </tr>\n",
       "    <tr>\n",
       "      <th>545053</th>\n",
       "      <td>Less than 2 hours per week</td>\n",
       "      <td>[2]</td>\n",
       "    </tr>\n",
       "    <tr>\n",
       "      <th>300981</th>\n",
       "      <td>3 to 10 hours a week</td>\n",
       "      <td>[3, 10]</td>\n",
       "    </tr>\n",
       "    <tr>\n",
       "      <th>452151</th>\n",
       "      <td>Less than 2 hours per week</td>\n",
       "      <td>[2]</td>\n",
       "    </tr>\n",
       "  </tbody>\n",
       "</table>\n",
       "</div>"
      ],
      "text/plain": [
       "                         weeklyhrstv weeklyhrstv\n",
       "personid                                        \n",
       "747456          3 to 10 hours a week     [3, 10]\n",
       "675082                           NaN         NaN\n",
       "545053    Less than 2 hours per week         [2]\n",
       "300981          3 to 10 hours a week     [3, 10]\n",
       "452151    Less than 2 hours per week         [2]"
      ]
     },
     "execution_count": 42,
     "metadata": {},
     "output_type": "execute_result"
    }
   ],
   "source": [
    "# 4. convert a text response to numeric using numbers in the text\n",
    "pd.concat([nls97.weeklyhrstv, nls97.weeklyhrstv.str.findall('\\d+')], axis=1).sample(5)"
   ]
  },
  {
   "cell_type": "markdown",
   "metadata": {},
   "source": [
    "📍 weeklyhrstv(일주일동안 TV시간에 보낸 시간) 문자열에 포함된 숫자만 얻어내기 위해서 findall에 정규표현식 `'\\d+'`를 전달함"
   ]
  },
  {
   "cell_type": "code",
   "execution_count": 38,
   "metadata": {},
   "outputs": [],
   "source": [
    "def getnum(numlist):\n",
    "    highval = 0\n",
    "    if (type(numlist) is list):\n",
    "        lastval = int(numlist[-1]) # list의 마지막 원소를 int로 변환하여 객체에 저장\n",
    "        if (numlist[0]=='40'): # list의 첫번째 값이 '40'이면 (='More than 40 hours a week')\n",
    "            highval = 45\n",
    "        elif (lastval==2): # list의 마지막 원소를 int로 바꾼 값이 2이면 (='Less than 2 hours per week')\n",
    "            highval = 1\n",
    "        else:\n",
    "            highval = lastval - 5\n",
    "    else:\n",
    "        highval = np.nan\n",
    "    return highval"
   ]
  },
  {
   "cell_type": "markdown",
   "metadata": {},
   "source": [
    "📍 **getnum 함수**는 둘 이상의 수가 있는 경우, 두 수의 중간에 가깝도록 숫자를 조정해준다"
   ]
  },
  {
   "cell_type": "code",
   "execution_count": 89,
   "metadata": {},
   "outputs": [
    {
     "data": {
      "text/html": [
       "<div>\n",
       "<style scoped>\n",
       "    .dataframe tbody tr th:only-of-type {\n",
       "        vertical-align: middle;\n",
       "    }\n",
       "\n",
       "    .dataframe tbody tr th {\n",
       "        vertical-align: top;\n",
       "    }\n",
       "\n",
       "    .dataframe thead th {\n",
       "        text-align: right;\n",
       "    }\n",
       "</style>\n",
       "<table border=\"1\" class=\"dataframe\">\n",
       "  <thead>\n",
       "    <tr style=\"text-align: right;\">\n",
       "      <th>weeklyhrstvnum</th>\n",
       "      <th>1</th>\n",
       "      <th>5</th>\n",
       "      <th>15</th>\n",
       "      <th>25</th>\n",
       "      <th>35</th>\n",
       "      <th>45</th>\n",
       "    </tr>\n",
       "    <tr>\n",
       "      <th>weeklyhrstv</th>\n",
       "      <th></th>\n",
       "      <th></th>\n",
       "      <th></th>\n",
       "      <th></th>\n",
       "      <th></th>\n",
       "      <th></th>\n",
       "    </tr>\n",
       "  </thead>\n",
       "  <tbody>\n",
       "    <tr>\n",
       "      <th>11 to 20 hours a week</th>\n",
       "      <td>0</td>\n",
       "      <td>0</td>\n",
       "      <td>1145</td>\n",
       "      <td>0</td>\n",
       "      <td>0</td>\n",
       "      <td>0</td>\n",
       "    </tr>\n",
       "    <tr>\n",
       "      <th>21 to 30 hours a week</th>\n",
       "      <td>0</td>\n",
       "      <td>0</td>\n",
       "      <td>0</td>\n",
       "      <td>299</td>\n",
       "      <td>0</td>\n",
       "      <td>0</td>\n",
       "    </tr>\n",
       "    <tr>\n",
       "      <th>3 to 10 hours a week</th>\n",
       "      <td>0</td>\n",
       "      <td>3625</td>\n",
       "      <td>0</td>\n",
       "      <td>0</td>\n",
       "      <td>0</td>\n",
       "      <td>0</td>\n",
       "    </tr>\n",
       "    <tr>\n",
       "      <th>31 to 40 hours a week</th>\n",
       "      <td>0</td>\n",
       "      <td>0</td>\n",
       "      <td>0</td>\n",
       "      <td>0</td>\n",
       "      <td>116</td>\n",
       "      <td>0</td>\n",
       "    </tr>\n",
       "    <tr>\n",
       "      <th>Less than 2 hours per week</th>\n",
       "      <td>1350</td>\n",
       "      <td>0</td>\n",
       "      <td>0</td>\n",
       "      <td>0</td>\n",
       "      <td>0</td>\n",
       "      <td>0</td>\n",
       "    </tr>\n",
       "    <tr>\n",
       "      <th>More than 40 hours a week</th>\n",
       "      <td>0</td>\n",
       "      <td>0</td>\n",
       "      <td>0</td>\n",
       "      <td>0</td>\n",
       "      <td>0</td>\n",
       "      <td>176</td>\n",
       "    </tr>\n",
       "  </tbody>\n",
       "</table>\n",
       "</div>"
      ],
      "text/plain": [
       "weeklyhrstvnum                1     5     15   25   35   45\n",
       "weeklyhrstv                                                \n",
       "11 to 20 hours a week          0     0  1145    0    0    0\n",
       "21 to 30 hours a week          0     0     0  299    0    0\n",
       "3 to 10 hours a week           0  3625     0    0    0    0\n",
       "31 to 40 hours a week          0     0     0    0  116    0\n",
       "Less than 2 hours per week  1350     0     0    0    0    0\n",
       "More than 40 hours a week      0     0     0    0    0  176"
      ]
     },
     "execution_count": 89,
     "metadata": {},
     "output_type": "execute_result"
    }
   ],
   "source": [
    "nls97['weeklyhrstvnum'] = nls97.weeklyhrstv.str.findall('\\d+').apply(getnum)\n",
    "pd.crosstab(nls97.weeklyhrstv, nls97.weeklyhrstvnum)            "
   ]
  },
  {
   "cell_type": "markdown",
   "metadata": {},
   "source": [
    "# 날짜"
   ]
  },
  {
   "cell_type": "code",
   "execution_count": 88,
   "metadata": {},
   "outputs": [],
   "source": [
    "import pandas as pd\n",
    "import numpy as np\n",
    "from datetime import datetime\n",
    "\n",
    "covidcases = pd.read_csv(\"data/covidcases720.csv\")\n",
    "nls97 = pd.read_csv(\"data/nls97c.csv\")\n",
    "nls97.set_index(\"personid\", inplace=True)\n",
    "\n",
    "pd.set_option('display.width', 200)\n",
    "pd.set_option('display.max_columns', 35)\n",
    "pd.set_option('display.max_rows', 220)\n",
    "pd.options.display.float_format = '{:,.0f}'.format"
   ]
  },
  {
   "cell_type": "code",
   "execution_count": null,
   "metadata": {},
   "outputs": [],
   "source": [
    "# 1. show the birth month and year values\n",
    "nls97[['birthmonth','birthyear']].head()\n",
    "nls97[['birthmonth','birthyear']].isnull().sum()\n",
    "nls97.birthmonth.value_counts().sort_index()\n",
    "nls97.birthyear.value_counts().sort_index()\n",
    "\n",
    "# 2. use fillna to fix missing value\n",
    "nls97.birthmonth.fillna(int(nls97.birthmonth.mean()), inplace=True)\n",
    "nls97.birthmonth.value_counts().sort_index()\n",
    "\n",
    "# 3. use month and date integers to create a datetime column\n",
    "nls97['birthdate'] = pd.to_datetime(dict(year=nls97.birthyear, month=nls97.birthmonth, day=15))\n",
    "nls97.birthdate.describe()\n",
    "nls97[['birthmonth','birthyear','birthdate']].head()\n",
    "nls97[['birthmonth','birthyear','birthdate']].isnull().sum()\n",
    "\n",
    "# 4. define a function for calculating given start and end date\n",
    "def calcage(startdate, enddate):\n",
    "    age = enddate.year - startdate.year\n",
    "    if (enddate.month<startdate.month or (enddate.month==startdate.month and enddate.day<startdate.day)):\n",
    "    age = age -1\n",
    "    return age\n",
    "\n",
    "# 5. calculate age\n",
    "rundate = pd.to_datetime('2020-07-20')\n",
    "nls97[\"age\"] = nls97.apply(lambda x: calcage(x.birthdate, rundate), axis=1)\n",
    "nls97.loc[100061:100583, ['age','birthdate']]\n",
    "\n",
    "# 6. convert a string column to a datetime column\n",
    "covidcases.iloc[:, 0:6].dtypes\n",
    "covidcases.iloc[:, 0:6].sample(2, random_state=1).T\n",
    "covidcases['casedate'] = pd.to_datetime(covidcases.casedate, format='%Y-%m-%d')\n",
    "covidcases.iloc[:, 0:6].dtypes\n",
    "\n",
    "# 7. get descriptive statistics on datetime column\n",
    "covidcases.casedate.describe()\n",
    "\n",
    "# 8. calculate days since first case by country\n",
    "firstcase = covidcases.loc[covidcases.new_cases>0,['location','casedate']].\\\n",
    "  sort_values(['location','casedate']).\\\n",
    "  drop_duplicates(['location'], keep='first').\\\n",
    "  rename(columns={'casedate':'firstcasedate'})\n",
    "covidcases = pd.merge(covidcases, firstcase, left_on=['location'], right_on=['location'], how=\"left\")\n",
    "covidcases['dayssincefirstcase'] = covidcases.casedate - covidcases.firstcasedate\n",
    "covidcases.dayssincefirstcase.describe()"
   ]
  },
  {
   "cell_type": "markdown",
   "metadata": {},
   "source": [
    "# 누락 데이터"
   ]
  },
  {
   "cell_type": "code",
   "execution_count": 117,
   "metadata": {},
   "outputs": [],
   "source": [
    "import pandas as pd\n",
    "\n",
    "pd.set_option('display.width', 200)\n",
    "pd.set_option('display.max_columns', 12)\n",
    "pd.set_option('display.max_rows', 100)\n",
    "pd.options.display.float_format = '{:,.0f}'.format\n",
    "\n",
    "nls97 = pd.read_csv(\"data/nls97c.csv\")\n",
    "nls97.set_index(\"personid\", inplace=True)"
   ]
  },
  {
   "cell_type": "code",
   "execution_count": 118,
   "metadata": {},
   "outputs": [
    {
     "data": {
      "text/plain": [
       "((8984, 8), (8984, 7))"
      ]
     },
     "execution_count": 118,
     "metadata": {},
     "output_type": "execute_result"
    }
   ],
   "source": [
    "# 1. set up school record and demographic data frames from the NLS data\n",
    "schoolrecordlist = ['satverbal','satmath','gpaoverall','gpaenglish','gpamath','gpascience','highestdegree','highestgradecompleted']\n",
    "demolist = ['maritalstatus','childathome','childnotathome', 'wageincome','weeklyhrscomputer','weeklyhrstv','nightlyhrssleep']\n",
    "schoolrecord = nls97[schoolrecordlist]\n",
    "demo = nls97[demolist]\n",
    "schoolrecord.shape, demo.shape"
   ]
  },
  {
   "cell_type": "code",
   "execution_count": 119,
   "metadata": {},
   "outputs": [
    {
     "data": {
      "text/plain": [
       "satverbal                7578\n",
       "satmath                  7577\n",
       "gpaoverall               2980\n",
       "gpaenglish               3186\n",
       "gpamath                  3218\n",
       "gpascience               3300\n",
       "highestdegree              31\n",
       "highestgradecompleted    2321\n",
       "dtype: int64"
      ]
     },
     "execution_count": 119,
     "metadata": {},
     "output_type": "execute_result"
    }
   ],
   "source": [
    "# 2. check the school record data for missings\n",
    "schoolrecord.isnull().sum(axis=0) # 컬럼별"
   ]
  },
  {
   "cell_type": "code",
   "execution_count": 120,
   "metadata": {},
   "outputs": [
    {
     "data": {
      "text/plain": [
       "0    1087\n",
       "1     312\n",
       "2    3210\n",
       "3    1102\n",
       "4     176\n",
       "5     101\n",
       "6    2039\n",
       "7     946\n",
       "8      11\n",
       "dtype: int64"
      ]
     },
     "execution_count": 120,
     "metadata": {},
     "output_type": "execute_result"
    }
   ],
   "source": [
    "misscnt = schoolrecord.isnull().sum(axis=1) # 로우별\n",
    "misscnt.value_counts().sort_index()"
   ]
  },
  {
   "cell_type": "code",
   "execution_count": 121,
   "metadata": {},
   "outputs": [
    {
     "data": {
      "text/html": [
       "<div>\n",
       "<style scoped>\n",
       "    .dataframe tbody tr th:only-of-type {\n",
       "        vertical-align: middle;\n",
       "    }\n",
       "\n",
       "    .dataframe tbody tr th {\n",
       "        vertical-align: top;\n",
       "    }\n",
       "\n",
       "    .dataframe thead th {\n",
       "        text-align: right;\n",
       "    }\n",
       "</style>\n",
       "<table border=\"1\" class=\"dataframe\">\n",
       "  <thead>\n",
       "    <tr style=\"text-align: right;\">\n",
       "      <th>personid</th>\n",
       "      <th>101705</th>\n",
       "      <th>102061</th>\n",
       "      <th>102648</th>\n",
       "      <th>104627</th>\n",
       "    </tr>\n",
       "  </thead>\n",
       "  <tbody>\n",
       "    <tr>\n",
       "      <th>satverbal</th>\n",
       "      <td>NaN</td>\n",
       "      <td>NaN</td>\n",
       "      <td>NaN</td>\n",
       "      <td>NaN</td>\n",
       "    </tr>\n",
       "    <tr>\n",
       "      <th>satmath</th>\n",
       "      <td>NaN</td>\n",
       "      <td>NaN</td>\n",
       "      <td>NaN</td>\n",
       "      <td>NaN</td>\n",
       "    </tr>\n",
       "    <tr>\n",
       "      <th>gpaoverall</th>\n",
       "      <td>NaN</td>\n",
       "      <td>NaN</td>\n",
       "      <td>NaN</td>\n",
       "      <td>NaN</td>\n",
       "    </tr>\n",
       "    <tr>\n",
       "      <th>gpaenglish</th>\n",
       "      <td>NaN</td>\n",
       "      <td>NaN</td>\n",
       "      <td>NaN</td>\n",
       "      <td>NaN</td>\n",
       "    </tr>\n",
       "    <tr>\n",
       "      <th>gpamath</th>\n",
       "      <td>NaN</td>\n",
       "      <td>NaN</td>\n",
       "      <td>NaN</td>\n",
       "      <td>NaN</td>\n",
       "    </tr>\n",
       "    <tr>\n",
       "      <th>gpascience</th>\n",
       "      <td>NaN</td>\n",
       "      <td>NaN</td>\n",
       "      <td>NaN</td>\n",
       "      <td>NaN</td>\n",
       "    </tr>\n",
       "    <tr>\n",
       "      <th>highestdegree</th>\n",
       "      <td>1. GED</td>\n",
       "      <td>0. None</td>\n",
       "      <td>1. GED</td>\n",
       "      <td>0. None</td>\n",
       "    </tr>\n",
       "    <tr>\n",
       "      <th>highestgradecompleted</th>\n",
       "      <td>NaN</td>\n",
       "      <td>NaN</td>\n",
       "      <td>NaN</td>\n",
       "      <td>NaN</td>\n",
       "    </tr>\n",
       "  </tbody>\n",
       "</table>\n",
       "</div>"
      ],
      "text/plain": [
       "personid               101705   102061  102648   104627\n",
       "satverbal                 NaN      NaN     NaN      NaN\n",
       "satmath                   NaN      NaN     NaN      NaN\n",
       "gpaoverall                NaN      NaN     NaN      NaN\n",
       "gpaenglish                NaN      NaN     NaN      NaN\n",
       "gpamath                   NaN      NaN     NaN      NaN\n",
       "gpascience                NaN      NaN     NaN      NaN\n",
       "highestdegree          1. GED  0. None  1. GED  0. None\n",
       "highestgradecompleted     NaN      NaN     NaN      NaN"
      ]
     },
     "execution_count": 121,
     "metadata": {},
     "output_type": "execute_result"
    }
   ],
   "source": [
    "schoolrecord.loc[misscnt>=7].head(4).T # 로우(row)기준 결측값이 6개가 넘는 데이터"
   ]
  },
  {
   "cell_type": "markdown",
   "metadata": {},
   "source": [
    "📍 `로우(row)별 누락 데이터의 개수를 평가하는 misscnt 객체`를 **loc**에 활용해서 쓸 수 있다."
   ]
  },
  {
   "cell_type": "code",
   "execution_count": 122,
   "metadata": {},
   "outputs": [
    {
     "data": {
      "text/plain": [
       "(8027, 8)"
      ]
     },
     "execution_count": 122,
     "metadata": {},
     "output_type": "execute_result"
    }
   ],
   "source": [
    "# 3. remove rows with almost all missing data\n",
    "schoolrecord = schoolrecord.dropna(thresh=2)\n",
    "schoolrecord.shape"
   ]
  },
  {
   "cell_type": "markdown",
   "metadata": {},
   "source": [
    "📍 dropna 메서드의 **thresh** 옵션을 2로 설정하면 > 비누락값이 2개 미만인 행(=누락값이 7~8개인 행) 삭제됨"
   ]
  },
  {
   "cell_type": "code",
   "execution_count": 123,
   "metadata": {},
   "outputs": [
    {
     "data": {
      "text/plain": [
       "0    1087\n",
       "1     312\n",
       "2    3210\n",
       "3    1102\n",
       "4     176\n",
       "5     101\n",
       "6    2039\n",
       "dtype: int64"
      ]
     },
     "execution_count": 123,
     "metadata": {},
     "output_type": "execute_result"
    }
   ],
   "source": [
    "schoolrecord.isnull().sum(axis=1).value_counts().sort_index()"
   ]
  },
  {
   "cell_type": "code",
   "execution_count": 124,
   "metadata": {},
   "outputs": [
    {
     "data": {
      "text/plain": [
       "2"
      ]
     },
     "execution_count": 124,
     "metadata": {},
     "output_type": "execute_result"
    }
   ],
   "source": [
    "# 4. assign mean values to missings\n",
    "int(schoolrecord.gpaoverall.mean())"
   ]
  },
  {
   "cell_type": "code",
   "execution_count": 125,
   "metadata": {},
   "outputs": [
    {
     "data": {
      "text/plain": [
       "2023"
      ]
     },
     "execution_count": 125,
     "metadata": {},
     "output_type": "execute_result"
    }
   ],
   "source": [
    "schoolrecord.gpaoverall.isnull().sum()"
   ]
  },
  {
   "cell_type": "code",
   "execution_count": 126,
   "metadata": {},
   "outputs": [
    {
     "data": {
      "text/plain": [
       "0"
      ]
     },
     "execution_count": 126,
     "metadata": {},
     "output_type": "execute_result"
    }
   ],
   "source": [
    "schoolrecord.gpaoverall.fillna(int(schoolrecord.gpaoverall.mean()), inplace=True)\n",
    "schoolrecord.gpaoverall.isnull().sum()"
   ]
  },
  {
   "cell_type": "code",
   "execution_count": 127,
   "metadata": {},
   "outputs": [
    {
     "data": {
      "text/plain": [
       "personid\n",
       "100061    12,500\n",
       "100139   120,000\n",
       "100284    58,000\n",
       "100292       nan\n",
       "100583    30,000\n",
       "Name: wageincome, dtype: float64"
      ]
     },
     "execution_count": 127,
     "metadata": {},
     "output_type": "execute_result"
    }
   ],
   "source": [
    "# 5. use forward fill\n",
    "demo.wageincome.head().T"
   ]
  },
  {
   "cell_type": "code",
   "execution_count": 128,
   "metadata": {},
   "outputs": [
    {
     "data": {
      "text/plain": [
       "3893"
      ]
     },
     "execution_count": 128,
     "metadata": {},
     "output_type": "execute_result"
    }
   ],
   "source": [
    "demo.wageincome.isnull().sum()"
   ]
  },
  {
   "cell_type": "code",
   "execution_count": 129,
   "metadata": {},
   "outputs": [],
   "source": [
    "nls97.wageincome.fillna(method='ffill', inplace=True)"
   ]
  },
  {
   "cell_type": "markdown",
   "metadata": {},
   "source": [
    "📍 fillna의 `ffill` 옵션은 누락값을 이전에 나온 가까운 비누락값으로 대체해준다"
   ]
  },
  {
   "cell_type": "code",
   "execution_count": 131,
   "metadata": {},
   "outputs": [
    {
     "data": {
      "text/plain": [
       "personid\n",
       "100061    12,500\n",
       "100139   120,000\n",
       "100284    58,000\n",
       "100292    58,000\n",
       "100583    30,000\n",
       "Name: wageincome, dtype: float64"
      ]
     },
     "execution_count": 131,
     "metadata": {},
     "output_type": "execute_result"
    }
   ],
   "source": [
    "demo = nls97[demolist]\n",
    "demo.wageincome.head().T"
   ]
  },
  {
   "cell_type": "code",
   "execution_count": 132,
   "metadata": {},
   "outputs": [
    {
     "data": {
      "text/plain": [
       "0"
      ]
     },
     "execution_count": 132,
     "metadata": {},
     "output_type": "execute_result"
    }
   ],
   "source": [
    "demo.wageincome.isnull().sum()"
   ]
  },
  {
   "cell_type": "code",
   "execution_count": 133,
   "metadata": {},
   "outputs": [
    {
     "data": {
      "text/html": [
       "<div>\n",
       "<style scoped>\n",
       "    .dataframe tbody tr th:only-of-type {\n",
       "        vertical-align: middle;\n",
       "    }\n",
       "\n",
       "    .dataframe tbody tr th {\n",
       "        vertical-align: top;\n",
       "    }\n",
       "\n",
       "    .dataframe thead th {\n",
       "        text-align: right;\n",
       "    }\n",
       "</style>\n",
       "<table border=\"1\" class=\"dataframe\">\n",
       "  <thead>\n",
       "    <tr style=\"text-align: right;\">\n",
       "      <th></th>\n",
       "      <th>highestdegree</th>\n",
       "      <th>weeksworked17</th>\n",
       "    </tr>\n",
       "    <tr>\n",
       "      <th>personid</th>\n",
       "      <th></th>\n",
       "      <th></th>\n",
       "    </tr>\n",
       "  </thead>\n",
       "  <tbody>\n",
       "    <tr>\n",
       "      <th>100061</th>\n",
       "      <td>2. High School</td>\n",
       "      <td>48</td>\n",
       "    </tr>\n",
       "    <tr>\n",
       "      <th>100139</th>\n",
       "      <td>2. High School</td>\n",
       "      <td>52</td>\n",
       "    </tr>\n",
       "    <tr>\n",
       "      <th>100284</th>\n",
       "      <td>0. None</td>\n",
       "      <td>0</td>\n",
       "    </tr>\n",
       "    <tr>\n",
       "      <th>100292</th>\n",
       "      <td>4. Bachelors</td>\n",
       "      <td>nan</td>\n",
       "    </tr>\n",
       "    <tr>\n",
       "      <th>100583</th>\n",
       "      <td>2. High School</td>\n",
       "      <td>52</td>\n",
       "    </tr>\n",
       "  </tbody>\n",
       "</table>\n",
       "</div>"
      ],
      "text/plain": [
       "           highestdegree  weeksworked17\n",
       "personid                               \n",
       "100061    2. High School             48\n",
       "100139    2. High School             52\n",
       "100284           0. None              0\n",
       "100292      4. Bachelors            nan\n",
       "100583    2. High School             52"
      ]
     },
     "execution_count": 133,
     "metadata": {},
     "output_type": "execute_result"
    }
   ],
   "source": [
    "# 6. fill missings with the average by group\n",
    "nls97[['highestdegree','weeksworked17']].head()"
   ]
  },
  {
   "cell_type": "code",
   "execution_count": 140,
   "metadata": {},
   "outputs": [],
   "source": [
    "workbydegree = nls97.groupby(['highestdegree'])['weeksworked17'].mean().reset_index().rename(columns={'weeksworked17':'meanweeksworked17'})\n",
    "# 즉, '최종학력' 기준으로 17년도 주당 근로시간을 묶은 뒤, 그룹화한 범위 별로 평균을 계산함"
   ]
  },
  {
   "cell_type": "markdown",
   "metadata": {},
   "source": [
    "* 중간과정"
   ]
  },
  {
   "cell_type": "code",
   "execution_count": 141,
   "metadata": {},
   "outputs": [
    {
     "data": {
      "text/plain": [
       "highestdegree\n",
       "0. None           29\n",
       "1. GED            35\n",
       "2. High School    38\n",
       "3. Associates     40\n",
       "4. Bachelors      44\n",
       "5. Masters        45\n",
       "6. PhD            44\n",
       "7. Professional   47\n",
       "Name: weeksworked17, dtype: float64"
      ]
     },
     "execution_count": 141,
     "metadata": {},
     "output_type": "execute_result"
    }
   ],
   "source": [
    "nls97.groupby(['highestdegree'])['weeksworked17'].mean()"
   ]
  },
  {
   "cell_type": "code",
   "execution_count": 142,
   "metadata": {
    "scrolled": true
   },
   "outputs": [
    {
     "data": {
      "text/html": [
       "<div>\n",
       "<style scoped>\n",
       "    .dataframe tbody tr th:only-of-type {\n",
       "        vertical-align: middle;\n",
       "    }\n",
       "\n",
       "    .dataframe tbody tr th {\n",
       "        vertical-align: top;\n",
       "    }\n",
       "\n",
       "    .dataframe thead th {\n",
       "        text-align: right;\n",
       "    }\n",
       "</style>\n",
       "<table border=\"1\" class=\"dataframe\">\n",
       "  <thead>\n",
       "    <tr style=\"text-align: right;\">\n",
       "      <th></th>\n",
       "      <th>highestdegree</th>\n",
       "      <th>meanweeksworked17</th>\n",
       "    </tr>\n",
       "  </thead>\n",
       "  <tbody>\n",
       "    <tr>\n",
       "      <th>0</th>\n",
       "      <td>0. None</td>\n",
       "      <td>29</td>\n",
       "    </tr>\n",
       "    <tr>\n",
       "      <th>1</th>\n",
       "      <td>1. GED</td>\n",
       "      <td>35</td>\n",
       "    </tr>\n",
       "    <tr>\n",
       "      <th>2</th>\n",
       "      <td>2. High School</td>\n",
       "      <td>38</td>\n",
       "    </tr>\n",
       "    <tr>\n",
       "      <th>3</th>\n",
       "      <td>3. Associates</td>\n",
       "      <td>40</td>\n",
       "    </tr>\n",
       "    <tr>\n",
       "      <th>4</th>\n",
       "      <td>4. Bachelors</td>\n",
       "      <td>44</td>\n",
       "    </tr>\n",
       "    <tr>\n",
       "      <th>5</th>\n",
       "      <td>5. Masters</td>\n",
       "      <td>45</td>\n",
       "    </tr>\n",
       "    <tr>\n",
       "      <th>6</th>\n",
       "      <td>6. PhD</td>\n",
       "      <td>44</td>\n",
       "    </tr>\n",
       "    <tr>\n",
       "      <th>7</th>\n",
       "      <td>7. Professional</td>\n",
       "      <td>47</td>\n",
       "    </tr>\n",
       "  </tbody>\n",
       "</table>\n",
       "</div>"
      ],
      "text/plain": [
       "     highestdegree  meanweeksworked17\n",
       "0          0. None                 29\n",
       "1           1. GED                 35\n",
       "2   2. High School                 38\n",
       "3    3. Associates                 40\n",
       "4     4. Bachelors                 44\n",
       "5       5. Masters                 45\n",
       "6           6. PhD                 44\n",
       "7  7. Professional                 47"
      ]
     },
     "execution_count": 142,
     "metadata": {},
     "output_type": "execute_result"
    }
   ],
   "source": [
    "nls97.groupby(['highestdegree'])['weeksworked17'].mean().reset_index().rename(columns={'weeksworked17':'meanweeksworked17'})"
   ]
  },
  {
   "cell_type": "code",
   "execution_count": 143,
   "metadata": {
    "scrolled": true
   },
   "outputs": [
    {
     "data": {
      "text/html": [
       "<div>\n",
       "<style scoped>\n",
       "    .dataframe tbody tr th:only-of-type {\n",
       "        vertical-align: middle;\n",
       "    }\n",
       "\n",
       "    .dataframe tbody tr th {\n",
       "        vertical-align: top;\n",
       "    }\n",
       "\n",
       "    .dataframe thead th {\n",
       "        text-align: right;\n",
       "    }\n",
       "</style>\n",
       "<table border=\"1\" class=\"dataframe\">\n",
       "  <thead>\n",
       "    <tr style=\"text-align: right;\">\n",
       "      <th></th>\n",
       "      <th>highestdegree</th>\n",
       "      <th>meanweeksworked17</th>\n",
       "    </tr>\n",
       "  </thead>\n",
       "  <tbody>\n",
       "    <tr>\n",
       "      <th>0</th>\n",
       "      <td>0. None</td>\n",
       "      <td>29</td>\n",
       "    </tr>\n",
       "    <tr>\n",
       "      <th>1</th>\n",
       "      <td>1. GED</td>\n",
       "      <td>35</td>\n",
       "    </tr>\n",
       "    <tr>\n",
       "      <th>2</th>\n",
       "      <td>2. High School</td>\n",
       "      <td>38</td>\n",
       "    </tr>\n",
       "    <tr>\n",
       "      <th>3</th>\n",
       "      <td>3. Associates</td>\n",
       "      <td>40</td>\n",
       "    </tr>\n",
       "    <tr>\n",
       "      <th>4</th>\n",
       "      <td>4. Bachelors</td>\n",
       "      <td>44</td>\n",
       "    </tr>\n",
       "    <tr>\n",
       "      <th>5</th>\n",
       "      <td>5. Masters</td>\n",
       "      <td>45</td>\n",
       "    </tr>\n",
       "    <tr>\n",
       "      <th>6</th>\n",
       "      <td>6. PhD</td>\n",
       "      <td>44</td>\n",
       "    </tr>\n",
       "    <tr>\n",
       "      <th>7</th>\n",
       "      <td>7. Professional</td>\n",
       "      <td>47</td>\n",
       "    </tr>\n",
       "  </tbody>\n",
       "</table>\n",
       "</div>"
      ],
      "text/plain": [
       "     highestdegree  meanweeksworked17\n",
       "0          0. None                 29\n",
       "1           1. GED                 35\n",
       "2   2. High School                 38\n",
       "3    3. Associates                 40\n",
       "4     4. Bachelors                 44\n",
       "5       5. Masters                 45\n",
       "6           6. PhD                 44\n",
       "7  7. Professional                 47"
      ]
     },
     "execution_count": 143,
     "metadata": {},
     "output_type": "execute_result"
    }
   ],
   "source": [
    "workbydegree"
   ]
  },
  {
   "cell_type": "code",
   "execution_count": 153,
   "metadata": {},
   "outputs": [],
   "source": [
    "nls97 = nls97.reset_index().merge(workbydegree, left_on=['highestdegree'], right_on=['highestdegree'], how='left').set_index('personid')\n",
    "# 즉, nls97 데이터와 workbydegree 데이터를 'highestdegree'기준으로 left join \n",
    "# => 그 결과로 nls97 데이터에 최종학력별 평균 주당근로시간 칼럼이 추가됨"
   ]
  },
  {
   "cell_type": "code",
   "execution_count": 154,
   "metadata": {},
   "outputs": [
    {
     "data": {
      "text/html": [
       "<div>\n",
       "<style scoped>\n",
       "    .dataframe tbody tr th:only-of-type {\n",
       "        vertical-align: middle;\n",
       "    }\n",
       "\n",
       "    .dataframe tbody tr th {\n",
       "        vertical-align: top;\n",
       "    }\n",
       "\n",
       "    .dataframe thead th {\n",
       "        text-align: right;\n",
       "    }\n",
       "</style>\n",
       "<table border=\"1\" class=\"dataframe\">\n",
       "  <thead>\n",
       "    <tr style=\"text-align: right;\">\n",
       "      <th></th>\n",
       "      <th>highestdegree</th>\n",
       "      <th>weeksworked17</th>\n",
       "      <th>meanweeksworked17</th>\n",
       "    </tr>\n",
       "    <tr>\n",
       "      <th>personid</th>\n",
       "      <th></th>\n",
       "      <th></th>\n",
       "      <th></th>\n",
       "    </tr>\n",
       "  </thead>\n",
       "  <tbody>\n",
       "    <tr>\n",
       "      <th>100061</th>\n",
       "      <td>2. High School</td>\n",
       "      <td>48</td>\n",
       "      <td>38</td>\n",
       "    </tr>\n",
       "    <tr>\n",
       "      <th>100139</th>\n",
       "      <td>2. High School</td>\n",
       "      <td>52</td>\n",
       "      <td>38</td>\n",
       "    </tr>\n",
       "    <tr>\n",
       "      <th>100284</th>\n",
       "      <td>0. None</td>\n",
       "      <td>0</td>\n",
       "      <td>29</td>\n",
       "    </tr>\n",
       "    <tr>\n",
       "      <th>100292</th>\n",
       "      <td>4. Bachelors</td>\n",
       "      <td>44</td>\n",
       "      <td>44</td>\n",
       "    </tr>\n",
       "    <tr>\n",
       "      <th>100583</th>\n",
       "      <td>2. High School</td>\n",
       "      <td>52</td>\n",
       "      <td>38</td>\n",
       "    </tr>\n",
       "  </tbody>\n",
       "</table>\n",
       "</div>"
      ],
      "text/plain": [
       "           highestdegree  weeksworked17  meanweeksworked17\n",
       "personid                                                  \n",
       "100061    2. High School             48                 38\n",
       "100139    2. High School             52                 38\n",
       "100284           0. None              0                 29\n",
       "100292      4. Bachelors             44                 44\n",
       "100583    2. High School             52                 38"
      ]
     },
     "execution_count": 154,
     "metadata": {},
     "output_type": "execute_result"
    }
   ],
   "source": [
    "nls97.weeksworked17.fillna(nls97.meanweeksworked17, inplace=True) # 속한 최종학력 집단의 평균 주당근로시간으로 결측값이 대체됨\n",
    "nls97[['highestdegree','weeksworked17','meanweeksworked17']].head()"
   ]
  }
 ],
 "metadata": {
  "kernelspec": {
   "display_name": "Python 3",
   "language": "python",
   "name": "python3"
  },
  "language_info": {
   "codemirror_mode": {
    "name": "ipython",
    "version": 3
   },
   "file_extension": ".py",
   "mimetype": "text/x-python",
   "name": "python",
   "nbconvert_exporter": "python",
   "pygments_lexer": "ipython3",
   "version": "3.8.5"
  },
  "toc": {
   "base_numbering": 1,
   "nav_menu": {},
   "number_sections": true,
   "sideBar": true,
   "skip_h1_title": false,
   "title_cell": "Table of Contents",
   "title_sidebar": "Contents",
   "toc_cell": false,
   "toc_position": {
    "height": "calc(100% - 180px)",
    "left": "10px",
    "top": "150px",
    "width": "272.891px"
   },
   "toc_section_display": true,
   "toc_window_display": true
  }
 },
 "nbformat": 4,
 "nbformat_minor": 4
}
