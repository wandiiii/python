{
 "cells": [
  {
   "cell_type": "markdown",
   "metadata": {},
   "source": [
    "# 환경 세팅"
   ]
  },
  {
   "cell_type": "code",
   "execution_count": 9,
   "metadata": {},
   "outputs": [],
   "source": [
    "import pandas as pd\n",
    "import numpy as np\n",
    "pd.set_option('display.max_rows', 200)\n",
    "pd.set_option('display.max_columns', 30)\n",
    "pd.set_option('display.width', 120)\n",
    "pd.options.display.float_format = '{:,.2f}'.format"
   ]
  },
  {
   "cell_type": "markdown",
   "metadata": {},
   "source": [
    "# 다대다 병합\n",
    "* 다대다 병합 : 병합 기준 값이 왼쪽, 오른쪽 모두에서 중복일 때 사용하는 병합  \n",
    "1) 그러나, 위와 같은 경우여도 '다대다 병합'을 해야하는 경우는 드묾 / 그 대신 오히려 '일대다 관계'를 복원하는 게 우선일 수가 있음\n",
    "2) 다대다 병합이 불가피한 경우도 있음 => 중복이 발생하는 것에 상관없이 전체 데이터를 포함해야하는 경우.. "
   ]
  },
  {
   "cell_type": "code",
   "execution_count": 2,
   "metadata": {},
   "outputs": [
    {
     "name": "stdout",
     "output_type": "stream",
     "text": [
      "['cmacitations.csv', 'cmacitations.pkl', 'cmacreators.csv', 'cmacreators.pkl', 'ghcn', 'ltcountries.csv', 'ltcountries.pkl', 'ltcountry', 'ltlocations.csv', 'ltlocations.pkl', 'nls97add.csv', 'nls97add.pkl', 'nls97colenr.csv', 'nls97colenr.pkl', 'nls97f.csv', 'nls97f.pkl', 'nls97weeksworked.csv', 'nls97weeksworked.pkl']\n"
     ]
    }
   ],
   "source": [
    "import pandas as pd\n",
    "import os\n",
    "print(os.listdir('data'))"
   ]
  },
  {
   "cell_type": "code",
   "execution_count": 4,
   "metadata": {},
   "outputs": [],
   "source": [
    "cmacitations = pd.read_csv('data/cmacitations.csv') # 클리블랜드 미술관 소장품별 매체 인용 \n",
    "cmacreators = pd.read_csv('data/cmacreators.csv') # 클리블랜드 미술관 소장품별 작가 정보"
   ]
  },
  {
   "cell_type": "markdown",
   "metadata": {},
   "source": [
    "## 데이터 살펴보기"
   ]
  },
  {
   "cell_type": "code",
   "execution_count": 6,
   "metadata": {},
   "outputs": [
    {
     "data": {
      "text/html": [
       "<div>\n",
       "<style scoped>\n",
       "    .dataframe tbody tr th:only-of-type {\n",
       "        vertical-align: middle;\n",
       "    }\n",
       "\n",
       "    .dataframe tbody tr th {\n",
       "        vertical-align: top;\n",
       "    }\n",
       "\n",
       "    .dataframe thead th {\n",
       "        text-align: right;\n",
       "    }\n",
       "</style>\n",
       "<table border=\"1\" class=\"dataframe\">\n",
       "  <thead>\n",
       "    <tr style=\"text-align: right;\">\n",
       "      <th></th>\n",
       "      <th>id</th>\n",
       "      <th>citation</th>\n",
       "    </tr>\n",
       "  </thead>\n",
       "  <tbody>\n",
       "    <tr>\n",
       "      <th>0</th>\n",
       "      <td>92937</td>\n",
       "      <td>Milliken, William M. \"The Second Exhibition of...</td>\n",
       "    </tr>\n",
       "    <tr>\n",
       "      <th>1</th>\n",
       "      <td>92937</td>\n",
       "      <td>Glasier, Jessie C. \"Museum Gets Prize-Winning ...</td>\n",
       "    </tr>\n",
       "    <tr>\n",
       "      <th>2</th>\n",
       "      <td>92937</td>\n",
       "      <td>\"Cleveland Museum Acquires Typical Pictures by...</td>\n",
       "    </tr>\n",
       "    <tr>\n",
       "      <th>3</th>\n",
       "      <td>92937</td>\n",
       "      <td>Milliken, William M. \"Two Examples of Modern P...</td>\n",
       "    </tr>\n",
       "    <tr>\n",
       "      <th>4</th>\n",
       "      <td>92937</td>\n",
       "      <td>&lt;em&gt;Memorial Exhibition of the Work of George ...</td>\n",
       "    </tr>\n",
       "    <tr>\n",
       "      <th>5</th>\n",
       "      <td>92937</td>\n",
       "      <td>The Cleveland Museum of Art. &lt;em&gt;Handbook of t...</td>\n",
       "    </tr>\n",
       "    <tr>\n",
       "      <th>6</th>\n",
       "      <td>92937</td>\n",
       "      <td>Cortissoz, Royal. \"Paintings and Prints by Geo...</td>\n",
       "    </tr>\n",
       "    <tr>\n",
       "      <th>7</th>\n",
       "      <td>92937</td>\n",
       "      <td>Isham, Samuel, and Royal Cortissoz. &lt;em&gt;The Hi...</td>\n",
       "    </tr>\n",
       "    <tr>\n",
       "      <th>8</th>\n",
       "      <td>92937</td>\n",
       "      <td>Mather, Frank Jewett, Charles Rufus Morey, and...</td>\n",
       "    </tr>\n",
       "    <tr>\n",
       "      <th>9</th>\n",
       "      <td>92937</td>\n",
       "      <td>\"Un Artiste Americain.\" &lt;em&gt;L'illustration.&lt;/e...</td>\n",
       "    </tr>\n",
       "  </tbody>\n",
       "</table>\n",
       "</div>"
      ],
      "text/plain": [
       "      id                                           citation\n",
       "0  92937  Milliken, William M. \"The Second Exhibition of...\n",
       "1  92937  Glasier, Jessie C. \"Museum Gets Prize-Winning ...\n",
       "2  92937  \"Cleveland Museum Acquires Typical Pictures by...\n",
       "3  92937  Milliken, William M. \"Two Examples of Modern P...\n",
       "4  92937  <em>Memorial Exhibition of the Work of George ...\n",
       "5  92937  The Cleveland Museum of Art. <em>Handbook of t...\n",
       "6  92937  Cortissoz, Royal. \"Paintings and Prints by Geo...\n",
       "7  92937  Isham, Samuel, and Royal Cortissoz. <em>The Hi...\n",
       "8  92937  Mather, Frank Jewett, Charles Rufus Morey, and...\n",
       "9  92937  \"Un Artiste Americain.\" <em>L'illustration.</e..."
      ]
     },
     "execution_count": 6,
     "metadata": {},
     "output_type": "execute_result"
    }
   ],
   "source": [
    "cmacitations.head(10)"
   ]
  },
  {
   "cell_type": "code",
   "execution_count": 7,
   "metadata": {},
   "outputs": [
    {
     "data": {
      "text/plain": [
       "(11642, 2)"
      ]
     },
     "execution_count": 7,
     "metadata": {},
     "output_type": "execute_result"
    }
   ],
   "source": [
    "cmacitations.shape"
   ]
  },
  {
   "cell_type": "code",
   "execution_count": 8,
   "metadata": {},
   "outputs": [
    {
     "data": {
      "text/plain": [
       "935"
      ]
     },
     "execution_count": 8,
     "metadata": {},
     "output_type": "execute_result"
    }
   ],
   "source": [
    "cmacitations.id.nunique()"
   ]
  },
  {
   "cell_type": "code",
   "execution_count": 11,
   "metadata": {},
   "outputs": [
    {
     "data": {
      "text/plain": [
       "Index(['id', 'creator', 'title', 'birth_year', 'death_year', 'collection',\n",
       "       'type', 'creation_date'],\n",
       "      dtype='object')"
      ]
     },
     "execution_count": 11,
     "metadata": {},
     "output_type": "execute_result"
    }
   ],
   "source": [
    "cmacreators.columns"
   ]
  },
  {
   "cell_type": "code",
   "execution_count": 13,
   "metadata": {},
   "outputs": [
    {
     "data": {
      "text/html": [
       "<div>\n",
       "<style scoped>\n",
       "    .dataframe tbody tr th:only-of-type {\n",
       "        vertical-align: middle;\n",
       "    }\n",
       "\n",
       "    .dataframe tbody tr th {\n",
       "        vertical-align: top;\n",
       "    }\n",
       "\n",
       "    .dataframe thead th {\n",
       "        text-align: right;\n",
       "    }\n",
       "</style>\n",
       "<table border=\"1\" class=\"dataframe\">\n",
       "  <thead>\n",
       "    <tr style=\"text-align: right;\">\n",
       "      <th></th>\n",
       "      <th>id</th>\n",
       "      <th>creator</th>\n",
       "      <th>birth_year</th>\n",
       "    </tr>\n",
       "  </thead>\n",
       "  <tbody>\n",
       "    <tr>\n",
       "      <th>0</th>\n",
       "      <td>92937</td>\n",
       "      <td>George Bellows (American, 1882-1925)</td>\n",
       "      <td>1882</td>\n",
       "    </tr>\n",
       "    <tr>\n",
       "      <th>1</th>\n",
       "      <td>94979</td>\n",
       "      <td>John Singleton Copley (American, 1738-1815)</td>\n",
       "      <td>1738</td>\n",
       "    </tr>\n",
       "    <tr>\n",
       "      <th>2</th>\n",
       "      <td>137259</td>\n",
       "      <td>Gustave Courbet (French, 1819-1877)</td>\n",
       "      <td>1819</td>\n",
       "    </tr>\n",
       "    <tr>\n",
       "      <th>3</th>\n",
       "      <td>141639</td>\n",
       "      <td>Frederic Edwin Church (American, 1826-1900)</td>\n",
       "      <td>1826</td>\n",
       "    </tr>\n",
       "    <tr>\n",
       "      <th>4</th>\n",
       "      <td>93014</td>\n",
       "      <td>Thomas Cole (American, 1801-1848)</td>\n",
       "      <td>1801</td>\n",
       "    </tr>\n",
       "    <tr>\n",
       "      <th>5</th>\n",
       "      <td>110180</td>\n",
       "      <td>Albert Pinkham Ryder (American, 1847-1917)</td>\n",
       "      <td>1847</td>\n",
       "    </tr>\n",
       "    <tr>\n",
       "      <th>6</th>\n",
       "      <td>135299</td>\n",
       "      <td>Vincent van Gogh (Dutch, 1853-1890)</td>\n",
       "      <td>1853</td>\n",
       "    </tr>\n",
       "    <tr>\n",
       "      <th>7</th>\n",
       "      <td>125249</td>\n",
       "      <td>Vincent van Gogh (Dutch, 1853-1890)</td>\n",
       "      <td>1853</td>\n",
       "    </tr>\n",
       "    <tr>\n",
       "      <th>8</th>\n",
       "      <td>126769</td>\n",
       "      <td>Henri Rousseau (French, 1844-1910)</td>\n",
       "      <td>1844</td>\n",
       "    </tr>\n",
       "    <tr>\n",
       "      <th>9</th>\n",
       "      <td>135382</td>\n",
       "      <td>Claude Monet (French, 1840-1926)</td>\n",
       "      <td>1840</td>\n",
       "    </tr>\n",
       "  </tbody>\n",
       "</table>\n",
       "</div>"
      ],
      "text/plain": [
       "       id                                      creator birth_year\n",
       "0   92937         George Bellows (American, 1882-1925)       1882\n",
       "1   94979  John Singleton Copley (American, 1738-1815)       1738\n",
       "2  137259          Gustave Courbet (French, 1819-1877)       1819\n",
       "3  141639  Frederic Edwin Church (American, 1826-1900)       1826\n",
       "4   93014            Thomas Cole (American, 1801-1848)       1801\n",
       "5  110180   Albert Pinkham Ryder (American, 1847-1917)       1847\n",
       "6  135299          Vincent van Gogh (Dutch, 1853-1890)       1853\n",
       "7  125249          Vincent van Gogh (Dutch, 1853-1890)       1853\n",
       "8  126769           Henri Rousseau (French, 1844-1910)       1844\n",
       "9  135382             Claude Monet (French, 1840-1926)       1840"
      ]
     },
     "execution_count": 13,
     "metadata": {},
     "output_type": "execute_result"
    }
   ],
   "source": [
    "cmacreators.loc[:,['id','creator','birth_year']].head(10)"
   ]
  },
  {
   "cell_type": "code",
   "execution_count": 17,
   "metadata": {},
   "outputs": [
    {
     "data": {
      "text/plain": [
       "148758    174\n",
       "122351    116\n",
       "92937      98\n",
       "123168     94\n",
       "149112     93\n",
       "94979      93\n",
       "124245     87\n",
       "128842     86\n",
       "102578     84\n",
       "93014      79\n",
       "Name: id, dtype: int64"
      ]
     },
     "execution_count": 17,
     "metadata": {},
     "output_type": "execute_result"
    }
   ],
   "source": [
    "cmacitations.id.value_counts().head(10)\n",
    "##### citations 데이터에서 '병합 기준 값'의  중복을 보임 - 예. 소장품 148758에 대해 174회의 인용이 발생"
   ]
  },
  {
   "cell_type": "code",
   "execution_count": 20,
   "metadata": {},
   "outputs": [
    {
     "data": {
      "text/plain": [
       "149386    4\n",
       "140001    4\n",
       "140427    3\n",
       "146797    3\n",
       "93173     3\n",
       "146795    3\n",
       "142752    3\n",
       "114537    3\n",
       "149041    3\n",
       "114538    3\n",
       "Name: id, dtype: int64"
      ]
     },
     "execution_count": 20,
     "metadata": {},
     "output_type": "execute_result"
    }
   ],
   "source": [
    "cmacreators.id.value_counts().head(10)\n",
    "# -> creators 데이터에서도 '병합 기준 값'이 중복을 보임 - 예. 소장품 149386에 대해 4번의 작가 정보가 발생"
   ]
  },
  {
   "cell_type": "markdown",
   "metadata": {},
   "source": [
    "## 병합 확인"
   ]
  },
  {
   "cell_type": "code",
   "execution_count": 28,
   "metadata": {},
   "outputs": [
    {
     "name": "stdout",
     "output_type": "stream",
     "text": [
      "inright     N     Y\n",
      "inleft             \n",
      "N           0    46\n",
      "Y        2579  9701\n"
     ]
    }
   ],
   "source": [
    "### dfleft  : 왼쪽 데이터프레임 \n",
    "### dfright : 오른쪽 데이터프레임\n",
    "### idvar   : 병합 기준 열\n",
    "def checkmerge(dfleft, dfright, idvar):\n",
    "    dfleft['inleft'] = 'Y'\n",
    "    dfright['inright'] = 'Y'\n",
    "    dfboth = pd.merge(dfleft[[idvar, 'inleft']], dfright[[idvar, 'inright']],\\\n",
    "                      on=[idvar], how='outer')\n",
    "    dfboth.fillna('N', inplace=True)\n",
    "    print(pd.crosstab(dfboth.inleft, dfboth.inright))\n",
    "\n",
    "checkmerge(cmacitations, cmacreators, 'id')"
   ]
  },
  {
   "cell_type": "markdown",
   "metadata": {},
   "source": [
    "## 양쪽 중복 값 보이기"
   ]
  },
  {
   "cell_type": "code",
   "execution_count": 30,
   "metadata": {},
   "outputs": [
    {
     "data": {
      "text/html": [
       "<div>\n",
       "<style scoped>\n",
       "    .dataframe tbody tr th:only-of-type {\n",
       "        vertical-align: middle;\n",
       "    }\n",
       "\n",
       "    .dataframe tbody tr th {\n",
       "        vertical-align: top;\n",
       "    }\n",
       "\n",
       "    .dataframe thead th {\n",
       "        text-align: right;\n",
       "    }\n",
       "</style>\n",
       "<table border=\"1\" class=\"dataframe\">\n",
       "  <thead>\n",
       "    <tr style=\"text-align: right;\">\n",
       "      <th></th>\n",
       "      <th>id</th>\n",
       "      <th>citation</th>\n",
       "      <th>inleft</th>\n",
       "    </tr>\n",
       "  </thead>\n",
       "  <tbody>\n",
       "    <tr>\n",
       "      <th>8963</th>\n",
       "      <td>124733</td>\n",
       "      <td>Weigel, J. A. G. &lt;em&gt;Catalog einer Sammlung vo...</td>\n",
       "      <td>Y</td>\n",
       "    </tr>\n",
       "    <tr>\n",
       "      <th>8964</th>\n",
       "      <td>124733</td>\n",
       "      <td>Winkler, Friedrich. &lt;em&gt;Die Zeichnungen Albrec...</td>\n",
       "      <td>Y</td>\n",
       "    </tr>\n",
       "    <tr>\n",
       "      <th>8965</th>\n",
       "      <td>124733</td>\n",
       "      <td>Francis, Henry S. \"Drawing of a Dead Blue Jay ...</td>\n",
       "      <td>Y</td>\n",
       "    </tr>\n",
       "    <tr>\n",
       "      <th>8966</th>\n",
       "      <td>124733</td>\n",
       "      <td>Kurz, Otto. &lt;em&gt;Fakes: A Handbook for Collecto...</td>\n",
       "      <td>Y</td>\n",
       "    </tr>\n",
       "    <tr>\n",
       "      <th>8967</th>\n",
       "      <td>124733</td>\n",
       "      <td>Minneapolis Institute of Arts. &lt;em&gt;Watercolors...</td>\n",
       "      <td>Y</td>\n",
       "    </tr>\n",
       "    <tr>\n",
       "      <th>8968</th>\n",
       "      <td>124733</td>\n",
       "      <td>Pilz, Kurt. \"Hans Hoffmann: Ein Nürnberger Dür...</td>\n",
       "      <td>Y</td>\n",
       "    </tr>\n",
       "    <tr>\n",
       "      <th>8969</th>\n",
       "      <td>124733</td>\n",
       "      <td>Koschatzky, Walter and Alice Strobl. &lt;em&gt;Düre...</td>\n",
       "      <td>Y</td>\n",
       "    </tr>\n",
       "    <tr>\n",
       "      <th>8970</th>\n",
       "      <td>124733</td>\n",
       "      <td>Johnson, Mark M&lt;em&gt;. Idea to Image: Preparator...</td>\n",
       "      <td>Y</td>\n",
       "    </tr>\n",
       "    <tr>\n",
       "      <th>8971</th>\n",
       "      <td>124733</td>\n",
       "      <td>Kaufmann, Thomas DaCosta. &lt;em&gt;Drawings from th...</td>\n",
       "      <td>Y</td>\n",
       "    </tr>\n",
       "    <tr>\n",
       "      <th>8972</th>\n",
       "      <td>124733</td>\n",
       "      <td>Koreny, Fritz. &lt;em&gt;Albrecht Dürer and the ani...</td>\n",
       "      <td>Y</td>\n",
       "    </tr>\n",
       "    <tr>\n",
       "      <th>8973</th>\n",
       "      <td>124733</td>\n",
       "      <td>Achilles-Syndram, Katrin. &lt;em&gt;Die Kunstsammlun...</td>\n",
       "      <td>Y</td>\n",
       "    </tr>\n",
       "    <tr>\n",
       "      <th>8974</th>\n",
       "      <td>124733</td>\n",
       "      <td>Schoch, Rainer, Katrin Achilles-Syndram, and B...</td>\n",
       "      <td>Y</td>\n",
       "    </tr>\n",
       "    <tr>\n",
       "      <th>8975</th>\n",
       "      <td>124733</td>\n",
       "      <td>DeGrazia, Diane and Carter E. Foster. &lt;em&gt;Mast...</td>\n",
       "      <td>Y</td>\n",
       "    </tr>\n",
       "    <tr>\n",
       "      <th>8976</th>\n",
       "      <td>124733</td>\n",
       "      <td>Dunbar, Burton L., et al. &lt;em&gt;A Corpus of Draw...</td>\n",
       "      <td>Y</td>\n",
       "    </tr>\n",
       "  </tbody>\n",
       "</table>\n",
       "</div>"
      ],
      "text/plain": [
       "          id                                           citation inleft\n",
       "8963  124733  Weigel, J. A. G. <em>Catalog einer Sammlung vo...      Y\n",
       "8964  124733  Winkler, Friedrich. <em>Die Zeichnungen Albrec...      Y\n",
       "8965  124733  Francis, Henry S. \"Drawing of a Dead Blue Jay ...      Y\n",
       "8966  124733  Kurz, Otto. <em>Fakes: A Handbook for Collecto...      Y\n",
       "8967  124733  Minneapolis Institute of Arts. <em>Watercolors...      Y\n",
       "8968  124733  Pilz, Kurt. \"Hans Hoffmann: Ein Nürnberger Dür...      Y\n",
       "8969  124733  Koschatzky, Walter and Alice Strobl. <em>Düre...      Y\n",
       "8970  124733  Johnson, Mark M<em>. Idea to Image: Preparator...      Y\n",
       "8971  124733  Kaufmann, Thomas DaCosta. <em>Drawings from th...      Y\n",
       "8972  124733  Koreny, Fritz. <em>Albrecht Dürer and the ani...      Y\n",
       "8973  124733  Achilles-Syndram, Katrin. <em>Die Kunstsammlun...      Y\n",
       "8974  124733  Schoch, Rainer, Katrin Achilles-Syndram, and B...      Y\n",
       "8975  124733  DeGrazia, Diane and Carter E. Foster. <em>Mast...      Y\n",
       "8976  124733  Dunbar, Burton L., et al. <em>A Corpus of Draw...      Y"
      ]
     },
     "execution_count": 30,
     "metadata": {},
     "output_type": "execute_result"
    }
   ],
   "source": [
    "cmacitations.loc[cmacitations.id==124733,:] ### 특정 소장품에 대한 14회의 인용"
   ]
  },
  {
   "cell_type": "code",
   "execution_count": 31,
   "metadata": {},
   "outputs": [
    {
     "data": {
      "text/html": [
       "<div>\n",
       "<style scoped>\n",
       "    .dataframe tbody tr th:only-of-type {\n",
       "        vertical-align: middle;\n",
       "    }\n",
       "\n",
       "    .dataframe tbody tr th {\n",
       "        vertical-align: top;\n",
       "    }\n",
       "\n",
       "    .dataframe thead th {\n",
       "        text-align: right;\n",
       "    }\n",
       "</style>\n",
       "<table border=\"1\" class=\"dataframe\">\n",
       "  <thead>\n",
       "    <tr style=\"text-align: right;\">\n",
       "      <th></th>\n",
       "      <th>id</th>\n",
       "      <th>creator</th>\n",
       "      <th>birth_year</th>\n",
       "      <th>title</th>\n",
       "    </tr>\n",
       "  </thead>\n",
       "  <tbody>\n",
       "    <tr>\n",
       "      <th>449</th>\n",
       "      <td>124733</td>\n",
       "      <td>Albrecht Dürer (German, 1471-1528)</td>\n",
       "      <td>1471</td>\n",
       "      <td>Dead Blue Roller</td>\n",
       "    </tr>\n",
       "    <tr>\n",
       "      <th>450</th>\n",
       "      <td>124733</td>\n",
       "      <td>Hans Hoffmann (German, 1545/50-1591/92)</td>\n",
       "      <td>1545/50</td>\n",
       "      <td>Dead Blue Roller</td>\n",
       "    </tr>\n",
       "  </tbody>\n",
       "</table>\n",
       "</div>"
      ],
      "text/plain": [
       "         id                                  creator birth_year  \\\n",
       "449  124733       Albrecht Dürer (German, 1471-1528)       1471   \n",
       "450  124733  Hans Hoffmann (German, 1545/50-1591/92)    1545/50   \n",
       "\n",
       "                title  \n",
       "449  Dead Blue Roller  \n",
       "450  Dead Blue Roller  "
      ]
     },
     "execution_count": 31,
     "metadata": {},
     "output_type": "execute_result"
    }
   ],
   "source": [
    "cmacreators.loc[cmacreators.id==124733, ['id','creator','birth_year','title']] ### 특정 소장품에 대한 2명의 작가"
   ]
  },
  {
   "cell_type": "markdown",
   "metadata": {},
   "source": [
    "## 다대다 병합 실행"
   ]
  },
  {
   "cell_type": "code",
   "execution_count": 36,
   "metadata": {
    "scrolled": true
   },
   "outputs": [
    {
     "data": {
      "text/html": [
       "<div>\n",
       "<style scoped>\n",
       "    .dataframe tbody tr th:only-of-type {\n",
       "        vertical-align: middle;\n",
       "    }\n",
       "\n",
       "    .dataframe tbody tr th {\n",
       "        vertical-align: top;\n",
       "    }\n",
       "\n",
       "    .dataframe thead th {\n",
       "        text-align: right;\n",
       "    }\n",
       "</style>\n",
       "<table border=\"1\" class=\"dataframe\">\n",
       "  <thead>\n",
       "    <tr style=\"text-align: right;\">\n",
       "      <th></th>\n",
       "      <th>citation</th>\n",
       "      <th>creator</th>\n",
       "      <th>birth_year</th>\n",
       "    </tr>\n",
       "  </thead>\n",
       "  <tbody>\n",
       "    <tr>\n",
       "      <th>9457</th>\n",
       "      <td>Weigel, J. A. G. &lt;em</td>\n",
       "      <td>Albrecht Dürer (Germ</td>\n",
       "      <td>1471</td>\n",
       "    </tr>\n",
       "    <tr>\n",
       "      <th>9458</th>\n",
       "      <td>Weigel, J. A. G. &lt;em</td>\n",
       "      <td>Hans Hoffmann (Germa</td>\n",
       "      <td>1545/50</td>\n",
       "    </tr>\n",
       "    <tr>\n",
       "      <th>9459</th>\n",
       "      <td>Winkler, Friedrich.</td>\n",
       "      <td>Albrecht Dürer (Germ</td>\n",
       "      <td>1471</td>\n",
       "    </tr>\n",
       "    <tr>\n",
       "      <th>9460</th>\n",
       "      <td>Winkler, Friedrich.</td>\n",
       "      <td>Hans Hoffmann (Germa</td>\n",
       "      <td>1545/50</td>\n",
       "    </tr>\n",
       "    <tr>\n",
       "      <th>9461</th>\n",
       "      <td>Francis, Henry S. \"D</td>\n",
       "      <td>Albrecht Dürer (Germ</td>\n",
       "      <td>1471</td>\n",
       "    </tr>\n",
       "    <tr>\n",
       "      <th>9462</th>\n",
       "      <td>Francis, Henry S. \"D</td>\n",
       "      <td>Hans Hoffmann (Germa</td>\n",
       "      <td>1545/50</td>\n",
       "    </tr>\n",
       "    <tr>\n",
       "      <th>9463</th>\n",
       "      <td>Kurz, Otto. &lt;em&gt;Fake</td>\n",
       "      <td>Albrecht Dürer (Germ</td>\n",
       "      <td>1471</td>\n",
       "    </tr>\n",
       "    <tr>\n",
       "      <th>9464</th>\n",
       "      <td>Kurz, Otto. &lt;em&gt;Fake</td>\n",
       "      <td>Hans Hoffmann (Germa</td>\n",
       "      <td>1545/50</td>\n",
       "    </tr>\n",
       "    <tr>\n",
       "      <th>9465</th>\n",
       "      <td>Minneapolis Institut</td>\n",
       "      <td>Albrecht Dürer (Germ</td>\n",
       "      <td>1471</td>\n",
       "    </tr>\n",
       "    <tr>\n",
       "      <th>9466</th>\n",
       "      <td>Minneapolis Institut</td>\n",
       "      <td>Hans Hoffmann (Germa</td>\n",
       "      <td>1545/50</td>\n",
       "    </tr>\n",
       "    <tr>\n",
       "      <th>9467</th>\n",
       "      <td>Pilz, Kurt. \"Hans Ho</td>\n",
       "      <td>Albrecht Dürer (Germ</td>\n",
       "      <td>1471</td>\n",
       "    </tr>\n",
       "    <tr>\n",
       "      <th>9468</th>\n",
       "      <td>Pilz, Kurt. \"Hans Ho</td>\n",
       "      <td>Hans Hoffmann (Germa</td>\n",
       "      <td>1545/50</td>\n",
       "    </tr>\n",
       "    <tr>\n",
       "      <th>9469</th>\n",
       "      <td>Koschatzky, Walter a</td>\n",
       "      <td>Albrecht Dürer (Germ</td>\n",
       "      <td>1471</td>\n",
       "    </tr>\n",
       "    <tr>\n",
       "      <th>9470</th>\n",
       "      <td>Koschatzky, Walter a</td>\n",
       "      <td>Hans Hoffmann (Germa</td>\n",
       "      <td>1545/50</td>\n",
       "    </tr>\n",
       "    <tr>\n",
       "      <th>9471</th>\n",
       "      <td>Johnson, Mark M&lt;em&gt;.</td>\n",
       "      <td>Albrecht Dürer (Germ</td>\n",
       "      <td>1471</td>\n",
       "    </tr>\n",
       "    <tr>\n",
       "      <th>9472</th>\n",
       "      <td>Johnson, Mark M&lt;em&gt;.</td>\n",
       "      <td>Hans Hoffmann (Germa</td>\n",
       "      <td>1545/50</td>\n",
       "    </tr>\n",
       "    <tr>\n",
       "      <th>9473</th>\n",
       "      <td>Kaufmann, Thomas DaC</td>\n",
       "      <td>Albrecht Dürer (Germ</td>\n",
       "      <td>1471</td>\n",
       "    </tr>\n",
       "    <tr>\n",
       "      <th>9474</th>\n",
       "      <td>Kaufmann, Thomas DaC</td>\n",
       "      <td>Hans Hoffmann (Germa</td>\n",
       "      <td>1545/50</td>\n",
       "    </tr>\n",
       "    <tr>\n",
       "      <th>9475</th>\n",
       "      <td>Koreny, Fritz. &lt;em&gt;A</td>\n",
       "      <td>Albrecht Dürer (Germ</td>\n",
       "      <td>1471</td>\n",
       "    </tr>\n",
       "    <tr>\n",
       "      <th>9476</th>\n",
       "      <td>Koreny, Fritz. &lt;em&gt;A</td>\n",
       "      <td>Hans Hoffmann (Germa</td>\n",
       "      <td>1545/50</td>\n",
       "    </tr>\n",
       "    <tr>\n",
       "      <th>9477</th>\n",
       "      <td>Achilles-Syndram, Ka</td>\n",
       "      <td>Albrecht Dürer (Germ</td>\n",
       "      <td>1471</td>\n",
       "    </tr>\n",
       "    <tr>\n",
       "      <th>9478</th>\n",
       "      <td>Achilles-Syndram, Ka</td>\n",
       "      <td>Hans Hoffmann (Germa</td>\n",
       "      <td>1545/50</td>\n",
       "    </tr>\n",
       "    <tr>\n",
       "      <th>9479</th>\n",
       "      <td>Schoch, Rainer, Katr</td>\n",
       "      <td>Albrecht Dürer (Germ</td>\n",
       "      <td>1471</td>\n",
       "    </tr>\n",
       "    <tr>\n",
       "      <th>9480</th>\n",
       "      <td>Schoch, Rainer, Katr</td>\n",
       "      <td>Hans Hoffmann (Germa</td>\n",
       "      <td>1545/50</td>\n",
       "    </tr>\n",
       "    <tr>\n",
       "      <th>9481</th>\n",
       "      <td>DeGrazia, Diane and</td>\n",
       "      <td>Albrecht Dürer (Germ</td>\n",
       "      <td>1471</td>\n",
       "    </tr>\n",
       "    <tr>\n",
       "      <th>9482</th>\n",
       "      <td>DeGrazia, Diane and</td>\n",
       "      <td>Hans Hoffmann (Germa</td>\n",
       "      <td>1545/50</td>\n",
       "    </tr>\n",
       "    <tr>\n",
       "      <th>9483</th>\n",
       "      <td>Dunbar, Burton L., e</td>\n",
       "      <td>Albrecht Dürer (Germ</td>\n",
       "      <td>1471</td>\n",
       "    </tr>\n",
       "    <tr>\n",
       "      <th>9484</th>\n",
       "      <td>Dunbar, Burton L., e</td>\n",
       "      <td>Hans Hoffmann (Germa</td>\n",
       "      <td>1545/50</td>\n",
       "    </tr>\n",
       "  </tbody>\n",
       "</table>\n",
       "</div>"
      ],
      "text/plain": [
       "                  citation               creator birth_year\n",
       "9457  Weigel, J. A. G. <em  Albrecht Dürer (Germ       1471\n",
       "9458  Weigel, J. A. G. <em  Hans Hoffmann (Germa    1545/50\n",
       "9459  Winkler, Friedrich.   Albrecht Dürer (Germ       1471\n",
       "9460  Winkler, Friedrich.   Hans Hoffmann (Germa    1545/50\n",
       "9461  Francis, Henry S. \"D  Albrecht Dürer (Germ       1471\n",
       "9462  Francis, Henry S. \"D  Hans Hoffmann (Germa    1545/50\n",
       "9463  Kurz, Otto. <em>Fake  Albrecht Dürer (Germ       1471\n",
       "9464  Kurz, Otto. <em>Fake  Hans Hoffmann (Germa    1545/50\n",
       "9465  Minneapolis Institut  Albrecht Dürer (Germ       1471\n",
       "9466  Minneapolis Institut  Hans Hoffmann (Germa    1545/50\n",
       "9467  Pilz, Kurt. \"Hans Ho  Albrecht Dürer (Germ       1471\n",
       "9468  Pilz, Kurt. \"Hans Ho  Hans Hoffmann (Germa    1545/50\n",
       "9469  Koschatzky, Walter a  Albrecht Dürer (Germ       1471\n",
       "9470  Koschatzky, Walter a  Hans Hoffmann (Germa    1545/50\n",
       "9471  Johnson, Mark M<em>.  Albrecht Dürer (Germ       1471\n",
       "9472  Johnson, Mark M<em>.  Hans Hoffmann (Germa    1545/50\n",
       "9473  Kaufmann, Thomas DaC  Albrecht Dürer (Germ       1471\n",
       "9474  Kaufmann, Thomas DaC  Hans Hoffmann (Germa    1545/50\n",
       "9475  Koreny, Fritz. <em>A  Albrecht Dürer (Germ       1471\n",
       "9476  Koreny, Fritz. <em>A  Hans Hoffmann (Germa    1545/50\n",
       "9477  Achilles-Syndram, Ka  Albrecht Dürer (Germ       1471\n",
       "9478  Achilles-Syndram, Ka  Hans Hoffmann (Germa    1545/50\n",
       "9479  Schoch, Rainer, Katr  Albrecht Dürer (Germ       1471\n",
       "9480  Schoch, Rainer, Katr  Hans Hoffmann (Germa    1545/50\n",
       "9481  DeGrazia, Diane and   Albrecht Dürer (Germ       1471\n",
       "9482  DeGrazia, Diane and   Hans Hoffmann (Germa    1545/50\n",
       "9483  Dunbar, Burton L., e  Albrecht Dürer (Germ       1471\n",
       "9484  Dunbar, Burton L., e  Hans Hoffmann (Germa    1545/50"
      ]
     },
     "execution_count": 36,
     "metadata": {},
     "output_type": "execute_result"
    }
   ],
   "source": [
    "cma = pd.merge(cmacitations, cmacreators, on=['id'], how='outer')\n",
    "cma['citation'] = cma.citation.str[0:20]\n",
    "cma['creator'] = cma.creator.str[0:20]\n",
    "cma.loc[cma.id==124733, ['citation','creator','birth_year']].shape ### 특정 소장품에 대한 작가별 인용이 총 28회"
   ]
  },
  {
   "cell_type": "code",
   "execution_count": 37,
   "metadata": {},
   "outputs": [
    {
     "data": {
      "text/plain": [
       "(28, 3)"
      ]
     },
     "execution_count": 37,
     "metadata": {},
     "output_type": "execute_result"
    }
   ],
   "source": [
    "cma.loc[cma.id==124733, ['citation','creator','birth_year']].shape"
   ]
  },
  {
   "cell_type": "code",
   "execution_count": 39,
   "metadata": {},
   "outputs": [
    {
     "data": {
      "text/plain": [
       "475"
      ]
     },
     "execution_count": 39,
     "metadata": {},
     "output_type": "execute_result"
    }
   ],
   "source": [
    "cmacreators.creator.nunique()"
   ]
  },
  {
   "cell_type": "markdown",
   "metadata": {},
   "source": [
    "# 병합 루틴\n",
    "* 데이터 병합 전후의 손상을 피하는 일반적인 방법을 택하면(테크닉), 더 중요한 것(데이터 자체)에 초점을 맞출 수 있다.\n",
    "* 병합 루틴 \n",
    "        (1) 병합 기준 값이 각 데이터에서 고유한지 확인 \n",
    "        (2) 병합 기준 값 불일치를 먼저 확인\n",
    "        (3) 조인 수행\n",
    "        (4) 결과 확인\n",
    "* 병합 루틴 실습 과제 : GHCN 데이터베이스의 countries 데이터를 locations 데이터와 왼쪽 조인"
   ]
  },
  {
   "cell_type": "markdown",
   "metadata": {},
   "source": [
    "## 데이터 로딩 "
   ]
  },
  {
   "cell_type": "code",
   "execution_count": 8,
   "metadata": {},
   "outputs": [],
   "source": [
    "import pandas as pd\n",
    "countries = pd.read_csv('data/ltcountries.csv')\n",
    "locations = pd.read_csv('data/ltlocations.csv')"
   ]
  },
  {
   "cell_type": "markdown",
   "metadata": {},
   "source": [
    "## 병합 기준 값이 각 데이터에서 고유한지 확인"
   ]
  },
  {
   "cell_type": "code",
   "execution_count": 9,
   "metadata": {},
   "outputs": [
    {
     "name": "stdout",
     "output_type": "stream",
     "text": [
      "True\n",
      "False\n"
     ]
    }
   ],
   "source": [
    "print(countries.countryid.nunique()==countries.shape[0])\n",
    "print(locations.countryid.nunique()==locations.shape[0])"
   ]
  },
  {
   "cell_type": "markdown",
   "metadata": {},
   "source": [
    "## 병합 기준 열 일치/불일치 여부 확인 ❕\n",
    "- dfleft = 왼쪽 데이터 \n",
    "- dfright = 오른쪽 데이터 \n",
    "- mergebyleft = 왼쪽 데이터의 병합 기준 열\n",
    "- mergebyright = 오른쪽 데이터의 병합 기준 열"
   ]
  },
  {
   "cell_type": "code",
   "execution_count": 12,
   "metadata": {},
   "outputs": [
    {
     "name": "stdout",
     "output_type": "stream",
     "text": [
      "in_right  N      Y\n",
      "in_left           \n",
      "N         0      1\n",
      "Y         2  27472\n",
      "      countryid in_left in_right\n",
      "9715         LQ       Y        N\n",
      "13103        ST       Y        N\n",
      "27474        FO       N        Y\n"
     ]
    }
   ],
   "source": [
    "def checkmerge(dfleft, dfright, mergebyleft, mergebyright):\n",
    "    dfleft['in_left'] = 'Y'\n",
    "    dfright['in_right'] = 'Y'\n",
    "    dfboth = pd.merge(dfleft[[mergebyleft, 'in_left']],\n",
    "                     dfright[[mergebyright, 'in_right']],\n",
    "                     left_on=[mergebyleft],\n",
    "                     right_on=[mergebyright],\n",
    "                     how='outer')\n",
    "    dfboth.fillna('N', inplace=True)\n",
    "    print(pd.crosstab(dfboth.in_left, dfboth.in_right))\n",
    "    print(dfboth.loc[(dfboth.in_left=='N')|(dfboth.in_right=='N')].head(20))\n",
    "    \n",
    "checkmerge(countries.copy(), locations.copy(), 'countryid', 'countryid')"
   ]
  },
  {
   "cell_type": "markdown",
   "metadata": {},
   "source": [
    "## 조인 수행"
   ]
  },
  {
   "cell_type": "code",
   "execution_count": null,
   "metadata": {},
   "outputs": [],
   "source": [
    "stations = pd.merge(countries, locations,\n",
    "                   left_on=['countryid'],\n",
    "                   right_on=['countryid'],\n",
    "                   how='left')\n",
    "print(stations.shape)\n",
    "stations[['locationid','latitude','stnelev','country']].head(10)"
   ]
  },
  {
   "cell_type": "markdown",
   "metadata": {},
   "source": [
    "## 병합에 관한 Tip\n",
    "    1. checkmerge 함수를 매번 재작성할 필요 없이 \"모듈\"에 넣어두고 import할 수 있다.\n",
    "        (chapter10의 헬퍼 함수 추가 방법 학습예정)\n",
    "    2. left_on, right_on 인자를 사용하여 명시적으로 병합 기준 열 지정해서 사용\n",
    "    3. how 매개변수의 기본값으로 \"왼쪽 조인\" 사용하기\n",
    "        >> 왼쪽 : 분석 단위(학생, 환자, 고객, activity 등..)\n",
    "        >> 오른쪽 : 보충 데이터(성정, 혈압, 우편번호, resource 등..)\n",
    "      cf1. 그 외의 조인을 할 이유가 있는지를 생각해보는 식으로 정해두기~\n",
    "      cf2. 보충 데이터에 나타나지 않는 병합 기준 값 있는데 내부 조인을 하면 분석 단위 행 사라지는 문제"
   ]
  }
 ],
 "metadata": {
  "kernelspec": {
   "display_name": "Python 3",
   "language": "python",
   "name": "python3"
  },
  "language_info": {
   "codemirror_mode": {
    "name": "ipython",
    "version": 3
   },
   "file_extension": ".py",
   "mimetype": "text/x-python",
   "name": "python",
   "nbconvert_exporter": "python",
   "pygments_lexer": "ipython3",
   "version": "3.8.5"
  },
  "toc": {
   "base_numbering": 1,
   "nav_menu": {},
   "number_sections": true,
   "sideBar": true,
   "skip_h1_title": false,
   "title_cell": "Table of Contents",
   "title_sidebar": "Contents",
   "toc_cell": false,
   "toc_position": {
    "height": "calc(100% - 180px)",
    "left": "10px",
    "top": "150px",
    "width": "254.887px"
   },
   "toc_section_display": true,
   "toc_window_display": true
  }
 },
 "nbformat": 4,
 "nbformat_minor": 4
}
