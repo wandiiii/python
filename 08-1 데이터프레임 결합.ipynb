{
 "cells": [
  {
   "cell_type": "markdown",
   "metadata": {},
   "source": [
    "# **8. 데이터프레임 결합하기**\n",
    "1. 분석가로서 데이터 결합을 하는 경우\n",
    "* 기존 데이터에 동일한 구조로 된 행 추가 = 수직결합(combining data vetically) = 이어 붙이기(concatenate)\n",
    "* 다른 데이터 테이블에서 열을 조회하려고 병합 = 수평결합(combining data horizontally) = **병합(merging)**\n",
    "\n",
    "2. **병합(merge)**의 종류\n",
    "* '병합 기준 열 값이 얼마나 중복되는지'에 따라  \n",
    "     1) 일대일(one-to-one) 병합 : 병합 기준 열 값이 각 데이터 테이블에 한 번씩 나타남  \n",
    "     2) 일대다(one-to-many) 병합 : 한 쪽에는 중복되지 않은 병합 기준 열 값 존재, 다른 쪽에는 중복된 병합 기준 열 값 존재  \n",
    "     3) 다대다(many-to-many) 병합 : 양쪽 모두에 병합 기준 열 값이 중복됨 \n",
    "\n",
    "3. 데이터 결합에서 발생하는 이슈\n",
    "- 한 쪽에서 병합 기준 누락되어, 추가되는 쪽 역시 값이 누락되거나 중복되는 문제 등.."
   ]
  },
  {
   "cell_type": "markdown",
   "metadata": {},
   "source": [
    "## 8.1. 데이터프레임 수직 결합하기\n"
   ]
  },
  {
   "cell_type": "code",
   "execution_count": 70,
   "metadata": {},
   "outputs": [],
   "source": [
    "import pandas as pd\n",
    "import numpy as np\n",
    "import os\n",
    "pd.set_option('display.width', 200)\n",
    "pd.set_option('display.max_columns', 35)\n",
    "pd.set_option('display.max_rows', 50)\n",
    "pd.options.display.float_format = '{:,.2f}'.format"
   ]
  },
  {
   "cell_type": "markdown",
   "metadata": {},
   "source": [
    "### (1) 지표온도 데이터 업로드"
   ]
  },
  {
   "cell_type": "code",
   "execution_count": 25,
   "metadata": {},
   "outputs": [],
   "source": [
    "#🟢 1. 지표온도 데이터 업로드\n",
    "ltcameroon = pd.read_csv(\"data/ltcountry/ltcameroon.csv\")\n",
    "ltpoland = pd.read_csv(\"data/ltcountry/ltpoland.csv\")"
   ]
  },
  {
   "cell_type": "markdown",
   "metadata": {},
   "source": [
    "### (2) 데이터 이어붙이기 : 2개 파일"
   ]
  },
  {
   "cell_type": "code",
   "execution_count": 26,
   "metadata": {},
   "outputs": [
    {
     "data": {
      "text/plain": [
       "(48, 11)"
      ]
     },
     "execution_count": 26,
     "metadata": {},
     "output_type": "execute_result"
    }
   ],
   "source": [
    "ltcameroon.shape"
   ]
  },
  {
   "cell_type": "code",
   "execution_count": 27,
   "metadata": {},
   "outputs": [
    {
     "data": {
      "text/plain": [
       "(120, 11)"
      ]
     },
     "execution_count": 27,
     "metadata": {},
     "output_type": "execute_result"
    }
   ],
   "source": [
    "ltpoland.shape"
   ]
  },
  {
   "cell_type": "code",
   "execution_count": 28,
   "metadata": {},
   "outputs": [
    {
     "data": {
      "text/plain": [
       "Poland      120\n",
       "Cameroon     48\n",
       "Name: country, dtype: int64"
      ]
     },
     "execution_count": 28,
     "metadata": {},
     "output_type": "execute_result"
    }
   ],
   "source": [
    "#🟢 2. 데이터 이어붙이기(concatenate) : Cameroon - Poland data\n",
    "ltall = pd.concat([ltcameroon, ltpoland])\n",
    "ltall.country.value_counts()"
   ]
  },
  {
   "cell_type": "markdown",
   "metadata": {},
   "source": [
    "### (3) 데이터 이어붙이기 : 모든 파일"
   ]
  },
  {
   "cell_type": "code",
   "execution_count": 76,
   "metadata": {},
   "outputs": [
    {
     "data": {
      "text/html": [
       "<div>\n",
       "<style scoped>\n",
       "    .dataframe tbody tr th:only-of-type {\n",
       "        vertical-align: middle;\n",
       "    }\n",
       "\n",
       "    .dataframe tbody tr th {\n",
       "        vertical-align: top;\n",
       "    }\n",
       "\n",
       "    .dataframe thead th {\n",
       "        text-align: right;\n",
       "    }\n",
       "</style>\n",
       "<table border=\"1\" class=\"dataframe\">\n",
       "  <thead>\n",
       "    <tr style=\"text-align: right;\">\n",
       "      <th></th>\n",
       "      <th>locationid</th>\n",
       "      <th>year</th>\n",
       "      <th>month</th>\n",
       "      <th>temperature</th>\n",
       "      <th>latitude</th>\n",
       "      <th>longitude</th>\n",
       "      <th>elevation</th>\n",
       "      <th>station</th>\n",
       "      <th>countryid</th>\n",
       "      <th>country</th>\n",
       "    </tr>\n",
       "  </thead>\n",
       "  <tbody>\n",
       "    <tr>\n",
       "      <th>264</th>\n",
       "      <td>MU000041254</td>\n",
       "      <td>2019</td>\n",
       "      <td>12</td>\n",
       "      <td>NaN</td>\n",
       "      <td>23.07</td>\n",
       "      <td>57.63</td>\n",
       "      <td>1,755.00</td>\n",
       "      <td>SAIQ</td>\n",
       "      <td>MU</td>\n",
       "      <td>Oman</td>\n",
       "    </tr>\n",
       "    <tr>\n",
       "      <th>246</th>\n",
       "      <td>MUM00041252</td>\n",
       "      <td>2019</td>\n",
       "      <td>11</td>\n",
       "      <td>24.50</td>\n",
       "      <td>23.23</td>\n",
       "      <td>56.43</td>\n",
       "      <td>327.00</td>\n",
       "      <td>IBRI</td>\n",
       "      <td>MU</td>\n",
       "      <td>Oman</td>\n",
       "    </tr>\n",
       "    <tr>\n",
       "      <th>185</th>\n",
       "      <td>MUM00041268</td>\n",
       "      <td>2019</td>\n",
       "      <td>8</td>\n",
       "      <td>34.40</td>\n",
       "      <td>22.53</td>\n",
       "      <td>59.48</td>\n",
       "      <td>14.00</td>\n",
       "      <td>SUR</td>\n",
       "      <td>MU</td>\n",
       "      <td>Oman</td>\n",
       "    </tr>\n",
       "  </tbody>\n",
       "</table>\n",
       "</div>"
      ],
      "text/plain": [
       "      locationid  year  month  temperature  latitude  longitude  elevation station countryid country\n",
       "264  MU000041254  2019     12          NaN     23.07      57.63   1,755.00    SAIQ        MU    Oman\n",
       "246  MUM00041252  2019     11        24.50     23.23      56.43     327.00    IBRI        MU    Oman\n",
       "185  MUM00041268  2019      8        34.40     22.53      59.48      14.00     SUR        MU    Oman"
      ]
     },
     "execution_count": 76,
     "metadata": {},
     "output_type": "execute_result"
    }
   ],
   "source": [
    "# ltoman 데이터프레임에는 latabs(관측소의 위도 절댓값 : latitude absolute value)컬럼 없음\n",
    "ltoman = pd.read_csv('data/ltcountry/ltoman.csv')\n",
    "ltoman.sample(3, random_state=1)"
   ]
  },
  {
   "cell_type": "code",
   "execution_count": 75,
   "metadata": {},
   "outputs": [
    {
     "data": {
      "image/png": "[encoded data removed]",
      "text/plain": [
       "<Figure size 1400x400 with 1 Axes>"
      ]
     },
     "metadata": {},
     "output_type": "display_data"
    }
   ],
   "source": [
    "ltlist = list(ltoman.latitude)\n",
    "\n",
    "import matplotlib.pyplot as plt\n",
    "plt.style.use(['default'])\n",
    "plt.rcParams[\"figure.figsize\"] = (14,4)\n",
    "\n",
    "plt.hist(ltlist, bins=30)\n",
    "plt.axis([15, 28, 0, 50])\n",
    "plt.show()"
   ]
  },
  {
   "cell_type": "code",
   "execution_count": 77,
   "metadata": {},
   "outputs": [
    {
     "data": {
      "text/html": [
       "<div>\n",
       "<style scoped>\n",
       "    .dataframe tbody tr th:only-of-type {\n",
       "        vertical-align: middle;\n",
       "    }\n",
       "\n",
       "    .dataframe tbody tr th {\n",
       "        vertical-align: top;\n",
       "    }\n",
       "\n",
       "    .dataframe thead th {\n",
       "        text-align: right;\n",
       "    }\n",
       "</style>\n",
       "<table border=\"1\" class=\"dataframe\">\n",
       "  <thead>\n",
       "    <tr style=\"text-align: right;\">\n",
       "      <th></th>\n",
       "      <th>locationid</th>\n",
       "      <th>year</th>\n",
       "      <th>month</th>\n",
       "      <th>temperature</th>\n",
       "      <th>latitude</th>\n",
       "      <th>longitude</th>\n",
       "      <th>elevation</th>\n",
       "      <th>station</th>\n",
       "      <th>countryid</th>\n",
       "      <th>country</th>\n",
       "      <th>latabs</th>\n",
       "    </tr>\n",
       "  </thead>\n",
       "  <tbody>\n",
       "    <tr>\n",
       "      <th>717</th>\n",
       "      <td>BRM00083235</td>\n",
       "      <td>2019</td>\n",
       "      <td>8</td>\n",
       "      <td>27.75</td>\n",
       "      <td>-12.40</td>\n",
       "      <td>-46.43</td>\n",
       "      <td>604.00</td>\n",
       "      <td>TAGUATINGA</td>\n",
       "      <td>BR</td>\n",
       "      <td>Brazil</td>\n",
       "      <td>12.40</td>\n",
       "    </tr>\n",
       "    <tr>\n",
       "      <th>649</th>\n",
       "      <td>JA000047618</td>\n",
       "      <td>2019</td>\n",
       "      <td>5</td>\n",
       "      <td>17.25</td>\n",
       "      <td>36.25</td>\n",
       "      <td>137.97</td>\n",
       "      <td>611.00</td>\n",
       "      <td>MATSUMOTO</td>\n",
       "      <td>JA</td>\n",
       "      <td>Japan</td>\n",
       "      <td>36.25</td>\n",
       "    </tr>\n",
       "    <tr>\n",
       "      <th>172</th>\n",
       "      <td>MUM00041244</td>\n",
       "      <td>2019</td>\n",
       "      <td>8</td>\n",
       "      <td>37.40</td>\n",
       "      <td>24.23</td>\n",
       "      <td>55.78</td>\n",
       "      <td>299.00</td>\n",
       "      <td>BURAIMI_AUT</td>\n",
       "      <td>MU</td>\n",
       "      <td>Oman</td>\n",
       "      <td>NaN</td>\n",
       "    </tr>\n",
       "  </tbody>\n",
       "</table>\n",
       "</div>"
      ],
      "text/plain": [
       "      locationid  year  month  temperature  latitude  longitude  elevation      station countryid country  latabs\n",
       "717  BRM00083235  2019      8        27.75    -12.40     -46.43     604.00   TAGUATINGA        BR  Brazil   12.40\n",
       "649  JA000047618  2019      5        17.25     36.25     137.97     611.00    MATSUMOTO        JA   Japan   36.25\n",
       "172  MUM00041244  2019      8        37.40     24.23      55.78     299.00  BURAIMI_AUT        MU    Oman     NaN"
      ]
     },
     "execution_count": 77,
     "metadata": {},
     "output_type": "execute_result"
    }
   ],
   "source": [
    "# 그 외 데이터프레임에는 latabs 컬럼이 존재함을 확인\n",
    "ltall.sample(3, random_state=1)"
   ]
  },
  {
   "cell_type": "code",
   "execution_count": 29,
   "metadata": {},
   "outputs": [
    {
     "name": "stdout",
     "output_type": "stream",
     "text": [
      "ltbrazil.csv has 1104 rows.\n",
      "ltcameroon.csv has 48 rows.\n",
      "ltindia.csv has 1056 rows.\n",
      "ltjapan.csv has 1800 rows.\n",
      "ltmexico.csv has 852 rows.\n",
      "ltoman.csv has 288 rows.\n",
      "\n",
      "Different column names for:\n",
      "ltoman.csv\n",
      "Index(['latabs'], dtype='object')\n",
      "\n",
      "ltpoland.csv has 120 rows.\n"
     ]
    }
   ],
   "source": [
    "#🟢 3. 데이터 이어붙이기 (concatenate) : 모든 국가별 파일의 데이터 \n",
    "directory = \"data/ltcountry\"\n",
    "ltall = pd.DataFrame()\n",
    "\n",
    "for filename in os.listdir(directory):\n",
    "    # 디렉토리 내의 파일을 하나씩 루핑하는데\n",
    "    if filename.endswith(\".csv\"): \n",
    "        # 그 중 csv 확장자인 파일인 것만\n",
    "        fileloc = os.path.join(directory, filename)\n",
    "        # 경로를 생성한 뒤에\n",
    "        \n",
    "        # 파일을 연다\n",
    "        with open(fileloc) as f:\n",
    "            ltnew = pd.read_csv(fileloc)\n",
    "            print(filename + \" has \" + str(ltnew.shape[0]) + \" rows.\")\n",
    "            ltall = pd.concat([ltall, ltnew])\n",
    "            \n",
    "        # 칼럼에 차이가 있는지 확인한다\n",
    "        columndiff = ltall.columns.symmetric_difference(ltnew.columns)\n",
    "        if (not columndiff.empty):\n",
    "            print(\"\", \"Different column names for:\", filename, columndiff, \"\", sep=\"\\n\")"
   ]
  },
  {
   "attachments": {
    "image-2.png": {
     "image/png": "[encoded data removed]"
    },
    "image-4.png": {
     "image/png": "[encoded data removed]"
    },
    "image.png": {
     "image/png": "[encoded data removed]"
    }
   },
   "cell_type": "markdown",
   "metadata": {},
   "source": [
    "* 3번 코드 부연설명\n",
    "    - 특정 폴더에 있는 모든 csv 파일 찾고 > 찾아낸 파일을 각각 메모리에 로딩 > 각 파일의 행을 데이터프레임에 추가\n",
    "    - 폴더 내 파일 전체에 대해 '파일명'으로 루핑(looping)\n",
    "    - 파일 확장자 csv여부를 `endwith`으로 확인\n",
    "    - 특정 경로에 존재하는 파일과 디렉터리 목록을 구하는 함수 사용 `listdir`\n",
    "        - 특히 `listdir` 함수의 인자로 경로를 전달하면, 해당 경로 내 존재하는 파일과 디렉터리 목록을 list 형태로 구할 수 있음\n",
    "        > ![image-2.png](attachment:image-2.png)\n",
    "        - 특정 경로내 특정 확장자 파일만 검색하는 예시\n",
    "        > ![image.png](attachment:image.png)\n",
    "    - `os` 즉, Operating System 모듈은 운영체제에서 제공되는 다양한 기능을 파이썬에서 수행 가능하게 하는 모듈임 \n",
    "        - `os.path.join` 함수로 경로명을 조작/처리함 : 인수에 전달한 2개의 문자열 결합하여 > 1개의 경로로 사용  \n",
    "        > (1) 경로와 파일명을 결합하거나 (2) 분할된 경로를 하나로 정리하는데 사용 \n",
    "    - `open` 사용하여 파일 읽기/닫기\n",
    "        > with문을 사용하면, with 블록 벗어나는 순간 열린 파일 객체 f가 자동으로 close되어서 편리, 파일 닫는 코드 작성을 잊는 문제를 방지함 `with open(파일명, 파일열기모드, ...) as 파일객체:`\n",
    "    - `symmetric difference` 대칭차집합을 활용하여, 컬럼명 간에 차이가 있는지 확인함 \n",
    "        > ![image-4.png](attachment:image-4.png)"
   ]
  },
  {
   "cell_type": "code",
   "execution_count": 30,
   "metadata": {},
   "outputs": [
    {
     "name": "stdout",
     "output_type": "stream",
     "text": [
      "test check\n",
      "test check\n"
     ]
    }
   ],
   "source": [
    "# 예시. open으로 파일 여닫기\n",
    "directory = os.getcwd() # 파일 경로\n",
    "fileloc = os.path.join(directory, 'test.txt') # 파일 경로 + 파일명 결합 > 하나의 경로(path)로 만들기\n",
    "f = open(fileloc, 'r', encoding='utf-8') # 파일 열기 (한글이 있을 땐 'utf-8'로 인코딩)\n",
    "df = f.read() # 파일 읽기\n",
    "print(df)\n",
    "f.close() # 파일 닫기\n",
    "\n",
    "# 3-2. open + with으로 파일여닫기 : close 안해줘도 됨 !\n",
    "with open(fileloc, 'r', encoding='utf-8') as f:\n",
    "    df = f.read()\n",
    "    print(df)"
   ]
  },
  {
   "cell_type": "markdown",
   "metadata": {},
   "source": [
    "* **기타 메모**\n",
    "    - 애스터리스크(*) 활용하기 : 리스트나 튜플 전개에도 사용됨\n",
    "    - `os.getcwd`  현재 작업 경로 확인"
   ]
  },
  {
   "cell_type": "code",
   "execution_count": 31,
   "metadata": {},
   "outputs": [
    {
     "data": {
      "text/plain": [
       "[5, 5]"
      ]
     },
     "execution_count": 31,
     "metadata": {},
     "output_type": "execute_result"
    }
   ],
   "source": [
    "# 1-1. 애스터리스크(*) 예시 1\n",
    "[5] * 2"
   ]
  },
  {
   "cell_type": "code",
   "execution_count": 32,
   "metadata": {},
   "outputs": [
    {
     "data": {
      "text/plain": [
       "'C:\\\\Users\\\\user'"
      ]
     },
     "execution_count": 32,
     "metadata": {},
     "output_type": "execute_result"
    }
   ],
   "source": [
    "# 1-2. 애스터리스크(*) 예시 2\n",
    "list_path = ['C:\\\\', 'Users', 'user'] \n",
    "# 세 번째 인자 앞에서부터 백슬래시가 자동으로 붙음 (첫번재-두번째 사이는 직접 입력해주어야 함)\n",
    "folder_path = os.path.join(*list_path)\n",
    "folder_path"
   ]
  },
  {
   "cell_type": "code",
   "execution_count": 33,
   "metadata": {},
   "outputs": [
    {
     "name": "stdout",
     "output_type": "stream",
     "text": [
      "C:\\Users\\hwkim\\Downloads\\python-main\\python-main\n"
     ]
    }
   ],
   "source": [
    "# 2. 현재 작업경로 확인하기\n",
    "print(os.getcwd())"
   ]
  },
  {
   "cell_type": "markdown",
   "metadata": {},
   "source": [
    "### (4) 결합 데이터 일부 표시"
   ]
  },
  {
   "cell_type": "code",
   "execution_count": 34,
   "metadata": {},
   "outputs": [
    {
     "data": {
      "text/html": [
       "<div>\n",
       "<style scoped>\n",
       "    .dataframe tbody tr th:only-of-type {\n",
       "        vertical-align: middle;\n",
       "    }\n",
       "\n",
       "    .dataframe tbody tr th {\n",
       "        vertical-align: top;\n",
       "    }\n",
       "\n",
       "    .dataframe thead th {\n",
       "        text-align: right;\n",
       "    }\n",
       "</style>\n",
       "<table border=\"1\" class=\"dataframe\">\n",
       "  <thead>\n",
       "    <tr style=\"text-align: right;\">\n",
       "      <th></th>\n",
       "      <th>country</th>\n",
       "      <th>station</th>\n",
       "      <th>month</th>\n",
       "      <th>temperature</th>\n",
       "      <th>latitude</th>\n",
       "    </tr>\n",
       "  </thead>\n",
       "  <tbody>\n",
       "    <tr>\n",
       "      <th>717</th>\n",
       "      <td>Brazil</td>\n",
       "      <td>TAGUATINGA</td>\n",
       "      <td>8</td>\n",
       "      <td>28</td>\n",
       "      <td>-12</td>\n",
       "    </tr>\n",
       "    <tr>\n",
       "      <th>649</th>\n",
       "      <td>Japan</td>\n",
       "      <td>MATSUMOTO</td>\n",
       "      <td>5</td>\n",
       "      <td>17</td>\n",
       "      <td>36</td>\n",
       "    </tr>\n",
       "    <tr>\n",
       "      <th>172</th>\n",
       "      <td>Oman</td>\n",
       "      <td>BURAIMI_AUT</td>\n",
       "      <td>8</td>\n",
       "      <td>37</td>\n",
       "      <td>24</td>\n",
       "    </tr>\n",
       "    <tr>\n",
       "      <th>1029</th>\n",
       "      <td>India</td>\n",
       "      <td>JAIPUR_SANGANER</td>\n",
       "      <td>12</td>\n",
       "      <td>15</td>\n",
       "      <td>27</td>\n",
       "    </tr>\n",
       "    <tr>\n",
       "      <th>351</th>\n",
       "      <td>Mexico</td>\n",
       "      <td>SN_CRISTOBAL_LAS_CASASCHIS</td>\n",
       "      <td>5</td>\n",
       "      <td>19</td>\n",
       "      <td>17</td>\n",
       "    </tr>\n",
       "  </tbody>\n",
       "</table>\n",
       "</div>"
      ],
      "text/plain": [
       "     country                     station  month  temperature  latitude\n",
       "717   Brazil                  TAGUATINGA      8           28       -12\n",
       "649    Japan                   MATSUMOTO      5           17        36\n",
       "172     Oman                 BURAIMI_AUT      8           37        24\n",
       "1029   India             JAIPUR_SANGANER     12           15        27\n",
       "351   Mexico  SN_CRISTOBAL_LAS_CASASCHIS      5           19        17"
      ]
     },
     "execution_count": 34,
     "metadata": {},
     "output_type": "execute_result"
    }
   ],
   "source": [
    "#🟢 4. 결합된 데이터 일부 표시\n",
    "ltall[['country','station','month','temperature','latitude']].sample(5, random_state=1)"
   ]
  },
  {
   "cell_type": "markdown",
   "metadata": {},
   "source": [
    "### (5) 이어붙인 데이터 값 검사"
   ]
  },
  {
   "cell_type": "markdown",
   "metadata": {},
   "source": [
    "**참고**  \n",
    "- `empty` 함수 : 메모리 할당만 받고, 초기화없이 반환함.   \n",
    "    cf) `zeros` 함수는 메모리를 할당받아, 0으로 초기화한 후에 반환해주는 메소드임"
   ]
  },
  {
   "cell_type": "code",
   "execution_count": 35,
   "metadata": {},
   "outputs": [
    {
     "data": {
      "text/plain": [
       "array([0, 0, 0, 0, 0, 0, 0, 0, 0, 0], dtype=int8)"
      ]
     },
     "execution_count": 35,
     "metadata": {},
     "output_type": "execute_result"
    }
   ],
   "source": [
    "np.empty(shape=(10,), dtype=np.int8)"
   ]
  },
  {
   "cell_type": "code",
   "execution_count": 36,
   "metadata": {},
   "outputs": [
    {
     "data": {
      "text/plain": [
       "Brazil      1104\n",
       "Cameroon      48\n",
       "India       1056\n",
       "Japan       1800\n",
       "Mexico       852\n",
       "Oman         288\n",
       "Poland       120\n",
       "Name: country, dtype: int64"
      ]
     },
     "execution_count": 36,
     "metadata": {},
     "output_type": "execute_result"
    }
   ],
   "source": [
    "#🟢 5. 이어붙인 데이터 값 검사\n",
    "ltall.country.value_counts().sort_index()"
   ]
  },
  {
   "cell_type": "code",
   "execution_count": 37,
   "metadata": {},
   "outputs": [
    {
     "data": {
      "text/html": [
       "<div>\n",
       "<style scoped>\n",
       "    .dataframe tbody tr th:only-of-type {\n",
       "        vertical-align: middle;\n",
       "    }\n",
       "\n",
       "    .dataframe tbody tr th {\n",
       "        vertical-align: top;\n",
       "    }\n",
       "\n",
       "    .dataframe thead tr th {\n",
       "        text-align: left;\n",
       "    }\n",
       "\n",
       "    .dataframe thead tr:last-of-type th {\n",
       "        text-align: right;\n",
       "    }\n",
       "</style>\n",
       "<table border=\"1\" class=\"dataframe\">\n",
       "  <thead>\n",
       "    <tr>\n",
       "      <th></th>\n",
       "      <th colspan=\"4\" halign=\"left\">temperature</th>\n",
       "      <th colspan=\"4\" halign=\"left\">latabs</th>\n",
       "    </tr>\n",
       "    <tr>\n",
       "      <th></th>\n",
       "      <th>min</th>\n",
       "      <th>mean</th>\n",
       "      <th>max</th>\n",
       "      <th>count</th>\n",
       "      <th>min</th>\n",
       "      <th>mean</th>\n",
       "      <th>max</th>\n",
       "      <th>count</th>\n",
       "    </tr>\n",
       "    <tr>\n",
       "      <th>country</th>\n",
       "      <th></th>\n",
       "      <th></th>\n",
       "      <th></th>\n",
       "      <th></th>\n",
       "      <th></th>\n",
       "      <th></th>\n",
       "      <th></th>\n",
       "      <th></th>\n",
       "    </tr>\n",
       "  </thead>\n",
       "  <tbody>\n",
       "    <tr>\n",
       "      <th>Brazil</th>\n",
       "      <td>12</td>\n",
       "      <td>25</td>\n",
       "      <td>34</td>\n",
       "      <td>969</td>\n",
       "      <td>0</td>\n",
       "      <td>14</td>\n",
       "      <td>34</td>\n",
       "      <td>1104</td>\n",
       "    </tr>\n",
       "    <tr>\n",
       "      <th>Cameroon</th>\n",
       "      <td>22</td>\n",
       "      <td>27</td>\n",
       "      <td>36</td>\n",
       "      <td>34</td>\n",
       "      <td>4</td>\n",
       "      <td>8</td>\n",
       "      <td>10</td>\n",
       "      <td>48</td>\n",
       "    </tr>\n",
       "    <tr>\n",
       "      <th>India</th>\n",
       "      <td>2</td>\n",
       "      <td>26</td>\n",
       "      <td>37</td>\n",
       "      <td>1044</td>\n",
       "      <td>8</td>\n",
       "      <td>21</td>\n",
       "      <td>34</td>\n",
       "      <td>1056</td>\n",
       "    </tr>\n",
       "    <tr>\n",
       "      <th>Japan</th>\n",
       "      <td>-7</td>\n",
       "      <td>15</td>\n",
       "      <td>30</td>\n",
       "      <td>1797</td>\n",
       "      <td>24</td>\n",
       "      <td>36</td>\n",
       "      <td>45</td>\n",
       "      <td>1800</td>\n",
       "    </tr>\n",
       "    <tr>\n",
       "      <th>Mexico</th>\n",
       "      <td>7</td>\n",
       "      <td>23</td>\n",
       "      <td>34</td>\n",
       "      <td>806</td>\n",
       "      <td>15</td>\n",
       "      <td>22</td>\n",
       "      <td>32</td>\n",
       "      <td>852</td>\n",
       "    </tr>\n",
       "    <tr>\n",
       "      <th>Oman</th>\n",
       "      <td>12</td>\n",
       "      <td>28</td>\n",
       "      <td>38</td>\n",
       "      <td>205</td>\n",
       "      <td>NaN</td>\n",
       "      <td>NaN</td>\n",
       "      <td>NaN</td>\n",
       "      <td>0</td>\n",
       "    </tr>\n",
       "    <tr>\n",
       "      <th>Poland</th>\n",
       "      <td>-4</td>\n",
       "      <td>10</td>\n",
       "      <td>23</td>\n",
       "      <td>120</td>\n",
       "      <td>50</td>\n",
       "      <td>52</td>\n",
       "      <td>55</td>\n",
       "      <td>120</td>\n",
       "    </tr>\n",
       "  </tbody>\n",
       "</table>\n",
       "</div>"
      ],
      "text/plain": [
       "         temperature                latabs               \n",
       "                 min mean max count    min mean max count\n",
       "country                                                  \n",
       "Brazil            12   25  34   969      0   14  34  1104\n",
       "Cameroon          22   27  36    34      4    8  10    48\n",
       "India              2   26  37  1044      8   21  34  1056\n",
       "Japan             -7   15  30  1797     24   36  45  1800\n",
       "Mexico             7   23  34   806     15   22  32   852\n",
       "Oman              12   28  38   205    NaN  NaN NaN     0\n",
       "Poland            -4   10  23   120     50   52  55   120"
      ]
     },
     "execution_count": 37,
     "metadata": {},
     "output_type": "execute_result"
    }
   ],
   "source": [
    "ltall.groupby(['country']).agg({'temperature':['min','mean','max','count'],\\\n",
    "                                'latabs':['min','mean','max','count']})"
   ]
  },
  {
   "cell_type": "markdown",
   "metadata": {},
   "source": [
    "### (6) 누락값 수정"
   ]
  },
  {
   "cell_type": "code",
   "execution_count": 10,
   "metadata": {},
   "outputs": [
    {
     "data": {
      "text/html": [
       "<div>\n",
       "<style scoped>\n",
       "    .dataframe tbody tr th:only-of-type {\n",
       "        vertical-align: middle;\n",
       "    }\n",
       "\n",
       "    .dataframe tbody tr th {\n",
       "        vertical-align: top;\n",
       "    }\n",
       "\n",
       "    .dataframe thead tr th {\n",
       "        text-align: left;\n",
       "    }\n",
       "\n",
       "    .dataframe thead tr:last-of-type th {\n",
       "        text-align: right;\n",
       "    }\n",
       "</style>\n",
       "<table border=\"1\" class=\"dataframe\">\n",
       "  <thead>\n",
       "    <tr>\n",
       "      <th></th>\n",
       "      <th colspan=\"4\" halign=\"left\">temperature</th>\n",
       "      <th colspan=\"4\" halign=\"left\">latabs</th>\n",
       "    </tr>\n",
       "    <tr>\n",
       "      <th></th>\n",
       "      <th>min</th>\n",
       "      <th>mean</th>\n",
       "      <th>max</th>\n",
       "      <th>count</th>\n",
       "      <th>min</th>\n",
       "      <th>mean</th>\n",
       "      <th>max</th>\n",
       "      <th>count</th>\n",
       "    </tr>\n",
       "    <tr>\n",
       "      <th>country</th>\n",
       "      <th></th>\n",
       "      <th></th>\n",
       "      <th></th>\n",
       "      <th></th>\n",
       "      <th></th>\n",
       "      <th></th>\n",
       "      <th></th>\n",
       "      <th></th>\n",
       "    </tr>\n",
       "  </thead>\n",
       "  <tbody>\n",
       "    <tr>\n",
       "      <th>Brazil</th>\n",
       "      <td>12</td>\n",
       "      <td>25</td>\n",
       "      <td>34</td>\n",
       "      <td>969</td>\n",
       "      <td>0</td>\n",
       "      <td>14</td>\n",
       "      <td>34</td>\n",
       "      <td>1104</td>\n",
       "    </tr>\n",
       "    <tr>\n",
       "      <th>Cameroon</th>\n",
       "      <td>22</td>\n",
       "      <td>27</td>\n",
       "      <td>36</td>\n",
       "      <td>34</td>\n",
       "      <td>4</td>\n",
       "      <td>8</td>\n",
       "      <td>10</td>\n",
       "      <td>48</td>\n",
       "    </tr>\n",
       "    <tr>\n",
       "      <th>India</th>\n",
       "      <td>2</td>\n",
       "      <td>26</td>\n",
       "      <td>37</td>\n",
       "      <td>1044</td>\n",
       "      <td>8</td>\n",
       "      <td>21</td>\n",
       "      <td>34</td>\n",
       "      <td>1056</td>\n",
       "    </tr>\n",
       "    <tr>\n",
       "      <th>Japan</th>\n",
       "      <td>-7</td>\n",
       "      <td>15</td>\n",
       "      <td>30</td>\n",
       "      <td>1797</td>\n",
       "      <td>24</td>\n",
       "      <td>36</td>\n",
       "      <td>45</td>\n",
       "      <td>1800</td>\n",
       "    </tr>\n",
       "    <tr>\n",
       "      <th>Mexico</th>\n",
       "      <td>7</td>\n",
       "      <td>23</td>\n",
       "      <td>34</td>\n",
       "      <td>806</td>\n",
       "      <td>15</td>\n",
       "      <td>22</td>\n",
       "      <td>32</td>\n",
       "      <td>852</td>\n",
       "    </tr>\n",
       "    <tr>\n",
       "      <th>Oman</th>\n",
       "      <td>12</td>\n",
       "      <td>28</td>\n",
       "      <td>38</td>\n",
       "      <td>205</td>\n",
       "      <td>17</td>\n",
       "      <td>22</td>\n",
       "      <td>26</td>\n",
       "      <td>288</td>\n",
       "    </tr>\n",
       "    <tr>\n",
       "      <th>Poland</th>\n",
       "      <td>-4</td>\n",
       "      <td>10</td>\n",
       "      <td>23</td>\n",
       "      <td>120</td>\n",
       "      <td>50</td>\n",
       "      <td>52</td>\n",
       "      <td>55</td>\n",
       "      <td>120</td>\n",
       "    </tr>\n",
       "  </tbody>\n",
       "</table>\n",
       "</div>"
      ],
      "text/plain": [
       "         temperature                latabs               \n",
       "                 min mean max count    min mean max count\n",
       "country                                                  \n",
       "Brazil            12   25  34   969      0   14  34  1104\n",
       "Cameroon          22   27  36    34      4    8  10    48\n",
       "India              2   26  37  1044      8   21  34  1056\n",
       "Japan             -7   15  30  1797     24   36  45  1800\n",
       "Mexico             7   23  34   806     15   22  32   852\n",
       "Oman              12   28  38   205     17   22  26   288\n",
       "Poland            -4   10  23   120     50   52  55   120"
      ]
     },
     "execution_count": 10,
     "metadata": {},
     "output_type": "execute_result"
    }
   ],
   "source": [
    "#🟢 6. 누락값 수정\n",
    "ltall['latabs'] = np.where(ltall.country==\"Oman\", ltall.latitude, ltall.latabs)\n",
    "# np.where 복습 ) np.where(a>10, a, 10) => a가 10보다 크면 그대로 사용하고, 그렇지 않으면 10으로 바꾸겠다\n",
    "\n",
    "# 누락값 수정 이후 값 변화를 확인할 수 있다 - Oman의 latabs \n",
    "ltall.groupby(['country']).agg({'temperature':['min','mean','max','count'],\\\n",
    "                                'latabs':['min','mean','max','count']})"
   ]
  },
  {
   "cell_type": "code",
   "execution_count": 83,
   "metadata": {},
   "outputs": [
    {
     "data": {
      "text/plain": [
       "0     23.07\n",
       "1     20.67\n",
       "2     26.17\n",
       "3     25.62\n",
       "4     24.23\n",
       "       ... \n",
       "283   18.13\n",
       "284   16.93\n",
       "285   17.67\n",
       "286   17.25\n",
       "287   17.04\n",
       "Name: latitude, Length: 288, dtype: float64"
      ]
     },
     "execution_count": 83,
     "metadata": {},
     "output_type": "execute_result"
    }
   ],
   "source": [
    "ltall.loc[ltall.country==\"Oman\",'latitude']"
   ]
  }
 ],
 "metadata": {
  "kernelspec": {
   "display_name": "Python 3 (ipykernel)",
   "language": "python",
   "name": "python3"
  },
  "language_info": {
   "codemirror_mode": {
    "name": "ipython",
    "version": 3
   },
   "file_extension": ".py",
   "mimetype": "text/x-python",
   "name": "python",
   "nbconvert_exporter": "python",
   "pygments_lexer": "ipython3",
   "version": "3.9.7"
  },
  "toc": {
   "base_numbering": 1,
   "nav_menu": {},
   "number_sections": true,
   "sideBar": true,
   "skip_h1_title": false,
   "title_cell": "Table of Contents",
   "title_sidebar": "Contents",
   "toc_cell": false,
   "toc_position": {
    "height": "calc(100% - 180px)",
    "left": "10px",
    "top": "150px",
    "width": "383.993px"
   },
   "toc_section_display": true,
   "toc_window_display": true
  },
  "varInspector": {
   "cols": {
    "lenName": 16,
    "lenType": 16,
    "lenVar": 40
   },
   "kernels_config": {
    "python": {
     "delete_cmd_postfix": "",
     "delete_cmd_prefix": "del ",
     "library": "var_list.py",
     "varRefreshCmd": "print(var_dic_list())"
    },
    "r": {
     "delete_cmd_postfix": ") ",
     "delete_cmd_prefix": "rm(",
     "library": "var_list.r",
     "varRefreshCmd": "cat(var_dic_list()) "
    }
   },
   "types_to_exclude": [
    "module",
    "function",
    "builtin_function_or_method",
    "instance",
    "_Feature"
   ],
   "window_display": false
  }
 },
 "nbformat": 4,
 "nbformat_minor": 4
}
